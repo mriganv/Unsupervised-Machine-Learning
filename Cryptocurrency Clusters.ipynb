{
 "cells": [
  {
   "cell_type": "code",
   "execution_count": 55,
   "metadata": {},
   "outputs": [],
   "source": [
    "import pandas as pd\n",
    "import numpy as np\n",
    "import matplotlib.pyplot as plt\n",
    "from sklearn.decomposition import PCA\n",
    "from sklearn.cluster import KMeans\n",
    "import plotly.express as px\n",
    "from sklearn.manifold import TSNE\n",
    "from sklearn.preprocessing import StandardScaler"
   ]
  },
  {
   "cell_type": "markdown",
   "metadata": {},
   "source": [
    "### Data Preparation"
   ]
  },
  {
   "cell_type": "code",
   "execution_count": 56,
   "metadata": {},
   "outputs": [],
   "source": [
    "crypto_data = pd.read_csv('crypto_data.csv', index_col=0)"
   ]
  },
  {
   "cell_type": "code",
   "execution_count": 57,
   "metadata": {},
   "outputs": [
    {
     "data": {
      "text/html": [
       "<div>\n",
       "<style scoped>\n",
       "    .dataframe tbody tr th:only-of-type {\n",
       "        vertical-align: middle;\n",
       "    }\n",
       "\n",
       "    .dataframe tbody tr th {\n",
       "        vertical-align: top;\n",
       "    }\n",
       "\n",
       "    .dataframe thead th {\n",
       "        text-align: right;\n",
       "    }\n",
       "</style>\n",
       "<table border=\"1\" class=\"dataframe\">\n",
       "  <thead>\n",
       "    <tr style=\"text-align: right;\">\n",
       "      <th></th>\n",
       "      <th>CoinName</th>\n",
       "      <th>Algorithm</th>\n",
       "      <th>IsTrading</th>\n",
       "      <th>ProofType</th>\n",
       "      <th>TotalCoinsMined</th>\n",
       "      <th>TotalCoinSupply</th>\n",
       "    </tr>\n",
       "  </thead>\n",
       "  <tbody>\n",
       "    <tr>\n",
       "      <th>42</th>\n",
       "      <td>42 Coin</td>\n",
       "      <td>Scrypt</td>\n",
       "      <td>True</td>\n",
       "      <td>PoW/PoS</td>\n",
       "      <td>4.199995e+01</td>\n",
       "      <td>42</td>\n",
       "    </tr>\n",
       "    <tr>\n",
       "      <th>365</th>\n",
       "      <td>365Coin</td>\n",
       "      <td>X11</td>\n",
       "      <td>True</td>\n",
       "      <td>PoW/PoS</td>\n",
       "      <td>NaN</td>\n",
       "      <td>2300000000</td>\n",
       "    </tr>\n",
       "    <tr>\n",
       "      <th>404</th>\n",
       "      <td>404Coin</td>\n",
       "      <td>Scrypt</td>\n",
       "      <td>True</td>\n",
       "      <td>PoW/PoS</td>\n",
       "      <td>1.055185e+09</td>\n",
       "      <td>532000000</td>\n",
       "    </tr>\n",
       "    <tr>\n",
       "      <th>611</th>\n",
       "      <td>SixEleven</td>\n",
       "      <td>SHA-256</td>\n",
       "      <td>True</td>\n",
       "      <td>PoW</td>\n",
       "      <td>NaN</td>\n",
       "      <td>611000</td>\n",
       "    </tr>\n",
       "    <tr>\n",
       "      <th>808</th>\n",
       "      <td>808</td>\n",
       "      <td>SHA-256</td>\n",
       "      <td>True</td>\n",
       "      <td>PoW/PoS</td>\n",
       "      <td>0.000000e+00</td>\n",
       "      <td>0</td>\n",
       "    </tr>\n",
       "    <tr>\n",
       "      <th>...</th>\n",
       "      <td>...</td>\n",
       "      <td>...</td>\n",
       "      <td>...</td>\n",
       "      <td>...</td>\n",
       "      <td>...</td>\n",
       "      <td>...</td>\n",
       "    </tr>\n",
       "    <tr>\n",
       "      <th>XBC</th>\n",
       "      <td>BitcoinPlus</td>\n",
       "      <td>Scrypt</td>\n",
       "      <td>True</td>\n",
       "      <td>PoS</td>\n",
       "      <td>1.283270e+05</td>\n",
       "      <td>1000000</td>\n",
       "    </tr>\n",
       "    <tr>\n",
       "      <th>DVTC</th>\n",
       "      <td>DivotyCoin</td>\n",
       "      <td>Scrypt</td>\n",
       "      <td>False</td>\n",
       "      <td>PoW/PoS</td>\n",
       "      <td>2.149121e+07</td>\n",
       "      <td>100000000</td>\n",
       "    </tr>\n",
       "    <tr>\n",
       "      <th>GIOT</th>\n",
       "      <td>Giotto Coin</td>\n",
       "      <td>Scrypt</td>\n",
       "      <td>False</td>\n",
       "      <td>PoW/PoS</td>\n",
       "      <td>NaN</td>\n",
       "      <td>233100000</td>\n",
       "    </tr>\n",
       "    <tr>\n",
       "      <th>OPSC</th>\n",
       "      <td>OpenSourceCoin</td>\n",
       "      <td>SHA-256</td>\n",
       "      <td>False</td>\n",
       "      <td>PoW/PoS</td>\n",
       "      <td>NaN</td>\n",
       "      <td>21000000</td>\n",
       "    </tr>\n",
       "    <tr>\n",
       "      <th>PUNK</th>\n",
       "      <td>SteamPunk</td>\n",
       "      <td>PoS</td>\n",
       "      <td>False</td>\n",
       "      <td>PoS</td>\n",
       "      <td>NaN</td>\n",
       "      <td>40000000</td>\n",
       "    </tr>\n",
       "  </tbody>\n",
       "</table>\n",
       "<p>1252 rows × 6 columns</p>\n",
       "</div>"
      ],
      "text/plain": [
       "            CoinName Algorithm  IsTrading ProofType  TotalCoinsMined  \\\n",
       "42           42 Coin    Scrypt       True   PoW/PoS     4.199995e+01   \n",
       "365          365Coin       X11       True   PoW/PoS              NaN   \n",
       "404          404Coin    Scrypt       True   PoW/PoS     1.055185e+09   \n",
       "611        SixEleven   SHA-256       True       PoW              NaN   \n",
       "808              808   SHA-256       True   PoW/PoS     0.000000e+00   \n",
       "...              ...       ...        ...       ...              ...   \n",
       "XBC      BitcoinPlus    Scrypt       True       PoS     1.283270e+05   \n",
       "DVTC      DivotyCoin    Scrypt      False   PoW/PoS     2.149121e+07   \n",
       "GIOT     Giotto Coin    Scrypt      False   PoW/PoS              NaN   \n",
       "OPSC  OpenSourceCoin   SHA-256      False   PoW/PoS              NaN   \n",
       "PUNK       SteamPunk       PoS      False       PoS              NaN   \n",
       "\n",
       "     TotalCoinSupply  \n",
       "42                42  \n",
       "365       2300000000  \n",
       "404        532000000  \n",
       "611           611000  \n",
       "808                0  \n",
       "...              ...  \n",
       "XBC          1000000  \n",
       "DVTC       100000000  \n",
       "GIOT       233100000  \n",
       "OPSC        21000000  \n",
       "PUNK        40000000  \n",
       "\n",
       "[1252 rows x 6 columns]"
      ]
     },
     "execution_count": 57,
     "metadata": {},
     "output_type": "execute_result"
    }
   ],
   "source": [
    "crypto_data"
   ]
  },
  {
   "cell_type": "code",
   "execution_count": 4,
   "metadata": {},
   "outputs": [
    {
     "data": {
      "text/plain": [
       "True     1144\n",
       "False     108\n",
       "Name: IsTrading, dtype: int64"
      ]
     },
     "execution_count": 4,
     "metadata": {},
     "output_type": "execute_result"
    }
   ],
   "source": [
    "crypto_data['IsTrading'].value_counts()"
   ]
  },
  {
   "cell_type": "code",
   "execution_count": 5,
   "metadata": {},
   "outputs": [],
   "source": [
    "crypto_data = crypto_data.loc[crypto_data['IsTrading'] == True]"
   ]
  },
  {
   "cell_type": "code",
   "execution_count": 6,
   "metadata": {},
   "outputs": [
    {
     "data": {
      "text/html": [
       "<div>\n",
       "<style scoped>\n",
       "    .dataframe tbody tr th:only-of-type {\n",
       "        vertical-align: middle;\n",
       "    }\n",
       "\n",
       "    .dataframe tbody tr th {\n",
       "        vertical-align: top;\n",
       "    }\n",
       "\n",
       "    .dataframe thead th {\n",
       "        text-align: right;\n",
       "    }\n",
       "</style>\n",
       "<table border=\"1\" class=\"dataframe\">\n",
       "  <thead>\n",
       "    <tr style=\"text-align: right;\">\n",
       "      <th></th>\n",
       "      <th>CoinName</th>\n",
       "      <th>Algorithm</th>\n",
       "      <th>IsTrading</th>\n",
       "      <th>ProofType</th>\n",
       "      <th>TotalCoinsMined</th>\n",
       "      <th>TotalCoinSupply</th>\n",
       "    </tr>\n",
       "  </thead>\n",
       "  <tbody>\n",
       "    <tr>\n",
       "      <th>42</th>\n",
       "      <td>42 Coin</td>\n",
       "      <td>Scrypt</td>\n",
       "      <td>True</td>\n",
       "      <td>PoW/PoS</td>\n",
       "      <td>4.199995e+01</td>\n",
       "      <td>42</td>\n",
       "    </tr>\n",
       "    <tr>\n",
       "      <th>365</th>\n",
       "      <td>365Coin</td>\n",
       "      <td>X11</td>\n",
       "      <td>True</td>\n",
       "      <td>PoW/PoS</td>\n",
       "      <td>NaN</td>\n",
       "      <td>2300000000</td>\n",
       "    </tr>\n",
       "    <tr>\n",
       "      <th>404</th>\n",
       "      <td>404Coin</td>\n",
       "      <td>Scrypt</td>\n",
       "      <td>True</td>\n",
       "      <td>PoW/PoS</td>\n",
       "      <td>1.055185e+09</td>\n",
       "      <td>532000000</td>\n",
       "    </tr>\n",
       "    <tr>\n",
       "      <th>611</th>\n",
       "      <td>SixEleven</td>\n",
       "      <td>SHA-256</td>\n",
       "      <td>True</td>\n",
       "      <td>PoW</td>\n",
       "      <td>NaN</td>\n",
       "      <td>611000</td>\n",
       "    </tr>\n",
       "    <tr>\n",
       "      <th>808</th>\n",
       "      <td>808</td>\n",
       "      <td>SHA-256</td>\n",
       "      <td>True</td>\n",
       "      <td>PoW/PoS</td>\n",
       "      <td>0.000000e+00</td>\n",
       "      <td>0</td>\n",
       "    </tr>\n",
       "    <tr>\n",
       "      <th>...</th>\n",
       "      <td>...</td>\n",
       "      <td>...</td>\n",
       "      <td>...</td>\n",
       "      <td>...</td>\n",
       "      <td>...</td>\n",
       "      <td>...</td>\n",
       "    </tr>\n",
       "    <tr>\n",
       "      <th>SERO</th>\n",
       "      <td>Super Zero</td>\n",
       "      <td>Ethash</td>\n",
       "      <td>True</td>\n",
       "      <td>PoW</td>\n",
       "      <td>NaN</td>\n",
       "      <td>1000000000</td>\n",
       "    </tr>\n",
       "    <tr>\n",
       "      <th>UOS</th>\n",
       "      <td>UOS</td>\n",
       "      <td>SHA-256</td>\n",
       "      <td>True</td>\n",
       "      <td>DPoI</td>\n",
       "      <td>NaN</td>\n",
       "      <td>1000000000</td>\n",
       "    </tr>\n",
       "    <tr>\n",
       "      <th>BDX</th>\n",
       "      <td>Beldex</td>\n",
       "      <td>CryptoNight</td>\n",
       "      <td>True</td>\n",
       "      <td>PoW</td>\n",
       "      <td>9.802226e+08</td>\n",
       "      <td>1400222610</td>\n",
       "    </tr>\n",
       "    <tr>\n",
       "      <th>ZEN</th>\n",
       "      <td>Horizen</td>\n",
       "      <td>Equihash</td>\n",
       "      <td>True</td>\n",
       "      <td>PoW</td>\n",
       "      <td>7.296538e+06</td>\n",
       "      <td>21000000</td>\n",
       "    </tr>\n",
       "    <tr>\n",
       "      <th>XBC</th>\n",
       "      <td>BitcoinPlus</td>\n",
       "      <td>Scrypt</td>\n",
       "      <td>True</td>\n",
       "      <td>PoS</td>\n",
       "      <td>1.283270e+05</td>\n",
       "      <td>1000000</td>\n",
       "    </tr>\n",
       "  </tbody>\n",
       "</table>\n",
       "<p>1144 rows × 6 columns</p>\n",
       "</div>"
      ],
      "text/plain": [
       "         CoinName    Algorithm  IsTrading ProofType  TotalCoinsMined  \\\n",
       "42        42 Coin       Scrypt       True   PoW/PoS     4.199995e+01   \n",
       "365       365Coin          X11       True   PoW/PoS              NaN   \n",
       "404       404Coin       Scrypt       True   PoW/PoS     1.055185e+09   \n",
       "611     SixEleven      SHA-256       True       PoW              NaN   \n",
       "808           808      SHA-256       True   PoW/PoS     0.000000e+00   \n",
       "...           ...          ...        ...       ...              ...   \n",
       "SERO   Super Zero       Ethash       True       PoW              NaN   \n",
       "UOS           UOS      SHA-256       True      DPoI              NaN   \n",
       "BDX        Beldex  CryptoNight       True       PoW     9.802226e+08   \n",
       "ZEN       Horizen     Equihash       True       PoW     7.296538e+06   \n",
       "XBC   BitcoinPlus       Scrypt       True       PoS     1.283270e+05   \n",
       "\n",
       "     TotalCoinSupply  \n",
       "42                42  \n",
       "365       2300000000  \n",
       "404        532000000  \n",
       "611           611000  \n",
       "808                0  \n",
       "...              ...  \n",
       "SERO      1000000000  \n",
       "UOS       1000000000  \n",
       "BDX       1400222610  \n",
       "ZEN         21000000  \n",
       "XBC          1000000  \n",
       "\n",
       "[1144 rows x 6 columns]"
      ]
     },
     "execution_count": 6,
     "metadata": {},
     "output_type": "execute_result"
    }
   ],
   "source": [
    "crypto_data"
   ]
  },
  {
   "cell_type": "code",
   "execution_count": 7,
   "metadata": {},
   "outputs": [],
   "source": [
    "crypto_data = crypto_data.drop(['IsTrading'], axis=1)"
   ]
  },
  {
   "cell_type": "code",
   "execution_count": 8,
   "metadata": {},
   "outputs": [
    {
     "data": {
      "text/plain": [
       "459"
      ]
     },
     "execution_count": 8,
     "metadata": {},
     "output_type": "execute_result"
    }
   ],
   "source": [
    "crypto_data.isnull().values.ravel().sum()"
   ]
  },
  {
   "cell_type": "code",
   "execution_count": 9,
   "metadata": {},
   "outputs": [],
   "source": [
    "crypto_data = crypto_data.dropna(how='any',axis=0) "
   ]
  },
  {
   "cell_type": "code",
   "execution_count": 43,
   "metadata": {},
   "outputs": [],
   "source": [
    "#crypto_data"
   ]
  },
  {
   "cell_type": "code",
   "execution_count": 11,
   "metadata": {},
   "outputs": [
    {
     "data": {
      "text/plain": [
       "CoinName            object\n",
       "Algorithm           object\n",
       "ProofType           object\n",
       "TotalCoinsMined    float64\n",
       "TotalCoinSupply     object\n",
       "dtype: object"
      ]
     },
     "execution_count": 11,
     "metadata": {},
     "output_type": "execute_result"
    }
   ],
   "source": [
    "crypto_data.dtypes"
   ]
  },
  {
   "cell_type": "code",
   "execution_count": 12,
   "metadata": {},
   "outputs": [],
   "source": [
    "crypto_data = crypto_data.loc[crypto_data['TotalCoinsMined'] > 0]"
   ]
  },
  {
   "cell_type": "code",
   "execution_count": 44,
   "metadata": {},
   "outputs": [],
   "source": [
    "#crypto_data"
   ]
  },
  {
   "cell_type": "code",
   "execution_count": 14,
   "metadata": {},
   "outputs": [
    {
     "data": {
      "text/html": [
       "<div>\n",
       "<style scoped>\n",
       "    .dataframe tbody tr th:only-of-type {\n",
       "        vertical-align: middle;\n",
       "    }\n",
       "\n",
       "    .dataframe tbody tr th {\n",
       "        vertical-align: top;\n",
       "    }\n",
       "\n",
       "    .dataframe thead th {\n",
       "        text-align: right;\n",
       "    }\n",
       "</style>\n",
       "<table border=\"1\" class=\"dataframe\">\n",
       "  <thead>\n",
       "    <tr style=\"text-align: right;\">\n",
       "      <th></th>\n",
       "      <th>Algorithm</th>\n",
       "      <th>ProofType</th>\n",
       "      <th>TotalCoinsMined</th>\n",
       "      <th>TotalCoinSupply</th>\n",
       "    </tr>\n",
       "  </thead>\n",
       "  <tbody>\n",
       "    <tr>\n",
       "      <th>42</th>\n",
       "      <td>Scrypt</td>\n",
       "      <td>PoW/PoS</td>\n",
       "      <td>4.199995e+01</td>\n",
       "      <td>42</td>\n",
       "    </tr>\n",
       "    <tr>\n",
       "      <th>404</th>\n",
       "      <td>Scrypt</td>\n",
       "      <td>PoW/PoS</td>\n",
       "      <td>1.055185e+09</td>\n",
       "      <td>532000000</td>\n",
       "    </tr>\n",
       "    <tr>\n",
       "      <th>1337</th>\n",
       "      <td>X13</td>\n",
       "      <td>PoW/PoS</td>\n",
       "      <td>2.927942e+10</td>\n",
       "      <td>314159265359</td>\n",
       "    </tr>\n",
       "    <tr>\n",
       "      <th>BTC</th>\n",
       "      <td>SHA-256</td>\n",
       "      <td>PoW</td>\n",
       "      <td>1.792718e+07</td>\n",
       "      <td>21000000</td>\n",
       "    </tr>\n",
       "    <tr>\n",
       "      <th>ETH</th>\n",
       "      <td>Ethash</td>\n",
       "      <td>PoW</td>\n",
       "      <td>1.076842e+08</td>\n",
       "      <td>0</td>\n",
       "    </tr>\n",
       "    <tr>\n",
       "      <th>...</th>\n",
       "      <td>...</td>\n",
       "      <td>...</td>\n",
       "      <td>...</td>\n",
       "      <td>...</td>\n",
       "    </tr>\n",
       "    <tr>\n",
       "      <th>ZEPH</th>\n",
       "      <td>SHA-256</td>\n",
       "      <td>DPoS</td>\n",
       "      <td>2.000000e+09</td>\n",
       "      <td>2000000000</td>\n",
       "    </tr>\n",
       "    <tr>\n",
       "      <th>GAP</th>\n",
       "      <td>Scrypt</td>\n",
       "      <td>PoW/PoS</td>\n",
       "      <td>1.493105e+07</td>\n",
       "      <td>250000000</td>\n",
       "    </tr>\n",
       "    <tr>\n",
       "      <th>BDX</th>\n",
       "      <td>CryptoNight</td>\n",
       "      <td>PoW</td>\n",
       "      <td>9.802226e+08</td>\n",
       "      <td>1400222610</td>\n",
       "    </tr>\n",
       "    <tr>\n",
       "      <th>ZEN</th>\n",
       "      <td>Equihash</td>\n",
       "      <td>PoW</td>\n",
       "      <td>7.296538e+06</td>\n",
       "      <td>21000000</td>\n",
       "    </tr>\n",
       "    <tr>\n",
       "      <th>XBC</th>\n",
       "      <td>Scrypt</td>\n",
       "      <td>PoS</td>\n",
       "      <td>1.283270e+05</td>\n",
       "      <td>1000000</td>\n",
       "    </tr>\n",
       "  </tbody>\n",
       "</table>\n",
       "<p>532 rows × 4 columns</p>\n",
       "</div>"
      ],
      "text/plain": [
       "        Algorithm ProofType  TotalCoinsMined TotalCoinSupply\n",
       "42         Scrypt   PoW/PoS     4.199995e+01              42\n",
       "404        Scrypt   PoW/PoS     1.055185e+09       532000000\n",
       "1337          X13   PoW/PoS     2.927942e+10    314159265359\n",
       "BTC       SHA-256       PoW     1.792718e+07        21000000\n",
       "ETH        Ethash       PoW     1.076842e+08               0\n",
       "...           ...       ...              ...             ...\n",
       "ZEPH      SHA-256      DPoS     2.000000e+09      2000000000\n",
       "GAP        Scrypt   PoW/PoS     1.493105e+07       250000000\n",
       "BDX   CryptoNight       PoW     9.802226e+08      1400222610\n",
       "ZEN      Equihash       PoW     7.296538e+06        21000000\n",
       "XBC        Scrypt       PoS     1.283270e+05         1000000\n",
       "\n",
       "[532 rows x 4 columns]"
      ]
     },
     "execution_count": 14,
     "metadata": {},
     "output_type": "execute_result"
    }
   ],
   "source": [
    "crypto_data_df= crypto_data.drop(['CoinName'], axis=1)\n",
    "crypto_data_df"
   ]
  },
  {
   "cell_type": "markdown",
   "metadata": {},
   "source": [
    "### Dimensionality Reduction"
   ]
  },
  {
   "cell_type": "code",
   "execution_count": 15,
   "metadata": {},
   "outputs": [
    {
     "data": {
      "text/html": [
       "<div>\n",
       "<style scoped>\n",
       "    .dataframe tbody tr th:only-of-type {\n",
       "        vertical-align: middle;\n",
       "    }\n",
       "\n",
       "    .dataframe tbody tr th {\n",
       "        vertical-align: top;\n",
       "    }\n",
       "\n",
       "    .dataframe thead th {\n",
       "        text-align: right;\n",
       "    }\n",
       "</style>\n",
       "<table border=\"1\" class=\"dataframe\">\n",
       "  <thead>\n",
       "    <tr style=\"text-align: right;\">\n",
       "      <th></th>\n",
       "      <th>TotalCoinsMined</th>\n",
       "      <th>TotalCoinSupply</th>\n",
       "      <th>Algorithm_1GB AES Pattern Search</th>\n",
       "      <th>Algorithm_536</th>\n",
       "      <th>Algorithm_Argon2d</th>\n",
       "      <th>Algorithm_BLAKE256</th>\n",
       "      <th>Algorithm_Blake</th>\n",
       "      <th>Algorithm_Blake2S</th>\n",
       "      <th>Algorithm_Blake2b</th>\n",
       "      <th>Algorithm_C11</th>\n",
       "      <th>...</th>\n",
       "      <th>ProofType_PoW/PoS</th>\n",
       "      <th>ProofType_PoW/PoS</th>\n",
       "      <th>ProofType_PoW/PoW</th>\n",
       "      <th>ProofType_PoW/nPoS</th>\n",
       "      <th>ProofType_Pos</th>\n",
       "      <th>ProofType_Proof of Authority</th>\n",
       "      <th>ProofType_Proof of Trust</th>\n",
       "      <th>ProofType_TPoS</th>\n",
       "      <th>ProofType_Zero-Knowledge Proof</th>\n",
       "      <th>ProofType_dPoW/PoW</th>\n",
       "    </tr>\n",
       "  </thead>\n",
       "  <tbody>\n",
       "    <tr>\n",
       "      <th>42</th>\n",
       "      <td>4.199995e+01</td>\n",
       "      <td>42</td>\n",
       "      <td>0</td>\n",
       "      <td>0</td>\n",
       "      <td>0</td>\n",
       "      <td>0</td>\n",
       "      <td>0</td>\n",
       "      <td>0</td>\n",
       "      <td>0</td>\n",
       "      <td>0</td>\n",
       "      <td>...</td>\n",
       "      <td>1</td>\n",
       "      <td>0</td>\n",
       "      <td>0</td>\n",
       "      <td>0</td>\n",
       "      <td>0</td>\n",
       "      <td>0</td>\n",
       "      <td>0</td>\n",
       "      <td>0</td>\n",
       "      <td>0</td>\n",
       "      <td>0</td>\n",
       "    </tr>\n",
       "    <tr>\n",
       "      <th>404</th>\n",
       "      <td>1.055185e+09</td>\n",
       "      <td>532000000</td>\n",
       "      <td>0</td>\n",
       "      <td>0</td>\n",
       "      <td>0</td>\n",
       "      <td>0</td>\n",
       "      <td>0</td>\n",
       "      <td>0</td>\n",
       "      <td>0</td>\n",
       "      <td>0</td>\n",
       "      <td>...</td>\n",
       "      <td>1</td>\n",
       "      <td>0</td>\n",
       "      <td>0</td>\n",
       "      <td>0</td>\n",
       "      <td>0</td>\n",
       "      <td>0</td>\n",
       "      <td>0</td>\n",
       "      <td>0</td>\n",
       "      <td>0</td>\n",
       "      <td>0</td>\n",
       "    </tr>\n",
       "    <tr>\n",
       "      <th>1337</th>\n",
       "      <td>2.927942e+10</td>\n",
       "      <td>314159265359</td>\n",
       "      <td>0</td>\n",
       "      <td>0</td>\n",
       "      <td>0</td>\n",
       "      <td>0</td>\n",
       "      <td>0</td>\n",
       "      <td>0</td>\n",
       "      <td>0</td>\n",
       "      <td>0</td>\n",
       "      <td>...</td>\n",
       "      <td>1</td>\n",
       "      <td>0</td>\n",
       "      <td>0</td>\n",
       "      <td>0</td>\n",
       "      <td>0</td>\n",
       "      <td>0</td>\n",
       "      <td>0</td>\n",
       "      <td>0</td>\n",
       "      <td>0</td>\n",
       "      <td>0</td>\n",
       "    </tr>\n",
       "    <tr>\n",
       "      <th>BTC</th>\n",
       "      <td>1.792718e+07</td>\n",
       "      <td>21000000</td>\n",
       "      <td>0</td>\n",
       "      <td>0</td>\n",
       "      <td>0</td>\n",
       "      <td>0</td>\n",
       "      <td>0</td>\n",
       "      <td>0</td>\n",
       "      <td>0</td>\n",
       "      <td>0</td>\n",
       "      <td>...</td>\n",
       "      <td>0</td>\n",
       "      <td>0</td>\n",
       "      <td>0</td>\n",
       "      <td>0</td>\n",
       "      <td>0</td>\n",
       "      <td>0</td>\n",
       "      <td>0</td>\n",
       "      <td>0</td>\n",
       "      <td>0</td>\n",
       "      <td>0</td>\n",
       "    </tr>\n",
       "    <tr>\n",
       "      <th>ETH</th>\n",
       "      <td>1.076842e+08</td>\n",
       "      <td>0</td>\n",
       "      <td>0</td>\n",
       "      <td>0</td>\n",
       "      <td>0</td>\n",
       "      <td>0</td>\n",
       "      <td>0</td>\n",
       "      <td>0</td>\n",
       "      <td>0</td>\n",
       "      <td>0</td>\n",
       "      <td>...</td>\n",
       "      <td>0</td>\n",
       "      <td>0</td>\n",
       "      <td>0</td>\n",
       "      <td>0</td>\n",
       "      <td>0</td>\n",
       "      <td>0</td>\n",
       "      <td>0</td>\n",
       "      <td>0</td>\n",
       "      <td>0</td>\n",
       "      <td>0</td>\n",
       "    </tr>\n",
       "    <tr>\n",
       "      <th>...</th>\n",
       "      <td>...</td>\n",
       "      <td>...</td>\n",
       "      <td>...</td>\n",
       "      <td>...</td>\n",
       "      <td>...</td>\n",
       "      <td>...</td>\n",
       "      <td>...</td>\n",
       "      <td>...</td>\n",
       "      <td>...</td>\n",
       "      <td>...</td>\n",
       "      <td>...</td>\n",
       "      <td>...</td>\n",
       "      <td>...</td>\n",
       "      <td>...</td>\n",
       "      <td>...</td>\n",
       "      <td>...</td>\n",
       "      <td>...</td>\n",
       "      <td>...</td>\n",
       "      <td>...</td>\n",
       "      <td>...</td>\n",
       "      <td>...</td>\n",
       "    </tr>\n",
       "    <tr>\n",
       "      <th>ZEPH</th>\n",
       "      <td>2.000000e+09</td>\n",
       "      <td>2000000000</td>\n",
       "      <td>0</td>\n",
       "      <td>0</td>\n",
       "      <td>0</td>\n",
       "      <td>0</td>\n",
       "      <td>0</td>\n",
       "      <td>0</td>\n",
       "      <td>0</td>\n",
       "      <td>0</td>\n",
       "      <td>...</td>\n",
       "      <td>0</td>\n",
       "      <td>0</td>\n",
       "      <td>0</td>\n",
       "      <td>0</td>\n",
       "      <td>0</td>\n",
       "      <td>0</td>\n",
       "      <td>0</td>\n",
       "      <td>0</td>\n",
       "      <td>0</td>\n",
       "      <td>0</td>\n",
       "    </tr>\n",
       "    <tr>\n",
       "      <th>GAP</th>\n",
       "      <td>1.493105e+07</td>\n",
       "      <td>250000000</td>\n",
       "      <td>0</td>\n",
       "      <td>0</td>\n",
       "      <td>0</td>\n",
       "      <td>0</td>\n",
       "      <td>0</td>\n",
       "      <td>0</td>\n",
       "      <td>0</td>\n",
       "      <td>0</td>\n",
       "      <td>...</td>\n",
       "      <td>1</td>\n",
       "      <td>0</td>\n",
       "      <td>0</td>\n",
       "      <td>0</td>\n",
       "      <td>0</td>\n",
       "      <td>0</td>\n",
       "      <td>0</td>\n",
       "      <td>0</td>\n",
       "      <td>0</td>\n",
       "      <td>0</td>\n",
       "    </tr>\n",
       "    <tr>\n",
       "      <th>BDX</th>\n",
       "      <td>9.802226e+08</td>\n",
       "      <td>1400222610</td>\n",
       "      <td>0</td>\n",
       "      <td>0</td>\n",
       "      <td>0</td>\n",
       "      <td>0</td>\n",
       "      <td>0</td>\n",
       "      <td>0</td>\n",
       "      <td>0</td>\n",
       "      <td>0</td>\n",
       "      <td>...</td>\n",
       "      <td>0</td>\n",
       "      <td>0</td>\n",
       "      <td>0</td>\n",
       "      <td>0</td>\n",
       "      <td>0</td>\n",
       "      <td>0</td>\n",
       "      <td>0</td>\n",
       "      <td>0</td>\n",
       "      <td>0</td>\n",
       "      <td>0</td>\n",
       "    </tr>\n",
       "    <tr>\n",
       "      <th>ZEN</th>\n",
       "      <td>7.296538e+06</td>\n",
       "      <td>21000000</td>\n",
       "      <td>0</td>\n",
       "      <td>0</td>\n",
       "      <td>0</td>\n",
       "      <td>0</td>\n",
       "      <td>0</td>\n",
       "      <td>0</td>\n",
       "      <td>0</td>\n",
       "      <td>0</td>\n",
       "      <td>...</td>\n",
       "      <td>0</td>\n",
       "      <td>0</td>\n",
       "      <td>0</td>\n",
       "      <td>0</td>\n",
       "      <td>0</td>\n",
       "      <td>0</td>\n",
       "      <td>0</td>\n",
       "      <td>0</td>\n",
       "      <td>0</td>\n",
       "      <td>0</td>\n",
       "    </tr>\n",
       "    <tr>\n",
       "      <th>XBC</th>\n",
       "      <td>1.283270e+05</td>\n",
       "      <td>1000000</td>\n",
       "      <td>0</td>\n",
       "      <td>0</td>\n",
       "      <td>0</td>\n",
       "      <td>0</td>\n",
       "      <td>0</td>\n",
       "      <td>0</td>\n",
       "      <td>0</td>\n",
       "      <td>0</td>\n",
       "      <td>...</td>\n",
       "      <td>0</td>\n",
       "      <td>0</td>\n",
       "      <td>0</td>\n",
       "      <td>0</td>\n",
       "      <td>0</td>\n",
       "      <td>0</td>\n",
       "      <td>0</td>\n",
       "      <td>0</td>\n",
       "      <td>0</td>\n",
       "      <td>0</td>\n",
       "    </tr>\n",
       "  </tbody>\n",
       "</table>\n",
       "<p>532 rows × 98 columns</p>\n",
       "</div>"
      ],
      "text/plain": [
       "      TotalCoinsMined TotalCoinSupply  Algorithm_1GB AES Pattern Search  \\\n",
       "42       4.199995e+01              42                                 0   \n",
       "404      1.055185e+09       532000000                                 0   \n",
       "1337     2.927942e+10    314159265359                                 0   \n",
       "BTC      1.792718e+07        21000000                                 0   \n",
       "ETH      1.076842e+08               0                                 0   \n",
       "...               ...             ...                               ...   \n",
       "ZEPH     2.000000e+09      2000000000                                 0   \n",
       "GAP      1.493105e+07       250000000                                 0   \n",
       "BDX      9.802226e+08      1400222610                                 0   \n",
       "ZEN      7.296538e+06        21000000                                 0   \n",
       "XBC      1.283270e+05         1000000                                 0   \n",
       "\n",
       "      Algorithm_536  Algorithm_Argon2d  Algorithm_BLAKE256  Algorithm_Blake  \\\n",
       "42                0                  0                   0                0   \n",
       "404               0                  0                   0                0   \n",
       "1337              0                  0                   0                0   \n",
       "BTC               0                  0                   0                0   \n",
       "ETH               0                  0                   0                0   \n",
       "...             ...                ...                 ...              ...   \n",
       "ZEPH              0                  0                   0                0   \n",
       "GAP               0                  0                   0                0   \n",
       "BDX               0                  0                   0                0   \n",
       "ZEN               0                  0                   0                0   \n",
       "XBC               0                  0                   0                0   \n",
       "\n",
       "      Algorithm_Blake2S  Algorithm_Blake2b  Algorithm_C11  ...  \\\n",
       "42                    0                  0              0  ...   \n",
       "404                   0                  0              0  ...   \n",
       "1337                  0                  0              0  ...   \n",
       "BTC                   0                  0              0  ...   \n",
       "ETH                   0                  0              0  ...   \n",
       "...                 ...                ...            ...  ...   \n",
       "ZEPH                  0                  0              0  ...   \n",
       "GAP                   0                  0              0  ...   \n",
       "BDX                   0                  0              0  ...   \n",
       "ZEN                   0                  0              0  ...   \n",
       "XBC                   0                  0              0  ...   \n",
       "\n",
       "      ProofType_PoW/PoS  ProofType_PoW/PoS   ProofType_PoW/PoW  \\\n",
       "42                    1                   0                  0   \n",
       "404                   1                   0                  0   \n",
       "1337                  1                   0                  0   \n",
       "BTC                   0                   0                  0   \n",
       "ETH                   0                   0                  0   \n",
       "...                 ...                 ...                ...   \n",
       "ZEPH                  0                   0                  0   \n",
       "GAP                   1                   0                  0   \n",
       "BDX                   0                   0                  0   \n",
       "ZEN                   0                   0                  0   \n",
       "XBC                   0                   0                  0   \n",
       "\n",
       "      ProofType_PoW/nPoS  ProofType_Pos  ProofType_Proof of Authority  \\\n",
       "42                     0              0                             0   \n",
       "404                    0              0                             0   \n",
       "1337                   0              0                             0   \n",
       "BTC                    0              0                             0   \n",
       "ETH                    0              0                             0   \n",
       "...                  ...            ...                           ...   \n",
       "ZEPH                   0              0                             0   \n",
       "GAP                    0              0                             0   \n",
       "BDX                    0              0                             0   \n",
       "ZEN                    0              0                             0   \n",
       "XBC                    0              0                             0   \n",
       "\n",
       "      ProofType_Proof of Trust  ProofType_TPoS  \\\n",
       "42                           0               0   \n",
       "404                          0               0   \n",
       "1337                         0               0   \n",
       "BTC                          0               0   \n",
       "ETH                          0               0   \n",
       "...                        ...             ...   \n",
       "ZEPH                         0               0   \n",
       "GAP                          0               0   \n",
       "BDX                          0               0   \n",
       "ZEN                          0               0   \n",
       "XBC                          0               0   \n",
       "\n",
       "      ProofType_Zero-Knowledge Proof  ProofType_dPoW/PoW  \n",
       "42                                 0                   0  \n",
       "404                                0                   0  \n",
       "1337                               0                   0  \n",
       "BTC                                0                   0  \n",
       "ETH                                0                   0  \n",
       "...                              ...                 ...  \n",
       "ZEPH                               0                   0  \n",
       "GAP                                0                   0  \n",
       "BDX                                0                   0  \n",
       "ZEN                                0                   0  \n",
       "XBC                                0                   0  \n",
       "\n",
       "[532 rows x 98 columns]"
      ]
     },
     "execution_count": 15,
     "metadata": {},
     "output_type": "execute_result"
    }
   ],
   "source": [
    "crypto_dummies = pd.get_dummies(data=crypto_data_df, columns=['Algorithm', 'ProofType'])\n",
    "crypto_dummies"
   ]
  },
  {
   "cell_type": "code",
   "execution_count": 51,
   "metadata": {},
   "outputs": [],
   "source": [
    "# Create a StandardScaler instances\n",
    "crypto_dummies_scaled= StandardScaler().fit_transform(crypto_dummies)"
   ]
  },
  {
   "cell_type": "code",
   "execution_count": 17,
   "metadata": {},
   "outputs": [
    {
     "data": {
      "text/plain": [
       "array([[-0.34600318,  0.97900453, -0.48206654],\n",
       "       [-0.32934864,  0.97928321, -0.48245357],\n",
       "       [ 2.31547379,  1.77302078, -0.76883078],\n",
       "       ...,\n",
       "       [ 0.33353108, -2.31772253,  0.39514947],\n",
       "       [-0.13845185, -1.82993742,  0.27944197],\n",
       "       [-0.30208235,  0.77598409, -0.18675949]])"
      ]
     },
     "execution_count": 17,
     "metadata": {},
     "output_type": "execute_result"
    }
   ],
   "source": [
    "# Applying PCA to reduce dimensions \n",
    "\n",
    "# Initialize PCA model\n",
    "pca = PCA(n_components=3)\n",
    "\n",
    "# Get three principal components for the crypto dummies data.\n",
    "crypto_pca = pca.fit_transform(crypto_dummies_scaled )\n",
    "crypto_pca\n"
   ]
  },
  {
   "cell_type": "code",
   "execution_count": 18,
   "metadata": {},
   "outputs": [
    {
     "data": {
      "text/html": [
       "<div>\n",
       "<style scoped>\n",
       "    .dataframe tbody tr th:only-of-type {\n",
       "        vertical-align: middle;\n",
       "    }\n",
       "\n",
       "    .dataframe tbody tr th {\n",
       "        vertical-align: top;\n",
       "    }\n",
       "\n",
       "    .dataframe thead th {\n",
       "        text-align: right;\n",
       "    }\n",
       "</style>\n",
       "<table border=\"1\" class=\"dataframe\">\n",
       "  <thead>\n",
       "    <tr style=\"text-align: right;\">\n",
       "      <th></th>\n",
       "      <th>principal component 1</th>\n",
       "      <th>principal component 2</th>\n",
       "      <th>principal component 3</th>\n",
       "    </tr>\n",
       "  </thead>\n",
       "  <tbody>\n",
       "    <tr>\n",
       "      <th>42</th>\n",
       "      <td>-0.346003</td>\n",
       "      <td>0.979005</td>\n",
       "      <td>-0.482067</td>\n",
       "    </tr>\n",
       "    <tr>\n",
       "      <th>404</th>\n",
       "      <td>-0.329349</td>\n",
       "      <td>0.979283</td>\n",
       "      <td>-0.482454</td>\n",
       "    </tr>\n",
       "    <tr>\n",
       "      <th>1337</th>\n",
       "      <td>2.315474</td>\n",
       "      <td>1.773021</td>\n",
       "      <td>-0.768831</td>\n",
       "    </tr>\n",
       "    <tr>\n",
       "      <th>BTC</th>\n",
       "      <td>-0.138659</td>\n",
       "      <td>-1.339889</td>\n",
       "      <td>0.174968</td>\n",
       "    </tr>\n",
       "    <tr>\n",
       "      <th>ETH</th>\n",
       "      <td>-0.151073</td>\n",
       "      <td>-2.003434</td>\n",
       "      <td>0.397014</td>\n",
       "    </tr>\n",
       "  </tbody>\n",
       "</table>\n",
       "</div>"
      ],
      "text/plain": [
       "      principal component 1  principal component 2  principal component 3\n",
       "42                -0.346003               0.979005              -0.482067\n",
       "404               -0.329349               0.979283              -0.482454\n",
       "1337               2.315474               1.773021              -0.768831\n",
       "BTC               -0.138659              -1.339889               0.174968\n",
       "ETH               -0.151073              -2.003434               0.397014"
      ]
     },
     "execution_count": 18,
     "metadata": {},
     "output_type": "execute_result"
    }
   ],
   "source": [
    "# Transform PCA data to a DataFrame\n",
    "crypto_pca_df= pd.DataFrame(\n",
    "    data=crypto_pca, columns=[\"principal component 1\", \"principal component 2\",\"principal component 3\" ], index=crypto_data.index\n",
    ")\n",
    "crypto_pca_df.head()"
   ]
  },
  {
   "cell_type": "code",
   "execution_count": 19,
   "metadata": {},
   "outputs": [
    {
     "data": {
      "text/plain": [
       "array([0.02793108, 0.02139132, 0.02048156])"
      ]
     },
     "execution_count": 19,
     "metadata": {},
     "output_type": "execute_result"
    }
   ],
   "source": [
    "# Fetch the explained variance\n",
    "pca.explained_variance_ratio_"
   ]
  },
  {
   "cell_type": "code",
   "execution_count": 20,
   "metadata": {},
   "outputs": [],
   "source": [
    "tsne = TSNE(learning_rate=100)\n",
    "\n",
    "transformed_features = tsne.fit_transform(crypto_pca_df)"
   ]
  },
  {
   "cell_type": "code",
   "execution_count": 21,
   "metadata": {},
   "outputs": [
    {
     "data": {
      "text/plain": [
       "(532, 2)"
      ]
     },
     "execution_count": 21,
     "metadata": {},
     "output_type": "execute_result"
    }
   ],
   "source": [
    "transformed_features.shape"
   ]
  },
  {
   "cell_type": "code",
   "execution_count": 22,
   "metadata": {},
   "outputs": [
    {
     "data": {
      "image/png": "[encoded data removed]",
      "text/plain": [
       "<Figure size 432x288 with 1 Axes>"
      ]
     },
     "metadata": {
      "needs_background": "light"
     },
     "output_type": "display_data"
    }
   ],
   "source": [
    "# Plot the results\n",
    "plt.scatter(transformed_features[:,0], transformed_features[:,1])\n",
    "plt.show()"
   ]
  },
  {
   "cell_type": "markdown",
   "metadata": {},
   "source": [
    "### Cluster Analysis with k-Means"
   ]
  },
  {
   "cell_type": "code",
   "execution_count": 63,
   "metadata": {},
   "outputs": [
    {
     "data": {
      "image/png": "[encoded data removed]",
      "text/plain": [
       "<Figure size 432x288 with 1 Axes>"
      ]
     },
     "metadata": {
      "needs_background": "light"
     },
     "output_type": "display_data"
    }
   ],
   "source": [
    "inertia = []\n",
    "# Same as k = list(range(1, 11))\n",
    "k = [1,2,3,4,5,6,7,8,9,10]\n",
    "\n",
    "\n",
    "# Looking for the best k\n",
    "for i in k:\n",
    "    km = KMeans(n_clusters=i, random_state=0)\n",
    "    km.fit(crypto_pca_df)\n",
    "    inertia.append(km.inertia_)\n",
    "    # Define a DataFrame to plot the Elbow Curve using hvPlot\n",
    "elbow_data = {\"k\": k, \"inertia\": inertia}\n",
    "df_elbow = pd.DataFrame(elbow_data)\n",
    "\n",
    "plt.plot(df_elbow['k'], df_elbow['inertia'])\n",
    "plt.xticks(range(1,11))\n",
    "plt.xlabel('Number of clusters')\n",
    "plt.ylabel('Inertia')\n",
    "plt.title('Elbow Curve')\n",
    "plt.show()"
   ]
  },
  {
   "cell_type": "markdown",
   "metadata": {},
   "source": [
    "#### The best k value appears to be 4 so we would conclude on an output of 4 clusters to categorize the crytocurrencies."
   ]
  },
  {
   "cell_type": "code",
   "execution_count": 24,
   "metadata": {},
   "outputs": [],
   "source": [
    "def get_clusters(k, data):\n",
    "    # Initialize the K-Means model\n",
    "    model = KMeans(n_clusters=k, random_state=0)\n",
    "\n",
    "    # Train the model\n",
    "    model.fit(data)\n",
    "\n",
    "    # Predict clusters\n",
    "    predictions = model.predict(data)\n",
    "\n",
    "    # Create return DataFrame with predicted clusters\n",
    "    data[\"class\"] = model.labels_\n",
    "\n",
    "    return data"
   ]
  },
  {
   "cell_type": "code",
   "execution_count": 46,
   "metadata": {},
   "outputs": [],
   "source": [
    "clusters = get_clusters(4, crypto_pca_df)"
   ]
  },
  {
   "cell_type": "code",
   "execution_count": 47,
   "metadata": {},
   "outputs": [
    {
     "data": {
      "text/html": [
       "<div>\n",
       "<style scoped>\n",
       "    .dataframe tbody tr th:only-of-type {\n",
       "        vertical-align: middle;\n",
       "    }\n",
       "\n",
       "    .dataframe tbody tr th {\n",
       "        vertical-align: top;\n",
       "    }\n",
       "\n",
       "    .dataframe thead th {\n",
       "        text-align: right;\n",
       "    }\n",
       "</style>\n",
       "<table border=\"1\" class=\"dataframe\">\n",
       "  <thead>\n",
       "    <tr style=\"text-align: right;\">\n",
       "      <th></th>\n",
       "      <th>principal component 1</th>\n",
       "      <th>principal component 2</th>\n",
       "      <th>principal component 3</th>\n",
       "      <th>class</th>\n",
       "    </tr>\n",
       "  </thead>\n",
       "  <tbody>\n",
       "    <tr>\n",
       "      <th>42</th>\n",
       "      <td>-0.346003</td>\n",
       "      <td>0.979005</td>\n",
       "      <td>-0.482067</td>\n",
       "      <td>0</td>\n",
       "    </tr>\n",
       "    <tr>\n",
       "      <th>404</th>\n",
       "      <td>-0.329349</td>\n",
       "      <td>0.979283</td>\n",
       "      <td>-0.482454</td>\n",
       "      <td>0</td>\n",
       "    </tr>\n",
       "    <tr>\n",
       "      <th>1337</th>\n",
       "      <td>2.315474</td>\n",
       "      <td>1.773021</td>\n",
       "      <td>-0.768831</td>\n",
       "      <td>0</td>\n",
       "    </tr>\n",
       "    <tr>\n",
       "      <th>BTC</th>\n",
       "      <td>-0.138659</td>\n",
       "      <td>-1.339889</td>\n",
       "      <td>0.174968</td>\n",
       "      <td>1</td>\n",
       "    </tr>\n",
       "    <tr>\n",
       "      <th>ETH</th>\n",
       "      <td>-0.151073</td>\n",
       "      <td>-2.003434</td>\n",
       "      <td>0.397014</td>\n",
       "      <td>1</td>\n",
       "    </tr>\n",
       "    <tr>\n",
       "      <th>...</th>\n",
       "      <td>...</td>\n",
       "      <td>...</td>\n",
       "      <td>...</td>\n",
       "      <td>...</td>\n",
       "    </tr>\n",
       "    <tr>\n",
       "      <th>ZEPH</th>\n",
       "      <td>2.481218</td>\n",
       "      <td>0.725930</td>\n",
       "      <td>-0.170805</td>\n",
       "      <td>1</td>\n",
       "    </tr>\n",
       "    <tr>\n",
       "      <th>GAP</th>\n",
       "      <td>-0.344049</td>\n",
       "      <td>0.978899</td>\n",
       "      <td>-0.482088</td>\n",
       "      <td>0</td>\n",
       "    </tr>\n",
       "    <tr>\n",
       "      <th>BDX</th>\n",
       "      <td>0.333531</td>\n",
       "      <td>-2.317723</td>\n",
       "      <td>0.395149</td>\n",
       "      <td>1</td>\n",
       "    </tr>\n",
       "    <tr>\n",
       "      <th>ZEN</th>\n",
       "      <td>-0.138452</td>\n",
       "      <td>-1.829937</td>\n",
       "      <td>0.279442</td>\n",
       "      <td>1</td>\n",
       "    </tr>\n",
       "    <tr>\n",
       "      <th>XBC</th>\n",
       "      <td>-0.302082</td>\n",
       "      <td>0.775984</td>\n",
       "      <td>-0.186759</td>\n",
       "      <td>0</td>\n",
       "    </tr>\n",
       "  </tbody>\n",
       "</table>\n",
       "<p>532 rows × 4 columns</p>\n",
       "</div>"
      ],
      "text/plain": [
       "      principal component 1  principal component 2  principal component 3  \\\n",
       "42                -0.346003               0.979005              -0.482067   \n",
       "404               -0.329349               0.979283              -0.482454   \n",
       "1337               2.315474               1.773021              -0.768831   \n",
       "BTC               -0.138659              -1.339889               0.174968   \n",
       "ETH               -0.151073              -2.003434               0.397014   \n",
       "...                     ...                    ...                    ...   \n",
       "ZEPH               2.481218               0.725930              -0.170805   \n",
       "GAP               -0.344049               0.978899              -0.482088   \n",
       "BDX                0.333531              -2.317723               0.395149   \n",
       "ZEN               -0.138452              -1.829937               0.279442   \n",
       "XBC               -0.302082               0.775984              -0.186759   \n",
       "\n",
       "      class  \n",
       "42        0  \n",
       "404       0  \n",
       "1337      0  \n",
       "BTC       1  \n",
       "ETH       1  \n",
       "...     ...  \n",
       "ZEPH      1  \n",
       "GAP       0  \n",
       "BDX       1  \n",
       "ZEN       1  \n",
       "XBC       0  \n",
       "\n",
       "[532 rows x 4 columns]"
      ]
     },
     "execution_count": 47,
     "metadata": {},
     "output_type": "execute_result"
    }
   ],
   "source": [
    "clusters"
   ]
  },
  {
   "cell_type": "code",
   "execution_count": 48,
   "metadata": {},
   "outputs": [
    {
     "data": {
      "text/html": [
       "<div>\n",
       "<style scoped>\n",
       "    .dataframe tbody tr th:only-of-type {\n",
       "        vertical-align: middle;\n",
       "    }\n",
       "\n",
       "    .dataframe tbody tr th {\n",
       "        vertical-align: top;\n",
       "    }\n",
       "\n",
       "    .dataframe thead th {\n",
       "        text-align: right;\n",
       "    }\n",
       "</style>\n",
       "<table border=\"1\" class=\"dataframe\">\n",
       "  <thead>\n",
       "    <tr style=\"text-align: right;\">\n",
       "      <th></th>\n",
       "      <th>CoinName</th>\n",
       "      <th>Algorithm</th>\n",
       "      <th>ProofType</th>\n",
       "      <th>TotalCoinsMined</th>\n",
       "      <th>TotalCoinSupply</th>\n",
       "      <th>principal component 1</th>\n",
       "      <th>principal component 2</th>\n",
       "      <th>principal component 3</th>\n",
       "      <th>class</th>\n",
       "    </tr>\n",
       "  </thead>\n",
       "  <tbody>\n",
       "    <tr>\n",
       "      <th>42</th>\n",
       "      <td>42 Coin</td>\n",
       "      <td>Scrypt</td>\n",
       "      <td>PoW/PoS</td>\n",
       "      <td>4.199995e+01</td>\n",
       "      <td>42</td>\n",
       "      <td>-0.346003</td>\n",
       "      <td>0.979005</td>\n",
       "      <td>-0.482067</td>\n",
       "      <td>0</td>\n",
       "    </tr>\n",
       "    <tr>\n",
       "      <th>404</th>\n",
       "      <td>404Coin</td>\n",
       "      <td>Scrypt</td>\n",
       "      <td>PoW/PoS</td>\n",
       "      <td>1.055185e+09</td>\n",
       "      <td>532000000</td>\n",
       "      <td>-0.329349</td>\n",
       "      <td>0.979283</td>\n",
       "      <td>-0.482454</td>\n",
       "      <td>0</td>\n",
       "    </tr>\n",
       "    <tr>\n",
       "      <th>1337</th>\n",
       "      <td>EliteCoin</td>\n",
       "      <td>X13</td>\n",
       "      <td>PoW/PoS</td>\n",
       "      <td>2.927942e+10</td>\n",
       "      <td>314159265359</td>\n",
       "      <td>2.315474</td>\n",
       "      <td>1.773021</td>\n",
       "      <td>-0.768831</td>\n",
       "      <td>0</td>\n",
       "    </tr>\n",
       "    <tr>\n",
       "      <th>BTC</th>\n",
       "      <td>Bitcoin</td>\n",
       "      <td>SHA-256</td>\n",
       "      <td>PoW</td>\n",
       "      <td>1.792718e+07</td>\n",
       "      <td>21000000</td>\n",
       "      <td>-0.138659</td>\n",
       "      <td>-1.339889</td>\n",
       "      <td>0.174968</td>\n",
       "      <td>1</td>\n",
       "    </tr>\n",
       "    <tr>\n",
       "      <th>ETH</th>\n",
       "      <td>Ethereum</td>\n",
       "      <td>Ethash</td>\n",
       "      <td>PoW</td>\n",
       "      <td>1.076842e+08</td>\n",
       "      <td>0</td>\n",
       "      <td>-0.151073</td>\n",
       "      <td>-2.003434</td>\n",
       "      <td>0.397014</td>\n",
       "      <td>1</td>\n",
       "    </tr>\n",
       "    <tr>\n",
       "      <th>...</th>\n",
       "      <td>...</td>\n",
       "      <td>...</td>\n",
       "      <td>...</td>\n",
       "      <td>...</td>\n",
       "      <td>...</td>\n",
       "      <td>...</td>\n",
       "      <td>...</td>\n",
       "      <td>...</td>\n",
       "      <td>...</td>\n",
       "    </tr>\n",
       "    <tr>\n",
       "      <th>ZEPH</th>\n",
       "      <td>ZEPHYR</td>\n",
       "      <td>SHA-256</td>\n",
       "      <td>DPoS</td>\n",
       "      <td>2.000000e+09</td>\n",
       "      <td>2000000000</td>\n",
       "      <td>2.481218</td>\n",
       "      <td>0.725930</td>\n",
       "      <td>-0.170805</td>\n",
       "      <td>1</td>\n",
       "    </tr>\n",
       "    <tr>\n",
       "      <th>GAP</th>\n",
       "      <td>Gapcoin</td>\n",
       "      <td>Scrypt</td>\n",
       "      <td>PoW/PoS</td>\n",
       "      <td>1.493105e+07</td>\n",
       "      <td>250000000</td>\n",
       "      <td>-0.344049</td>\n",
       "      <td>0.978899</td>\n",
       "      <td>-0.482088</td>\n",
       "      <td>0</td>\n",
       "    </tr>\n",
       "    <tr>\n",
       "      <th>BDX</th>\n",
       "      <td>Beldex</td>\n",
       "      <td>CryptoNight</td>\n",
       "      <td>PoW</td>\n",
       "      <td>9.802226e+08</td>\n",
       "      <td>1400222610</td>\n",
       "      <td>0.333531</td>\n",
       "      <td>-2.317723</td>\n",
       "      <td>0.395149</td>\n",
       "      <td>1</td>\n",
       "    </tr>\n",
       "    <tr>\n",
       "      <th>ZEN</th>\n",
       "      <td>Horizen</td>\n",
       "      <td>Equihash</td>\n",
       "      <td>PoW</td>\n",
       "      <td>7.296538e+06</td>\n",
       "      <td>21000000</td>\n",
       "      <td>-0.138452</td>\n",
       "      <td>-1.829937</td>\n",
       "      <td>0.279442</td>\n",
       "      <td>1</td>\n",
       "    </tr>\n",
       "    <tr>\n",
       "      <th>XBC</th>\n",
       "      <td>BitcoinPlus</td>\n",
       "      <td>Scrypt</td>\n",
       "      <td>PoS</td>\n",
       "      <td>1.283270e+05</td>\n",
       "      <td>1000000</td>\n",
       "      <td>-0.302082</td>\n",
       "      <td>0.775984</td>\n",
       "      <td>-0.186759</td>\n",
       "      <td>0</td>\n",
       "    </tr>\n",
       "  </tbody>\n",
       "</table>\n",
       "<p>532 rows × 9 columns</p>\n",
       "</div>"
      ],
      "text/plain": [
       "         CoinName    Algorithm ProofType  TotalCoinsMined TotalCoinSupply  \\\n",
       "42        42 Coin       Scrypt   PoW/PoS     4.199995e+01              42   \n",
       "404       404Coin       Scrypt   PoW/PoS     1.055185e+09       532000000   \n",
       "1337    EliteCoin          X13   PoW/PoS     2.927942e+10    314159265359   \n",
       "BTC       Bitcoin      SHA-256       PoW     1.792718e+07        21000000   \n",
       "ETH      Ethereum       Ethash       PoW     1.076842e+08               0   \n",
       "...           ...          ...       ...              ...             ...   \n",
       "ZEPH       ZEPHYR      SHA-256      DPoS     2.000000e+09      2000000000   \n",
       "GAP       Gapcoin       Scrypt   PoW/PoS     1.493105e+07       250000000   \n",
       "BDX        Beldex  CryptoNight       PoW     9.802226e+08      1400222610   \n",
       "ZEN       Horizen     Equihash       PoW     7.296538e+06        21000000   \n",
       "XBC   BitcoinPlus       Scrypt       PoS     1.283270e+05         1000000   \n",
       "\n",
       "      principal component 1  principal component 2  principal component 3  \\\n",
       "42                -0.346003               0.979005              -0.482067   \n",
       "404               -0.329349               0.979283              -0.482454   \n",
       "1337               2.315474               1.773021              -0.768831   \n",
       "BTC               -0.138659              -1.339889               0.174968   \n",
       "ETH               -0.151073              -2.003434               0.397014   \n",
       "...                     ...                    ...                    ...   \n",
       "ZEPH               2.481218               0.725930              -0.170805   \n",
       "GAP               -0.344049               0.978899              -0.482088   \n",
       "BDX                0.333531              -2.317723               0.395149   \n",
       "ZEN               -0.138452              -1.829937               0.279442   \n",
       "XBC               -0.302082               0.775984              -0.186759   \n",
       "\n",
       "      class  \n",
       "42        0  \n",
       "404       0  \n",
       "1337      0  \n",
       "BTC       1  \n",
       "ETH       1  \n",
       "...     ...  \n",
       "ZEPH      1  \n",
       "GAP       0  \n",
       "BDX       1  \n",
       "ZEN       1  \n",
       "XBC       0  \n",
       "\n",
       "[532 rows x 9 columns]"
      ]
     },
     "execution_count": 48,
     "metadata": {},
     "output_type": "execute_result"
    }
   ],
   "source": [
    "joined_Df = crypto_data.join(clusters)\n",
    "joined_Df"
   ]
  },
  {
   "cell_type": "code",
   "execution_count": 49,
   "metadata": {},
   "outputs": [
    {
     "data": {
      "application/vnd.plotly.v1+json": {
       "config": {
        "plotlyServerURL": "https://plot.ly"
       },
       "data": [
        {
         "customdata": [
          [
           "Scrypt"
          ],
          [
           "Scrypt"
          ],
          [
           "X13"
          ],
          [
           "X11"
          ],
          [
           "SHA-512"
          ],
          [
           "SHA-256"
          ],
          [
           "SHA-256"
          ],
          [
           "X15"
          ],
          [
           "Scrypt"
          ],
          [
           "Scrypt"
          ],
          [
           "Scrypt"
          ],
          [
           "Scrypt"
          ],
          [
           "Scrypt"
          ],
          [
           "Scrypt"
          ],
          [
           "Groestl"
          ],
          [
           "PoS"
          ],
          [
           "Scrypt"
          ],
          [
           "Scrypt"
          ],
          [
           "X11"
          ],
          [
           "X11"
          ],
          [
           "SHA3"
          ],
          [
           "Scrypt"
          ],
          [
           "SHA-256"
          ],
          [
           "Scrypt"
          ],
          [
           "X13"
          ],
          [
           "X13"
          ],
          [
           "NeoScrypt"
          ],
          [
           "Scrypt"
          ],
          [
           "Scrypt"
          ],
          [
           "Scrypt"
          ],
          [
           "X11"
          ],
          [
           "X11"
          ],
          [
           "Multiple"
          ],
          [
           "PHI1612"
          ],
          [
           "X11"
          ],
          [
           "Scrypt"
          ],
          [
           "Scrypt"
          ],
          [
           "Scrypt"
          ],
          [
           "X11"
          ],
          [
           "Multiple"
          ],
          [
           "X13"
          ],
          [
           "Scrypt"
          ],
          [
           "Shabal256"
          ],
          [
           "Counterparty"
          ],
          [
           "SHA-256"
          ],
          [
           "Groestl"
          ],
          [
           "Scrypt"
          ],
          [
           "X13"
          ],
          [
           "Scrypt"
          ],
          [
           "Scrypt"
          ],
          [
           "X13"
          ],
          [
           "X11"
          ],
          [
           "Scrypt"
          ],
          [
           "X11"
          ],
          [
           "SHA3"
          ],
          [
           "QUAIT"
          ],
          [
           "X11"
          ],
          [
           "Scrypt"
          ],
          [
           "X13"
          ],
          [
           "SHA-256"
          ],
          [
           "X15"
          ],
          [
           "BLAKE256"
          ],
          [
           "SHA-256"
          ],
          [
           "X11"
          ],
          [
           "SHA-256"
          ],
          [
           "NIST5"
          ],
          [
           "Scrypt"
          ],
          [
           "Scrypt"
          ],
          [
           "X11"
          ],
          [
           "Scrypt"
          ],
          [
           "SHA-256"
          ],
          [
           "Scrypt"
          ],
          [
           "PoS"
          ],
          [
           "X11"
          ],
          [
           "SHA-256"
          ],
          [
           "SHA-256"
          ],
          [
           "NIST5"
          ],
          [
           "X11"
          ],
          [
           "POS 3.0"
          ],
          [
           "Scrypt"
          ],
          [
           "Scrypt"
          ],
          [
           "Scrypt"
          ],
          [
           "X13"
          ],
          [
           "X11"
          ],
          [
           "X11"
          ],
          [
           "Scrypt"
          ],
          [
           "SHA-256"
          ],
          [
           "X11"
          ],
          [
           "Scrypt"
          ],
          [
           "Scrypt"
          ],
          [
           "Scrypt"
          ],
          [
           "Scrypt"
          ],
          [
           "SHA-256D"
          ],
          [
           "PoS"
          ],
          [
           "Scrypt"
          ],
          [
           "X11"
          ],
          [
           "PoS"
          ],
          [
           "X13"
          ],
          [
           "X14"
          ],
          [
           "PoS"
          ],
          [
           "SHA-256D"
          ],
          [
           "DPoS"
          ],
          [
           "X11"
          ],
          [
           "X13"
          ],
          [
           "X11"
          ],
          [
           "PoS"
          ],
          [
           "Scrypt"
          ],
          [
           "Scrypt"
          ],
          [
           "PoS"
          ],
          [
           "X11"
          ],
          [
           "SHA-256"
          ],
          [
           "Scrypt"
          ],
          [
           "X11"
          ],
          [
           "Scrypt"
          ],
          [
           "Scrypt"
          ],
          [
           "X11"
          ],
          [
           "Scrypt"
          ],
          [
           "Scrypt"
          ],
          [
           "Scrypt"
          ],
          [
           "Scrypt"
          ],
          [
           "Quark"
          ],
          [
           "QuBit"
          ],
          [
           "Scrypt"
          ],
          [
           "SHA-256"
          ],
          [
           "X11"
          ],
          [
           "Scrypt"
          ],
          [
           "Scrypt"
          ],
          [
           "Scrypt"
          ],
          [
           "Scrypt"
          ],
          [
           "X13"
          ],
          [
           "Scrypt"
          ],
          [
           "Scrypt"
          ],
          [
           "X11"
          ],
          [
           "Blake2S"
          ],
          [
           "X11"
          ],
          [
           "PoS"
          ],
          [
           "X11"
          ],
          [
           "PoS"
          ],
          [
           "X11"
          ],
          [
           "Scrypt"
          ],
          [
           "Scrypt"
          ],
          [
           "Scrypt"
          ],
          [
           "SHA-256"
          ],
          [
           "X11"
          ],
          [
           "Scrypt"
          ],
          [
           "PoS"
          ],
          [
           "Scrypt"
          ],
          [
           "X15"
          ],
          [
           "SHA-256"
          ],
          [
           "POS 3.0"
          ],
          [
           "536"
          ],
          [
           "NIST5"
          ],
          [
           "NIST5"
          ],
          [
           "Skein"
          ],
          [
           "X13"
          ],
          [
           "Scrypt"
          ],
          [
           "X13"
          ],
          [
           "SkunkHash v2 Raptor"
          ],
          [
           "Skein"
          ],
          [
           "X11"
          ],
          [
           "Scrypt"
          ],
          [
           "PoS"
          ],
          [
           "Scrypt"
          ],
          [
           "Scrypt"
          ],
          [
           "SHA-512"
          ],
          [
           "Ouroboros"
          ],
          [
           "X11"
          ],
          [
           "NeoScrypt"
          ],
          [
           "Scrypt"
          ],
          [
           "Lyra2REv2"
          ],
          [
           "Scrypt"
          ],
          [
           "SHA-256"
          ],
          [
           "NIST5"
          ],
          [
           "PHI1612"
          ],
          [
           "Scrypt"
          ],
          [
           "Quark"
          ],
          [
           "POS 2.0"
          ],
          [
           "Scrypt"
          ],
          [
           "SHA-256"
          ],
          [
           "X11"
          ],
          [
           "DPoS"
          ],
          [
           "NIST5"
          ],
          [
           "X13"
          ],
          [
           "Scrypt"
          ],
          [
           "NIST5"
          ],
          [
           "Quark"
          ],
          [
           "Scrypt"
          ],
          [
           "Scrypt"
          ],
          [
           "X11"
          ],
          [
           "Quark"
          ],
          [
           "Scrypt"
          ],
          [
           "Scrypt"
          ],
          [
           "X11"
          ],
          [
           "POS 3.0"
          ],
          [
           "Ethash"
          ],
          [
           "Scrypt"
          ],
          [
           "Scrypt"
          ],
          [
           "X13"
          ],
          [
           "C11"
          ],
          [
           "Proof-of-Authority"
          ],
          [
           "X11"
          ],
          [
           "XEVAN"
          ],
          [
           "Scrypt"
          ],
          [
           "VBFT"
          ],
          [
           "NIST5"
          ],
          [
           "Scrypt"
          ],
          [
           "Scrypt"
          ],
          [
           "Scrypt"
          ],
          [
           "Green Protocol"
          ],
          [
           "PoS"
          ],
          [
           "Scrypt"
          ],
          [
           "Semux BFT consensus"
          ],
          [
           "Quark"
          ],
          [
           "PoS"
          ],
          [
           "X16R"
          ],
          [
           "Scrypt"
          ],
          [
           "XEVAN"
          ],
          [
           "Scrypt"
          ],
          [
           "Scrypt"
          ],
          [
           "Scrypt"
          ],
          [
           "SHA-256D"
          ],
          [
           "Scrypt"
          ],
          [
           "X15"
          ],
          [
           "Quark"
          ],
          [
           "SHA-256"
          ],
          [
           "DPoS"
          ],
          [
           "X16R"
          ],
          [
           "Quark"
          ],
          [
           "Quark"
          ],
          [
           "Scrypt"
          ],
          [
           "Lyra2REv2"
          ],
          [
           "Quark"
          ],
          [
           "Scrypt"
          ],
          [
           "X11"
          ],
          [
           "X11"
          ],
          [
           "Scrypt"
          ],
          [
           "PoS"
          ],
          [
           "Keccak"
          ],
          [
           "X11"
          ],
          [
           "Scrypt"
          ],
          [
           "SHA-512"
          ],
          [
           "XEVAN"
          ],
          [
           "XEVAN"
          ],
          [
           "X11"
          ],
          [
           "Quark"
          ],
          [
           "Equihash"
          ],
          [
           "Scrypt"
          ],
          [
           "Quark"
          ],
          [
           "Quark"
          ],
          [
           "Scrypt"
          ],
          [
           "X11"
          ],
          [
           "Scrypt"
          ],
          [
           "XEVAN"
          ],
          [
           "SHA-256D"
          ],
          [
           "X11"
          ],
          [
           "X11"
          ],
          [
           "DPoS"
          ],
          [
           "Scrypt"
          ],
          [
           "X11"
          ],
          [
           "Scrypt"
          ],
          [
           "Scrypt"
          ],
          [
           "SHA-256"
          ],
          [
           "Scrypt"
          ],
          [
           "X11"
          ],
          [
           "Scrypt"
          ],
          [
           "SHA-256"
          ],
          [
           "X11"
          ],
          [
           "Scrypt"
          ],
          [
           "Scrypt"
          ],
          [
           "X11"
          ],
          [
           "Scrypt"
          ],
          [
           "PoS"
          ],
          [
           "X11"
          ],
          [
           "SHA-256"
          ],
          [
           "DPoS"
          ],
          [
           "Scrypt"
          ],
          [
           "Scrypt"
          ],
          [
           "NeoScrypt"
          ],
          [
           "X13"
          ],
          [
           "DPoS"
          ],
          [
           "DPoS"
          ],
          [
           "SHA-256"
          ],
          [
           "PoS"
          ],
          [
           "PoS"
          ],
          [
           "Scrypt"
          ],
          [
           "Scrypt"
          ]
         ],
         "hovertemplate": "<b>%{hovertext}</b><br><br>class=%{marker.color}<br>principal component 3=%{x}<br>principal component 2=%{y}<br>principal component 1=%{z}<br>Algorithm=%{customdata[0]}<extra></extra>",
         "hovertext": [
          "42 Coin",
          "404Coin",
          "EliteCoin",
          "Dash",
          "Bitshares",
          "BitcoinDark",
          "PayCoin",
          "KoboCoin",
          "Aurora Coin",
          "BlueCoin",
          "EnergyCoin",
          "BitBar",
          "CryptoBullion",
          "CasinoCoin",
          "Diamond",
          "Exclusive Coin",
          "FlutterCoin",
          "HoboNickels",
          "HyperStake",
          "IOCoin",
          "MaxCoin",
          "MintCoin",
          "MazaCoin",
          "Nautilus Coin",
          "NavCoin",
          "OpalCoin",
          "Orbitcoin",
          "PotCoin",
          "PhoenixCoin",
          "Reddcoin",
          "SuperCoin",
          "SyncCoin",
          "TeslaCoin",
          "TittieCoin",
          "TorCoin",
          "UnitaryStatus Dollar",
          "UltraCoin",
          "VeriCoin",
          "X11 Coin",
          "Crypti",
          "StealthCoin",
          "ZCC Coin",
          "BurstCoin",
          "StorjCoin",
          "Neutron",
          "FairCoin",
          "RubyCoin",
          "Kore",
          "Dnotes",
          "8BIT Coin",
          "Sativa Coin",
          "Ucoin",
          "Vtorrent",
          "IslaCoin",
          "Nexus",
          "Droidz",
          "Squall Coin",
          "Diggits",
          "Paycon",
          "Emercoin",
          "EverGreenCoin",
          "Decred",
          "EDRCoin",
          "Hitcoin",
          "DubaiCoin",
          "PWR Coin",
          "BillaryCoin",
          "GPU Coin",
          "EuropeCoin",
          "ZeitCoin",
          "SwingCoin",
          "SafeExchangeCoin",
          "Nebuchadnezzar",
          "Ratecoin",
          "Revenu",
          "Clockcoin",
          "VIP Tokens",
          "BitSend",
          "Let it Ride",
          "PutinCoin",
          "iBankCoin",
          "Frankywillcoin",
          "MudraCoin",
          "Lutetium Coin",
          "GoldBlocks",
          "CarterCoin",
          "BitTokens",
          "MustangCoin",
          "ZoneCoin",
          "RootCoin",
          "BitCurrency",
          "Swiscoin",
          "BuzzCoin",
          "Opair",
          "PesoBit",
          "Halloween Coin",
          "CoffeeCoin",
          "RoyalCoin",
          "GanjaCoin V2",
          "TeamUP",
          "LanaCoin",
          "ARK",
          "InsaneCoin",
          "EmberCoin",
          "XenixCoin",
          "FreeCoin",
          "PLNCoin",
          "AquariusCoin",
          "Creatio",
          "Eternity",
          "Eurocoin",
          "BitcoinFast",
          "Stakenet",
          "BitConnect Coin",
          "MoneyCoin",
          "Enigma",
          "Russiacoin",
          "PandaCoin",
          "GameUnits",
          "GAKHcoin",
          "Allsafe",
          "LiteCreed",
          "Klingon Empire Darsek",
          "Internet of People",
          "KushCoin",
          "Printerium",
          "Impeach",
          "Zilbercoin",
          "FirstCoin",
          "FindCoin",
          "OpenChat",
          "RenosCoin",
          "VirtacoinPlus",
          "TajCoin",
          "Impact",
          "Atmos",
          "HappyCoin",
          "MacronCoin",
          "Condensate",
          "Independent Money System",
          "ArgusCoin",
          "LomoCoin",
          "ProCurrency",
          "GoldReserve",
          "GrowthCoin",
          "Phreak",
          "Degas Coin",
          "HTML5 Coin",
          "Ultimate Secure Cash",
          "QTUM",
          "Espers",
          "Denarius",
          "Virta Unique Coin",
          "Bitcoin Planet",
          "BritCoin",
          "Linda",
          "DeepOnion",
          "Signatum",
          "Cream",
          "Monoeci",
          "Draftcoin",
          "Stakecoin",
          "CoinonatX",
          "Ethereum Dark",
          "Obsidian",
          "Cardano",
          "Regalcoin",
          "TrezarCoin",
          "TerraNovaCoin",
          "Rupee",
          "WomenCoin",
          "Theresa May Coin",
          "NamoCoin",
          "LUXCoin",
          "Xios",
          "Bitcloud 2.0",
          "KekCoin",
          "BlackholeCoin",
          "Infinity Economics",
          "Magnet",
          "Lamden Tau",
          "Electra",
          "Bitcoin Diamond",
          "Cash & Back Coin",
          "Bulwark",
          "Kalkulus",
          "GermanCoin",
          "LiteCoin Ultra",
          "PhantomX",
          "Digiwage",
          "Trollcoin",
          "Litecoin Plus",
          "Monkey Project",
          "TokenPay",
          "1717 Masonic Commemorative Token",
          "My Big Coin",
          "Unified Society USDEX",
          "Tokyo Coin",
          "Stipend",
          "Poa Network",
          "Pushi",
          "Ellerium",
          "Velox",
          "Ontology",
          "Bitspace",
          "Briacoin",
          "Ignition",
          "MedicCoin",
          "Bitcoin Green",
          "Deviant Coin",
          "Abjcoin",
          "Semux",
          "Carebit",
          "Zealium",
          "Proton",
          "iDealCash",
          "Bitcoin Incognito",
          "HollyWoodCoin",
          "Swisscoin",
          "Xt3ch",
          "TheVig",
          "EmaratCoin",
          "Dekado",
          "Poseidon Quark",
          "BitcoinWSpectrum",
          "Muse",
          "Trivechain",
          "Dystem",
          "Giant",
          "Peony Coin",
          "Absolute Coin",
          "Vitae",
          "TPCash",
          "ARENON",
          "EUNO",
          "MMOCoin",
          "Ketan",
          "XDNA",
          "PAXEX",
          "ThunderStake",
          "Kcash",
          "Bettex coin",
          "BitMoney",
          "Junson Ming Chan Coin",
          "HerbCoin",
          "PirateCash",
          "Oduwa",
          "Galilel",
          "Crypto Sports",
          "Credit",
          "Dash Platinum",
          "Nasdacoin",
          "Beetle Coin",
          "Titan Coin",
          "Award",
          "Insane Coin",
          "ALAX",
          "LiteDoge",
          "TruckCoin",
          "OrangeCoin",
          "BitstarCoin",
          "NeosCoin",
          "HyperCoin",
          "PinkCoin",
          "AudioCoin",
          "IncaKoin",
          "Piggy Coin",
          "Genstake",
          "XiaoMiCoin",
          "CapriCoin",
          " ClubCoin",
          "Radium",
          "Creditbit ",
          "OKCash",
          "Lisk",
          "HiCoin",
          "WhiteCoin",
          "FriendshipCoin",
          "Triangles Coin",
          "EOS",
          "Oxycoin",
          "TigerCash",
          "Particl",
          "Nxt",
          "Gapcoin",
          "BitcoinPlus"
         ],
         "legendgroup": "0",
         "marker": {
          "color": [
           0,
           0,
           0,
           0,
           0,
           0,
           0,
           0,
           0,
           0,
           0,
           0,
           0,
           0,
           0,
           0,
           0,
           0,
           0,
           0,
           0,
           0,
           0,
           0,
           0,
           0,
           0,
           0,
           0,
           0,
           0,
           0,
           0,
           0,
           0,
           0,
           0,
           0,
           0,
           0,
           0,
           0,
           0,
           0,
           0,
           0,
           0,
           0,
           0,
           0,
           0,
           0,
           0,
           0,
           0,
           0,
           0,
           0,
           0,
           0,
           0,
           0,
           0,
           0,
           0,
           0,
           0,
           0,
           0,
           0,
           0,
           0,
           0,
           0,
           0,
           0,
           0,
           0,
           0,
           0,
           0,
           0,
           0,
           0,
           0,
           0,
           0,
           0,
           0,
           0,
           0,
           0,
           0,
           0,
           0,
           0,
           0,
           0,
           0,
           0,
           0,
           0,
           0,
           0,
           0,
           0,
           0,
           0,
           0,
           0,
           0,
           0,
           0,
           0,
           0,
           0,
           0,
           0,
           0,
           0,
           0,
           0,
           0,
           0,
           0,
           0,
           0,
           0,
           0,
           0,
           0,
           0,
           0,
           0,
           0,
           0,
           0,
           0,
           0,
           0,
           0,
           0,
           0,
           0,
           0,
           0,
           0,
           0,
           0,
           0,
           0,
           0,
           0,
           0,
           0,
           0,
           0,
           0,
           0,
           0,
           0,
           0,
           0,
           0,
           0,
           0,
           0,
           0,
           0,
           0,
           0,
           0,
           0,
           0,
           0,
           0,
           0,
           0,
           0,
           0,
           0,
           0,
           0,
           0,
           0,
           0,
           0,
           0,
           0,
           0,
           0,
           0,
           0,
           0,
           0,
           0,
           0,
           0,
           0,
           0,
           0,
           0,
           0,
           0,
           0,
           0,
           0,
           0,
           0,
           0,
           0,
           0,
           0,
           0,
           0,
           0,
           0,
           0,
           0,
           0,
           0,
           0,
           0,
           0,
           0,
           0,
           0,
           0,
           0,
           0,
           0,
           0,
           0,
           0,
           0,
           0,
           0,
           0,
           0,
           0,
           0,
           0,
           0,
           0,
           0,
           0,
           0,
           0,
           0,
           0,
           0,
           0,
           0,
           0,
           0,
           0,
           0,
           0,
           0,
           0,
           0,
           0,
           0,
           0,
           0,
           0,
           0,
           0,
           0,
           0,
           0,
           0,
           0,
           0,
           0,
           0,
           0,
           0,
           0,
           0,
           0,
           0,
           0,
           0,
           0,
           0
          ],
          "coloraxis": "coloraxis",
          "symbol": "circle"
         },
         "mode": "markers",
         "name": "0",
         "scene": "scene",
         "showlegend": true,
         "type": "scatter3d",
         "x": [
          -0.4820665364800935,
          -0.4824535726581126,
          -0.7688307815712035,
          -0.49594226097057587,
          -0.18116634229300102,
          -0.3883624170541222,
          -0.09305819926250641,
          -0.6717137998350545,
          -0.4820736930362939,
          -0.4822784016295803,
          -0.48210756847488895,
          -0.4820665837551396,
          -0.48206694911874287,
          -0.38111109502641427,
          -0.5463140555640641,
          -0.14137518430179086,
          -0.11509383355445307,
          -0.4821042429048107,
          -0.20119029256947157,
          -0.4959451349530315,
          -0.6642650424741258,
          -0.1938592696711774,
          -0.38905874785348316,
          -0.1867658434243673,
          -0.7382962721927276,
          -0.7382792906974179,
          -0.35110089095466473,
          -0.4821685819148522,
          -0.48209768280091925,
          -0.4918410311158048,
          -0.20064754189400394,
          -0.4959377940118622,
          0.09765480966046244,
          -0.29140771499993967,
          -0.4959389328625678,
          -0.4825388564038112,
          -0.48208990502352,
          0.005788252000430151,
          -0.49594047516585876,
          0.09765484700588195,
          -0.7382852714324644,
          -0.4821820695419824,
          -0.6753703807693975,
          -0.15134195574458895,
          -0.38837807612892683,
          -0.5463303999253006,
          -0.18676844162945092,
          -0.7382757058247797,
          -0.1868507036169486,
          -0.48206702587577455,
          -0.7382772653585803,
          -0.20063285541516676,
          -0.48207172954216104,
          -0.4959382982574938,
          -0.5403894272529358,
          -0.8797624551785567,
          -0.3001573732266451,
          -0.18679933898845114,
          -0.7382852296377561,
          -0.38844107796317956,
          -0.6716883690296979,
          -0.36592493858845154,
          -0.3883632108783882,
          -0.5013615587255815,
          -0.38836293626918,
          -0.6148391056412112,
          -0.4820723168208958,
          -0.1867875050789916,
          -0.49596668041618674,
          -0.20563922919043343,
          -0.38836463815285044,
          -0.36598473721475344,
          -0.14138128281609363,
          -0.4959876215384705,
          -0.388375671856415,
          -0.38840083649853424,
          -0.6115154975826727,
          -0.49595512535524905,
          -0.18515320742274535,
          -0.48247001979091747,
          -0.48207098005444277,
          -0.48210649776620074,
          -0.44298198348614776,
          -0.20089318053548236,
          -0.4959462923958069,
          -0.4820868859199622,
          -0.3883621196576899,
          -0.49593821139357996,
          -0.4820687873356283,
          -0.48206718326760045,
          -0.1868159258244923,
          -0.2570324486795197,
          -0.7872889538132231,
          -0.14140287319162975,
          -0.4820777137999793,
          -0.49612532804816556,
          -0.14142552379506057,
          -0.4429680775160038,
          -0.776976887329337,
          -0.14139915481318405,
          -0.7802951068343834,
          -0.27565748449166716,
          -0.4959458951657436,
          -0.7690697383610654,
          -0.49593933339281787,
          -0.14139327120696074,
          -0.48207478548518745,
          -0.48207013317607766,
          -0.14138128281609363,
          -0.49594378864094174,
          -0.3883659949071268,
          -0.4820754705528756,
          0.0640811148529602,
          -0.48207208434587107,
          -0.48211324254968313,
          -0.495938396131956,
          -0.4820788611553703,
          -0.20018562128392112,
          -0.4820685549027482,
          -0.4820678614957944,
          -0.2066494381220918,
          -0.27836862391807565,
          -0.48210762191673684,
          -0.3883627633813083,
          -0.4959402995665501,
          -0.48207180189702886,
          -0.482068090977623,
          -0.1867639925855681,
          -0.11951175183496354,
          -0.4429728827537748,
          -0.4824661494922259,
          -0.1867736763929136,
          -0.49594880128890223,
          -0.890239946216715,
          -0.4959819611724439,
          -0.14141764590023032,
          -0.4959515882322991,
          -0.14153360969536705,
          -0.49601145449464396,
          -0.48206973061472586,
          -0.4820688123661236,
          -0.482132892852543,
          -0.09805112248291872,
          -0.49594616648006945,
          -0.18699016209697547,
          -0.14137907401315916,
          -0.48208060789012636,
          -0.6911958546616996,
          -0.09307006451086147,
          -0.18517808462810537,
          -1.0001666075734956,
          -0.6114837689315938,
          -0.611510645317547,
          -0.7107389001411271,
          -0.738283314180467,
          -0.48839181152912997,
          -0.7382827957221834,
          0.007092997821548539,
          -0.7107524129361528,
          -0.49594261372207393,
          -0.18676675255503508,
          -0.14137870153074136,
          -0.48207624520254555,
          -0.4820682148380304,
          -0.18002830282371732,
          -0.05523104595543568,
          -0.4959420021289551,
          -0.3511869393693453,
          -0.4820679581952062,
          -0.15834656372211375,
          -0.4998787981129505,
          -0.3883978419985155,
          -0.6117480486791825,
          -0.5860284567039521,
          -0.4820686432027149,
          -0.5019755750672571,
          -0.13157908639407156,
          -0.48207297094911655,
          -0.09664988962369729,
          -0.4959600611703083,
          -0.2757422846417888,
          -0.6229363463634904,
          -0.7383493315735828,
          -0.482117438611289,
          -0.3161808088607933,
          -0.2066519156474022,
          -0.48701362922125235,
          -0.482079272140281,
          -0.4959561651749738,
          -0.20666198351799675,
          -0.4823231679584787,
          -0.4820676362762107,
          -0.2006334942394447,
          -0.1851465951948269,
          0.12902039896624534,
          -0.0389807954611618,
          -0.4821601956974936,
          -0.4430968172153138,
          -0.5064775251374829,
          3.9092629489703086,
          -0.49594017109934896,
          -0.5357334337475457,
          -0.18677611084505033,
          -0.07773515190668027,
          -0.6114896228752281,
          -0.48206701698773546,
          -0.48206726156927854,
          -0.18688159581138547,
          -0.2199138983893856,
          -0.14138640941204486,
          -0.4820718165438495,
          -0.2341166419819713,
          -0.5020119275637387,
          -0.1413822784780564,
          -0.15802692968747448,
          -0.48287373567233827,
          -0.3399538184336976,
          -0.186774004371309,
          -0.48614258935826204,
          -0.18676483405154792,
          -0.7794551701763399,
          -0.4820792981204447,
          -0.376391012721569,
          -0.20668886736246955,
          -0.09307928422749827,
          -0.19866760384348764,
          -0.4533474163610535,
          -0.2066486898240802,
          -0.501954411822788,
          -0.18787700687402867,
          -0.4536520521513976,
          -0.20667358127889707,
          -0.4821345278948056,
          -0.20064070011233273,
          -0.49595136284905883,
          -0.18681251799172116,
          -0.14139030027127758,
          -0.5137080652482919,
          -0.20063875569507175,
          -0.483611364101144,
          -0.2318602007919804,
          -0.24042773635620007,
          -0.28317430805386135,
          -0.20636882522160852,
          -0.501967445333545,
          0.011405634673130018,
          -0.4820728536265814,
          -0.5019594471515413,
          -0.20664646843659823,
          -0.4972955358808924,
          -0.2006321773297015,
          -0.4820789470885171,
          -0.5358287480322758,
          -0.7800672849544283,
          -0.49597073468408637,
          -0.4959477067039318,
          -0.2760127467094184,
          -0.48949084984748736,
          -0.49601867342434985,
          -0.48208095376722787,
          -0.4820769883545899,
          -0.09305622683147223,
          -0.48206974773028827,
          -0.49611637887986737,
          -0.4830885272042705,
          -0.3943546304303318,
          -0.4961687746100365,
          -0.48208753470955384,
          -0.4822278208886182,
          -0.4960187005750602,
          -0.4821116767649438,
          -0.14137516035517445,
          -0.219415803385605,
          -0.38839237980451374,
          -0.2756637334777552,
          -0.1907561743838197,
          -0.4821704179063506,
          -0.35110392366354715,
          -0.7382742920929801,
          -0.27595340705559435,
          -0.2759873621429281,
          -0.0934529853956959,
          -0.14137695726129243,
          -0.17322367086196758,
          -0.48208806224214673,
          -0.1867594866624545
         ],
         "y": [
          0.9790045271272803,
          0.9792832087511911,
          1.7730207820551322,
          1.260424136055241,
          1.4235384682465608,
          0.8163709369057408,
          0.6133604045261354,
          1.9280862278379867,
          0.9790058897822631,
          0.979316325662233,
          0.9790649132729854,
          0.9790043233094307,
          0.9790045875943972,
          0.32437171723306685,
          0.946285834621209,
          1.649304842760847,
          0.2890433909970102,
          0.9789943995486958,
          1.058233175535258,
          1.2604283656487112,
          1.9299614593588392,
          0.7864332678053101,
          0.8160848560648526,
          0.7759851394865731,
          1.8998751838811387,
          1.8998501924892948,
          0.5459296805283986,
          0.9789250373870514,
          0.9789967753983384,
          0.9933894927296182,
          1.057434418149249,
          1.2604295918059392,
          0.11669292991386956,
          1.5758587952490288,
          1.2604258000862034,
          0.978824705583694,
          0.9789842353102602,
          0.17329750714808873,
          1.260430530601622,
          0.11674755790040511,
          1.8998589942402795,
          0.9786277258159626,
          0.6833261770388336,
          1.4733588320179853,
          0.8163688279570227,
          0.9463122834662347,
          0.7759978109238038,
          1.899838354736583,
          0.7758454598236726,
          0.9790052473859505,
          1.899841743536184,
          1.057401867706571,
          0.9790012331062172,
          1.2604303344429042,
          1.9947312094957763,
          2.208084406199833,
          0.8854729322725441,
          0.7759885991198623,
          1.8998315912580912,
          0.8159519016691998,
          1.9282258115269746,
          0.8428897197353399,
          0.8163721051640673,
          1.2538933366341405,
          0.8163779895650656,
          1.541604812430858,
          0.9789900671464474,
          0.7759049881999905,
          1.2602621214893674,
          0.7496335258872253,
          0.8163643627303031,
          0.32280937274979005,
          1.6493028812562203,
          1.2604619105069534,
          0.816280681438042,
          0.8161524229560184,
          1.536664297583011,
          1.2603790893137783,
          1.5679827143575658,
          0.9785046680657089,
          0.9789868239136382,
          0.9790086545811512,
          1.6967352695246005,
          1.0574366535998543,
          1.2604147578133016,
          0.9789852604391293,
          0.8163710460616961,
          1.2604285661182726,
          0.9789963562790037,
          0.979005479016954,
          0.7760676926452316,
          0.18375740460119425,
          1.9238990248880445,
          1.64930512667103,
          0.9790209766310454,
          1.2598853389514482,
          1.6493570534553748,
          1.6968228030862564,
          1.9385884633886432,
          1.6491755241035353,
          1.9204383808886758,
          1.7093662482634182,
          1.2604251098056831,
          1.9446991909976215,
          1.2604297507221633,
          1.6493041194929012,
          0.9789955922697086,
          0.978986853511705,
          1.6493028812562203,
          1.2604056047830654,
          0.8163772960330528,
          0.9789996299080134,
          0.6630220591125373,
          0.978997380629321,
          0.9787174637442062,
          1.2604277443358076,
          0.9789439217314606,
          0.7779635422628833,
          0.9790003888470705,
          0.9790046639832638,
          1.487855191955906,
          0.6093935214116522,
          0.978791577186564,
          0.8163719934193283,
          1.2604281646941764,
          0.9790013395897054,
          0.9789948210862045,
          0.7759611877169664,
          0.3553777956629716,
          1.696823299401545,
          0.9790458016816049,
          0.7759866894577733,
          1.2603911086370774,
          2.125618476942223,
          1.2604344412063566,
          1.64930702296928,
          1.260395210136575,
          1.6493192630601103,
          1.2602645825573406,
          0.9789976284935725,
          0.9789922372119925,
          0.9785553532779174,
          0.5797030338112089,
          1.2604200407998671,
          0.7752304544041637,
          1.6492941623019668,
          0.9789678187221363,
          1.9077343905062265,
          0.6132752898511163,
          1.56798296157824,
          2.0481075093898684,
          1.5366613493984158,
          1.5366407516987917,
          1.9417773262251152,
          1.8998397089000323,
          0.9609718584885251,
          1.899845016691566,
          1.4006081805491188,
          1.9417972127868839,
          1.260431486586312,
          0.775985807086029,
          1.6492763343334491,
          0.9789924297042919,
          0.9790047004786804,
          1.4237825578728576,
          1.5470487304547094,
          1.2604210209748563,
          0.5458396463461723,
          0.9789980160151959,
          0.7549178891631296,
          0.9915478075517186,
          0.8163804185243353,
          1.5363995585547277,
          1.7790935598278028,
          0.9789961441609274,
          1.6908020138267734,
          1.5350328406210256,
          0.9790059099890319,
          0.6137316072298348,
          1.2603836191255686,
          1.7092859862201284,
          1.5371165064125552,
          1.8998384363242207,
          0.9789646048039138,
          1.3336377854091084,
          1.4878561039424532,
          0.9589436098884914,
          0.9789412455944719,
          1.2604292874226353,
          1.487816237717498,
          0.9788900610193761,
          0.9790039583845074,
          1.0574022610244516,
          1.5679776312992508,
          -0.050238777518565494,
          0.09999515756993209,
          0.9790154994673824,
          1.6965761707824047,
          0.9987660085900524,
          3.4693755543079496,
          1.2604194199371592,
          1.391673778311767,
          0.7759412907297849,
          1.584649595573814,
          1.5366480913736562,
          0.9790035938171519,
          0.9790028601049067,
          0.7758909233663115,
          1.5437862785138132,
          1.6492732415804348,
          0.978995892850476,
          1.7224581635272478,
          1.69085551320757,
          1.6492715367875075,
          0.7715572235674244,
          0.9773916352584816,
          1.0167396299801257,
          0.7759917799547089,
          0.979425527597356,
          0.7759684412130223,
          1.9232520787698462,
          0.9789773745742005,
          1.7251853480705814,
          1.4875659826162806,
          0.6133434439676972,
          1.5968823864046024,
          0.9745763619095648,
          1.4878508097210006,
          1.6908774173981238,
          0.7683987869700473,
          0.9579199017596641,
          1.4878442425439715,
          0.9785577595431564,
          1.057394273588929,
          1.2604222199173003,
          0.7759205017302091,
          1.649212254499438,
          0.9961197767279926,
          1.0573668046952782,
          0.9714350944676469,
          1.3167706306081075,
          1.188661341843919,
          0.7838043771228456,
          1.0658543382376733,
          1.6908698865321188,
          0.12327629074426094,
          0.9790023405735965,
          1.6908772350832957,
          1.4878517128498612,
          0.9605139546304076,
          1.0574010338280069,
          0.978976857966193,
          1.3915734458345659,
          1.9214734537711338,
          1.2602484022288405,
          1.2604277758171187,
          1.7094106061323744,
          0.9707917374741762,
          1.2605486212752932,
          0.9789163789440445,
          0.978990240159908,
          0.6133528536807904,
          0.9790092530951919,
          1.260418998077132,
          0.9747668649062096,
          0.8250977130110946,
          1.2602226932894027,
          0.9790272274626611,
          0.9790231550155433,
          1.26043492070241,
          0.9789834666614811,
          1.6492998860537524,
          0.7950370680427352,
          0.8163696457544559,
          1.70935635038489,
          0.7763933663827091,
          0.9789933589226506,
          0.5459033035491401,
          1.8998427705044971,
          1.709870106395957,
          1.709920077548507,
          0.6134014107862626,
          1.6493027305944385,
          2.0655013946601066,
          0.9788994988979567,
          0.7759840852143172
         ],
         "z": [
          -0.3460031758359247,
          -0.3293486390097326,
          2.315473785944025,
          -0.39111495368685595,
          -0.25481838213807206,
          -0.3073583770015853,
          -0.26338282516027306,
          -0.23480901626837467,
          -0.3456628873244959,
          -0.3382449339533614,
          -0.3445006346777754,
          -0.3459991124089724,
          -0.34598340077306294,
          0.669203636142349,
          -0.36028450097300424,
          -0.3590485219549041,
          -0.33403065485254513,
          -0.34406262051233744,
          -0.32697501780522437,
          -0.3910097119722006,
          -0.41533918577159595,
          -0.04210166145661657,
          -0.27067680918027787,
          -0.3017787570951199,
          -0.26819576677053236,
          -0.2688176083135381,
          -0.3408558870574703,
          -0.340307123665384,
          -0.3444054720943794,
          0.01192683634690853,
          -0.34684988225897884,
          -0.391381152193298,
          -0.2475480507989177,
          -0.3073527428805824,
          -0.391292804169237,
          -0.32124349983791356,
          -0.34468095489463163,
          -0.3172741929709423,
          -0.39125731913066375,
          -0.24801591206353094,
          -0.268598601127083,
          -0.3371075597099237,
          0.0613806158171298,
          -0.3279178084235292,
          -0.30657037376478674,
          -0.3597064229237612,
          -0.301759092693814,
          -0.268892902708822,
          -0.2964142909394318,
          -0.34598525496186483,
          -0.26884512436708097,
          -0.3472943843676818,
          -0.34571971372012955,
          -0.3913626920012871,
          -0.41727726156038225,
          -0.39683888298609704,
          -0.33444221485142644,
          -0.30016117555883104,
          -0.2683668847375064,
          -0.2999156023386377,
          -0.2372503106936374,
          -0.07429271732604903,
          -0.3073293081300052,
          -0.06891545831401075,
          -0.30739301076053693,
          -0.22578734404161813,
          -0.34559557967406984,
          -0.30002981589016686,
          -0.3885320362505181,
          0.8510948006571499,
          -0.3071930742188961,
          -0.06128465771776516,
          -0.3587319030922334,
          -0.38920666361955997,
          -0.3059366328670978,
          -0.3036050406229494,
          -0.34707395285166337,
          -0.3900980780351026,
          -0.3306282030911138,
          -0.32189823734042267,
          -0.34563364557109266,
          -0.3440733489963782,
          -0.22361169514492765,
          -0.33479003255415546,
          -0.39083670959459066,
          -0.3448381601383308,
          -0.3073739322316131,
          -0.39135187803969773,
          -0.3458227887797099,
          -0.3459794914661156,
          -0.3000202796756195,
          -0.2608474635422207,
          0.04250701368932347,
          -0.35768938339529177,
          -0.34559387627830707,
          -0.37751648450351794,
          -0.35701855440287417,
          -0.22504223924700686,
          -0.4060969257056708,
          -0.3567666051091572,
          -0.2718828154182798,
          3.72844234914715,
          -0.3909445544168202,
          0.862656040070799,
          -0.39130681108707427,
          -0.3581529547972118,
          -0.345521320896454,
          -0.34567554207069096,
          -0.3587319030922334,
          -0.3908817446566325,
          -0.3072366902845743,
          -0.3455220783095899,
          -0.40206603523932194,
          -0.34566940174548133,
          -0.3412575697470114,
          -0.39133578327239454,
          -0.34488011057184764,
          0.34124162577501804,
          -0.3458686196845553,
          -0.3459391876335086,
          -0.3566737894355421,
          -0.3488409881079374,
          -0.34216620909716255,
          -0.30735035986176,
          -0.3912457706940911,
          -0.3457170641735608,
          -0.3458439346164499,
          -0.3016654396807311,
          -0.3129906540624791,
          -0.22481018273119996,
          -0.3267049001457435,
          -0.30140680497067707,
          -0.390511590144172,
          -0.3993242823894928,
          -0.38925066648281587,
          -0.35697913420278776,
          -0.390409535693099,
          -0.3513812033490887,
          -0.3863513316631656,
          -0.3457872575242433,
          -0.34578641867084153,
          -0.3389083497983937,
          0.26926388217893465,
          -0.39088796984666707,
          -0.2843100865264922,
          -0.3587661373761206,
          -0.34499807983739794,
          0.8968115721588718,
          -0.26207326579462403,
          -0.3294070119997603,
          0.6092773633727144,
          -0.3486090121393764,
          -0.3471116887365197,
          -0.42177603528155877,
          -0.2685303251797735,
          0.11886750356144414,
          -0.2686010997442865,
          -0.3529105104528705,
          -0.42128121329114676,
          -0.391160314155819,
          -0.3017397471389868,
          -0.35863236537306936,
          -0.34542256196586346,
          -0.3459221238851456,
          -0.3128621041622129,
          0.6497080467742942,
          -0.3911011074637216,
          -0.33585651151531676,
          -0.3458777195565068,
          -0.3065326813366953,
          0.4228834416942171,
          -0.3056972938578888,
          -0.33338013644468306,
          -0.38685012752931164,
          -0.3458280667503181,
          -0.3990279922609093,
          -0.33720622173000586,
          -0.3456985672843505,
          -0.08993340349608732,
          -0.3898940098516921,
          3.73329697815424,
          0.21067180227603177,
          -0.2652731604672913,
          -0.34315956556684696,
          -0.3044604426078777,
          -0.35655974080945596,
          0.06840015676721288,
          -0.3448370711849175,
          -0.3904751805231472,
          -0.35572457400796614,
          -0.3324072023716979,
          -0.3459442430972491,
          -0.3472663264684507,
          -0.33090998673878885,
          -0.27694793044959104,
          -0.33630031980644537,
          -0.341491224861296,
          -0.21660766241464602,
          -0.37097843594160484,
          -0.37829247305677405,
          -0.3911774873979227,
          -0.2974654710571484,
          -0.30089980320497545,
          -0.32496852835467205,
          -0.3482080504105708,
          -0.34597158561932456,
          -0.34595329946859177,
          -0.29528305664556737,
          -0.34697824817609707,
          -0.35822695770209184,
          -0.3456698784528207,
          3.9388977466038506,
          -0.3976968083991677,
          -0.35841554693890637,
          -0.3020312550402934,
          -0.2925509502034184,
          -0.24067896622733193,
          -0.30143410353807143,
          -0.14916075633925538,
          -0.3016859405372966,
          -0.33718879126216356,
          -0.3451440056791139,
          -0.19268201700385268,
          -0.35226770385450834,
          -0.2622013144115185,
          1.0203463337890915,
          -0.34528022490579047,
          -0.35667320156821786,
          -0.4007119226829837,
          -0.18242065214536834,
          -0.3503730701770929,
          -0.35539317696408707,
          -0.33884847655490663,
          -0.346843848370773,
          -0.39065103581165056,
          -0.2989321866595692,
          -0.3575153568664615,
          -0.33181318799241527,
          -0.346705128372977,
          -0.20546461233310623,
          -0.2702882320223126,
          -0.2535464328128984,
          0.5651666359025285,
          -0.13734349972028728,
          -0.40000677397719075,
          -0.26237194864347213,
          -0.3456738861892942,
          -0.40046276246763807,
          -0.3567901395258477,
          0.5606014183369882,
          -0.34732061450740814,
          -0.3451568600380223,
          -0.29192260640977086,
          -0.29191570605884454,
          -0.38821563618998844,
          -0.3908782181088822,
          3.7455334361549766,
          0.08913888145355892,
          -0.3884194519116594,
          -0.34454224520682886,
          -0.3453673398107834,
          -0.26341540120072027,
          -0.34588558398590796,
          -0.3825091292883621,
          -0.25959728770891055,
          -0.08714715872660553,
          -0.37825799326849696,
          -0.3451642725495944,
          -0.33823116380304924,
          -0.3874481507459716,
          -0.34360380417792796,
          -0.35900741441573897,
          -0.35783911508615984,
          -0.305873988020846,
          3.7288340715014607,
          -0.10904261743531668,
          -0.3407996843725585,
          -0.34048173917031205,
          -0.2690000912885014,
          3.738695553556823,
          3.7399389472341937,
          -0.2443196153796333,
          -0.35894332063019824,
          -0.3916859938298917,
          -0.3440486947080186,
          -0.3020823476713838
         ]
        },
        {
         "customdata": [
          [
           "SHA-256"
          ],
          [
           "Ethash"
          ],
          [
           "Scrypt"
          ],
          [
           "CryptoNight-V7"
          ],
          [
           "Ethash"
          ],
          [
           "Equihash"
          ],
          [
           "Multiple"
          ],
          [
           "Scrypt"
          ],
          [
           "X11"
          ],
          [
           "Scrypt"
          ],
          [
           "Multiple"
          ],
          [
           "Scrypt"
          ],
          [
           "SHA-256"
          ],
          [
           "Scrypt"
          ],
          [
           "Scrypt"
          ],
          [
           "Quark"
          ],
          [
           "Groestl"
          ],
          [
           "Scrypt"
          ],
          [
           "Scrypt"
          ],
          [
           "Scrypt"
          ],
          [
           "X11"
          ],
          [
           "Multiple"
          ],
          [
           "SHA-256"
          ],
          [
           "Scrypt"
          ],
          [
           "Scrypt"
          ],
          [
           "Scrypt"
          ],
          [
           "Scrypt"
          ],
          [
           "Scrypt"
          ],
          [
           "NeoScrypt"
          ],
          [
           "Scrypt"
          ],
          [
           "Scrypt"
          ],
          [
           "Scrypt"
          ],
          [
           "Scrypt"
          ],
          [
           "SHA-256"
          ],
          [
           "Scrypt"
          ],
          [
           "Scrypt"
          ],
          [
           "Scrypt"
          ],
          [
           "Scrypt"
          ],
          [
           "HybridScryptHash256"
          ],
          [
           "Scrypt"
          ],
          [
           "Scrypt"
          ],
          [
           "SHA-256"
          ],
          [
           "Scrypt"
          ],
          [
           "Scrypt"
          ],
          [
           "Scrypt"
          ],
          [
           "Scrypt"
          ],
          [
           "SHA-256"
          ],
          [
           "SHA-256"
          ],
          [
           "SHA-256"
          ],
          [
           "SHA-256"
          ],
          [
           "SHA-256"
          ],
          [
           "X11"
          ],
          [
           "Scrypt"
          ],
          [
           "Lyra2REv2"
          ],
          [
           "Scrypt"
          ],
          [
           "SHA-256"
          ],
          [
           "CryptoNight"
          ],
          [
           "CryptoNight"
          ],
          [
           "Scrypt"
          ],
          [
           "Scrypt"
          ],
          [
           "Scrypt"
          ],
          [
           "Scrypt"
          ],
          [
           "Scrypt"
          ],
          [
           "Scrypt"
          ],
          [
           "Stanford Folding"
          ],
          [
           "Multiple"
          ],
          [
           "QuBit"
          ],
          [
           "Scrypt"
          ],
          [
           "Scrypt"
          ],
          [
           "M7 POW"
          ],
          [
           "Scrypt"
          ],
          [
           "SHA-256"
          ],
          [
           "Scrypt"
          ],
          [
           "X11"
          ],
          [
           "Lyra2RE"
          ],
          [
           "SHA-256"
          ],
          [
           "X11"
          ],
          [
           "Scrypt"
          ],
          [
           "Scrypt"
          ],
          [
           "Ethash"
          ],
          [
           "Blake2b"
          ],
          [
           "X11"
          ],
          [
           "SHA-256"
          ],
          [
           "Scrypt"
          ],
          [
           "1GB AES Pattern Search"
          ],
          [
           "Scrypt"
          ],
          [
           "SHA-256"
          ],
          [
           "X11"
          ],
          [
           "Dagger"
          ],
          [
           "Scrypt"
          ],
          [
           "X11GOST"
          ],
          [
           "Scrypt"
          ],
          [
           "X11"
          ],
          [
           "Scrypt"
          ],
          [
           "X11"
          ],
          [
           "Equihash"
          ],
          [
           "CryptoNight"
          ],
          [
           "SHA-256"
          ],
          [
           "Multiple"
          ],
          [
           "Scrypt"
          ],
          [
           "SHA-256"
          ],
          [
           "Scrypt"
          ],
          [
           "Lyra2Z"
          ],
          [
           "Ethash"
          ],
          [
           "Equihash"
          ],
          [
           "Scrypt"
          ],
          [
           "X11"
          ],
          [
           "X11"
          ],
          [
           "CryptoNight"
          ],
          [
           "Scrypt"
          ],
          [
           "CryptoNight"
          ],
          [
           "Lyra2RE"
          ],
          [
           "X11"
          ],
          [
           "CryptoNight-V7"
          ],
          [
           "Scrypt"
          ],
          [
           "X11"
          ],
          [
           "Equihash"
          ],
          [
           "Scrypt"
          ],
          [
           "Lyra2RE"
          ],
          [
           "Dagger-Hashimoto"
          ],
          [
           "Scrypt"
          ],
          [
           "NIST5"
          ],
          [
           "Scrypt"
          ],
          [
           "SHA-256"
          ],
          [
           "Scrypt"
          ],
          [
           "CryptoNight-V7"
          ],
          [
           "Argon2d"
          ],
          [
           "Blake2b"
          ],
          [
           "Cloverhash"
          ],
          [
           "CryptoNight"
          ],
          [
           "X11"
          ],
          [
           "Scrypt"
          ],
          [
           "Scrypt"
          ],
          [
           "X11"
          ],
          [
           "X11"
          ],
          [
           "CryptoNight"
          ],
          [
           "Time Travel"
          ],
          [
           "Scrypt"
          ],
          [
           "Keccak"
          ],
          [
           "X11"
          ],
          [
           "SHA-256"
          ],
          [
           "Scrypt"
          ],
          [
           "Scrypt"
          ],
          [
           "Scrypt"
          ],
          [
           "Scrypt"
          ],
          [
           "Scrypt"
          ],
          [
           "Scrypt"
          ],
          [
           "CryptoNight"
          ],
          [
           "Equihash"
          ],
          [
           "X11"
          ],
          [
           "NeoScrypt"
          ],
          [
           "Equihash"
          ],
          [
           "Dagger"
          ],
          [
           "Scrypt"
          ],
          [
           "X11"
          ],
          [
           "NeoScrypt"
          ],
          [
           "Ethash"
          ],
          [
           "NeoScrypt"
          ],
          [
           "Multiple"
          ],
          [
           "CryptoNight"
          ],
          [
           "CryptoNight"
          ],
          [
           "Ethash"
          ],
          [
           "X11"
          ],
          [
           "CryptoNight-V7"
          ],
          [
           "Scrypt"
          ],
          [
           "BLAKE256"
          ],
          [
           "X11"
          ],
          [
           "NeoScrypt"
          ],
          [
           "NeoScrypt"
          ],
          [
           "Scrypt"
          ],
          [
           "X11"
          ],
          [
           "SHA-256"
          ],
          [
           "C11"
          ],
          [
           "CryptoNight"
          ],
          [
           "SkunkHash"
          ],
          [
           "CryptoNight"
          ],
          [
           "Scrypt"
          ],
          [
           "Dagger"
          ],
          [
           "Lyra2REv2"
          ],
          [
           "Scrypt"
          ],
          [
           "Scrypt"
          ],
          [
           "X11"
          ],
          [
           "Ethash"
          ],
          [
           "CryptoNight"
          ],
          [
           "Scrypt"
          ],
          [
           "IMesh"
          ],
          [
           "Equihash"
          ],
          [
           "Lyra2Z"
          ],
          [
           "X11"
          ],
          [
           "CryptoNight"
          ],
          [
           "NIST5"
          ],
          [
           "Lyra2RE"
          ],
          [
           "Tribus"
          ],
          [
           "Lyra2Z"
          ],
          [
           "CryptoNight"
          ],
          [
           "CryptoNight Heavy"
          ],
          [
           "CryptoNight"
          ],
          [
           "Jump Consistent Hash"
          ],
          [
           "CryptoNight"
          ],
          [
           "Scrypt"
          ],
          [
           "X16R"
          ],
          [
           "HMQ1725"
          ],
          [
           "X11"
          ],
          [
           "Scrypt"
          ],
          [
           "CryptoNight-V7"
          ],
          [
           "Cryptonight-GPU"
          ],
          [
           "XEVAN"
          ],
          [
           "CryptoNight Heavy"
          ],
          [
           "SHA-256"
          ],
          [
           "X11"
          ],
          [
           "X16R"
          ],
          [
           "Equihash"
          ],
          [
           "Lyra2Z"
          ],
          [
           "SHA-256"
          ],
          [
           "CryptoNight"
          ],
          [
           "Blake"
          ],
          [
           "Blake"
          ],
          [
           "Exosis"
          ],
          [
           "Scrypt"
          ],
          [
           "Equihash"
          ],
          [
           "Equihash"
          ],
          [
           "QuBit"
          ],
          [
           "SHA-256"
          ],
          [
           "X13"
          ],
          [
           "SHA-256"
          ],
          [
           "Scrypt"
          ],
          [
           "NeoScrypt"
          ],
          [
           "Blake"
          ],
          [
           "Scrypt"
          ],
          [
           "SHA-256"
          ],
          [
           "Scrypt"
          ],
          [
           "Groestl"
          ],
          [
           "Scrypt"
          ],
          [
           "Scrypt"
          ],
          [
           "Multiple"
          ],
          [
           "Equihash+Scrypt"
          ],
          [
           "Ethash"
          ],
          [
           "SHA-256"
          ],
          [
           "CryptoNight"
          ],
          [
           "Equihash"
          ]
         ],
         "hovertemplate": "<b>%{hovertext}</b><br><br>class=%{marker.color}<br>principal component 3=%{x}<br>principal component 2=%{y}<br>principal component 1=%{z}<br>Algorithm=%{customdata[0]}<extra></extra>",
         "hovertext": [
          "Bitcoin",
          "Ethereum",
          "Litecoin",
          "Monero",
          "Ethereum Classic",
          "ZCash",
          "DigiByte",
          "ProsperCoin",
          "Spreadcoin",
          "Argentum",
          "MyriadCoin",
          "MoonCoin",
          "ZetaCoin",
          "SexCoin",
          "Quatloo",
          "QuarkCoin",
          "Riecoin",
          "Digitalcoin ",
          "Catcoin",
          "CannaCoin",
          "CryptCoin",
          "Verge",
          "DevCoin",
          "EarthCoin",
          "E-Gulden",
          "Einsteinium",
          "Emerald",
          "Franko",
          "FeatherCoin",
          "GrandCoin",
          "GlobalCoin",
          "GoldCoin",
          "Infinite Coin",
          "IXcoin",
          "KrugerCoin",
          "LuckyCoin",
          "Litebar ",
          "MegaCoin",
          "MediterraneanCoin",
          "MinCoin",
          "NobleCoin",
          "Namecoin",
          "NyanCoin",
          "RonPaulCoin",
          "StableCoin",
          "SmartCoin",
          "SysCoin",
          "TigerCoin",
          "TerraCoin",
          "UnbreakableCoin",
          "Unobtanium",
          "UroCoin",
          "ViaCoin",
          "Vertcoin",
          "WorldCoin",
          "JouleCoin",
          "ByteCoin",
          "DigitalNote ",
          "MonaCoin",
          "Gulden",
          "PesetaCoin",
          "Wild Beast Coin",
          "Flo",
          "ArtByte",
          "Folding Coin",
          "Unitus",
          "CypherPunkCoin",
          "OmniCron",
          "GreenCoin",
          "Cryptonite",
          "MasterCoin",
          "SoonCoin",
          "1Credit",
          "MarsCoin ",
          "Crypto",
          "Anarchists Prime",
          "BowsCoin",
          "Song Coin",
          "BitZeny",
          "Expanse",
          "Siacoin",
          "MindCoin",
          "I0coin",
          "Revolution VR",
          "HOdlcoin",
          "Gamecredits",
          "CarpeDiemCoin",
          "Adzcoin",
          "SoilCoin",
          "YoCoin",
          "SibCoin",
          "Francs",
          "BolivarCoin",
          "Omni",
          "PizzaCoin",
          "Komodo",
          "Karbo",
          "ZayedCoin",
          "Circuits of Value",
          "DopeCoin",
          "DollarCoin",
          "Shilling",
          "ZCoin",
          "Elementrem",
          "ZClassic",
          "KiloCoin",
          "ArtexCoin",
          "Kurrent",
          "Cannabis Industry Coin",
          "OsmiumCoin",
          "Bikercoins",
          "HexxCoin",
          "PacCoin",
          "Citadel",
          "BeaverCoin",
          "VaultCoin",
          "Zero",
          "Canada eCoin",
          "Zoin",
          "DubaiCoin",
          "EB3coin",
          "Coinonat",
          "BenjiRolls",
          "ILCoin",
          "EquiTrader",
          "Quantum Resistant Ledger",
          "Dynamic",
          "Nano",
          "ChanCoin",
          "Dinastycoin",
          "DigitalPrice",
          "Unify",
          "SocialCoin",
          "ArcticCoin",
          "DAS",
          "LeviarCoin",
          "Bitcore",
          "gCn Coin",
          "SmartCash",
          "Onix",
          "Bitcoin Cash",
          "Sojourn Coin",
          "NewYorkCoin",
          "FrazCoin",
          "Kronecoin",
          "AdCoin",
          "Linx",
          "Sumokoin",
          "BitcoinZ",
          "Elements",
          "VIVO Coin",
          "Bitcoin Gold",
          "Pirl",
          "eBoost",
          "Pura",
          "Innova",
          "Ellaism",
          "GoByte",
          "SHIELD",
          "UltraNote",
          "BitCoal",
          "DaxxCoin",
          "AC3",
          "Lethean",
          "PopularCoin",
          "Photon",
          "Sucre",
          "SparksPay",
          "GunCoin",
          "IrishCoin",
          "Pioneer Coin",
          "UnitedBitcoin",
          "Interzone",
          "TurtleCoin",
          "MUNcoin",
          "Niobio Cash",
          "ShareChain",
          "Travelflex",
          "KREDS",
          "BitFlip",
          "LottoCoin",
          "Crypto Improvement Fund",
          "Callisto Network",
          "BitTube",
          "Poseidon",
          "Aidos Kuneen",
          "Bitrolium",
          "Alpenschillling",
          "FuturoCoin",
          "Monero Classic",
          "Jumpcoin",
          "Infinex",
          "KEYCO",
          "GINcoin",
          "PlatinCoin",
          "Loki",
          "Newton Coin",
          "MassGrid",
          "PluraCoin",
          "Lynx",
          "Motion",
          "PlusOneCoin",
          "Axe",
          "HexCoin",
          "Webchain",
          "Ryo",
          "Urals Coin",
          "Qwertycoin",
          "Project Pai",
          "Azart",
          "Xchange",
          "CrypticCoin",
          "Actinium",
          "Bitcoin SV",
          "FREDEnergy",
          "Universal Molecule",
          "Lithium",
          "Exosis",
          "Block-Logic",
          "Beam",
          "Bithereum",
          "SLICE",
          "BLAST",
          "Bitcoin Rhodium",
          "GlobalToken",
          "SolarCoin",
          "UFO Coin",
          "BlakeCoin",
          "Crypto Escudo",
          "Crown Coin",
          "SmileyCoin",
          "Groestlcoin",
          "Bata",
          "Pakcoin",
          "JoinCoin",
          "Vollar",
          "Reality Clash",
          "ZEPHYR",
          "Beldex",
          "Horizen"
         ],
         "legendgroup": "1",
         "marker": {
          "color": [
           1,
           1,
           1,
           1,
           1,
           1,
           1,
           1,
           1,
           1,
           1,
           1,
           1,
           1,
           1,
           1,
           1,
           1,
           1,
           1,
           1,
           1,
           1,
           1,
           1,
           1,
           1,
           1,
           1,
           1,
           1,
           1,
           1,
           1,
           1,
           1,
           1,
           1,
           1,
           1,
           1,
           1,
           1,
           1,
           1,
           1,
           1,
           1,
           1,
           1,
           1,
           1,
           1,
           1,
           1,
           1,
           1,
           1,
           1,
           1,
           1,
           1,
           1,
           1,
           1,
           1,
           1,
           1,
           1,
           1,
           1,
           1,
           1,
           1,
           1,
           1,
           1,
           1,
           1,
           1,
           1,
           1,
           1,
           1,
           1,
           1,
           1,
           1,
           1,
           1,
           1,
           1,
           1,
           1,
           1,
           1,
           1,
           1,
           1,
           1,
           1,
           1,
           1,
           1,
           1,
           1,
           1,
           1,
           1,
           1,
           1,
           1,
           1,
           1,
           1,
           1,
           1,
           1,
           1,
           1,
           1,
           1,
           1,
           1,
           1,
           1,
           1,
           1,
           1,
           1,
           1,
           1,
           1,
           1,
           1,
           1,
           1,
           1,
           1,
           1,
           1,
           1,
           1,
           1,
           1,
           1,
           1,
           1,
           1,
           1,
           1,
           1,
           1,
           1,
           1,
           1,
           1,
           1,
           1,
           1,
           1,
           1,
           1,
           1,
           1,
           1,
           1,
           1,
           1,
           1,
           1,
           1,
           1,
           1,
           1,
           1,
           1,
           1,
           1,
           1,
           1,
           1,
           1,
           1,
           1,
           1,
           1,
           1,
           1,
           1,
           1,
           1,
           1,
           1,
           1,
           1,
           1,
           1,
           1,
           1,
           1,
           1,
           1,
           1,
           1,
           1,
           1,
           1,
           1,
           1,
           1,
           1,
           1,
           1,
           1,
           1,
           1,
           1,
           1,
           1,
           1,
           1,
           1,
           1,
           1,
           1,
           1,
           1,
           1,
           1,
           1,
           1,
           1,
           1,
           1,
           1,
           1,
           1,
           1,
           1
          ],
          "coloraxis": "coloraxis",
          "symbol": "diamond"
         },
         "mode": "markers",
         "name": "1",
         "scene": "scene",
         "showlegend": true,
         "type": "scatter3d",
         "x": [
          0.1749679709264409,
          0.39701385173411485,
          0.08124275424097412,
          0.4408038994138557,
          0.3969980595641603,
          0.27944193672431283,
          0.36052381691518637,
          0.08126601965717717,
          0.06739303446450613,
          0.08126102709307105,
          0.3650216172111385,
          0.055852496717907395,
          0.1749073494151699,
          0.08120979358619747,
          0.08126026070130374,
          0.06128088093917253,
          0.017001124944841992,
          0.0812549941643955,
          0.08126553564428735,
          0.0812668948140214,
          0.06739521831365022,
          0.3593098523429893,
          0.16732571253413417,
          0.07619497181629341,
          0.08126097090450694,
          0.08117651276227918,
          0.08126071417614379,
          0.08126820822123541,
          0.2121444869220847,
          0.08088051504944532,
          0.08124280283367662,
          0.08125066104404069,
          0.04506580855254232,
          0.17496691658378846,
          0.08120126862953683,
          0.08126156529000844,
          0.0812688753594391,
          0.08125383219550177,
          0.24363922830262968,
          0.0812667357754366,
          0.07948758600907775,
          0.17496903480533477,
          0.0811354271372963,
          0.08126757479456123,
          0.0812447116032238,
          0.08125741046855725,
          0.1747287322572237,
          0.17495771035567179,
          0.17496491108538204,
          0.17496928348582594,
          0.17497525471233624,
          0.0673976732943873,
          0.08126009151902051,
          0.10966911515838637,
          0.08121188506537473,
          0.17495929093817136,
          0.3219869589141165,
          0.392604263910407,
          0.08123963737371244,
          0.0810197527709609,
          0.08121246829676194,
          0.0812690983270613,
          0.08120797198585718,
          0.08093889282612811,
          0.35891643523306743,
          0.3656951896608647,
          0.28498041985441164,
          0.08126572885434767,
          0.07907024092668406,
          0.34570229647196515,
          0.08126908537817788,
          0.17496979293668274,
          0.07517985318201492,
          0.06738514815491124,
          0.4478449672313594,
          0.1749668628305258,
          0.06739139648264032,
          0.08124455918038398,
          0.08122757387026697,
          0.39704513776880074,
          0.39101414006647217,
          0.06739172614484742,
          0.17496694721610337,
          0.0811854141935853,
          0.2899477280211498,
          0.0812404880102352,
          0.16629528744944277,
          0.06737747507140968,
          0.35718706388433097,
          0.0812579775999146,
          0.30424476037639114,
          0.08126581827539674,
          0.06739186850784804,
          0.08126908658900553,
          0.06739596166809068,
          -0.053322020352292845,
          0.39556570819498577,
          0.17497261198367958,
          0.3653040489918068,
          0.08121713606663608,
          0.17497159771182227,
          0.08126363983840268,
          0.4130937205113835,
          0.39703928409371697,
          0.2794425267190176,
          0.08054198582671857,
          0.06709024015943496,
          0.06736252413164434,
          0.39556726215388327,
          0.08126885518279774,
          0.3955642036599173,
          0.44785261649269165,
          0.060600065721165185,
          0.4407937321593577,
          0.08126807183257848,
          0.0673217549135956,
          0.279442355325342,
          0.08122942383809043,
          0.44784633036858795,
          0.28815391927909384,
          0.08098320309895772,
          -0.048152415901277196,
          0.08126022132090523,
          0.1743704962668482,
          0.08126000823987647,
          0.44077966654040907,
          0.3026831968429072,
          0.4019829337458662,
          0.25389655580998616,
          0.39483328031938697,
          0.06737974071716998,
          0.08126201097383381,
          0.08126264564698134,
          0.06738542132667334,
          0.06739595032338735,
          0.39556068215509055,
          0.31912230643629846,
          0.01366502035343276,
          0.04857543432313553,
          0.06728443095660772,
          0.17496794811540026,
          0.08057417953361712,
          0.03358756983775171,
          0.0812647735819013,
          0.08125795350912277,
          0.08125182877942001,
          0.08125147208480687,
          0.39556011172363414,
          0.2763181516091035,
          0.066377739224781,
          0.21223312564989538,
          0.279438662738786,
          0.3571692728255987,
          0.08122937496050178,
          0.06731648839366913,
          0.21223119760633477,
          0.39702696978817814,
          0.21223225234300927,
          0.3655125945490907,
          0.383513846165051,
          0.39556665049744544,
          0.39621418190996466,
          0.06733489221817006,
          0.44059635618577997,
          0.07961662727607367,
          0.18142610663318914,
          0.06739535522326001,
          0.21223229530664453,
          0.21210324732506114,
          0.08124993167955318,
          0.06739372667918771,
          0.17496727965209738,
          0.05685788023206083,
          0.3116612387675175,
          0.37346870913959473,
          0.3955020823295756,
          0.07727320264048841,
          0.357148547052971,
          0.10940427237006713,
          0.0812625355221813,
          0.07521933827638944,
          0.06729452943419134,
          0.39653696349048445,
          0.39547609836244224,
          0.08126658584265352,
          0.16415297595091116,
          0.2794173635311924,
          0.4130686875472257,
          0.06738085352221064,
          0.395562419986956,
          -0.048154261800952336,
          0.4478504647869218,
          0.41499292096832197,
          0.41309463599176366,
          0.3955292363250866,
          0.3638775188316328,
          0.3696215203459447,
          0.285134203609239,
          0.395316042860638,
          -0.13073271625827687,
          0.11000205725637532,
          0.3393252822559969,
          0.06739502106347618,
          0.08126739744088027,
          0.4406886079386548,
          0.24511168305089193,
          0.02758773027820601,
          0.31849049198156193,
          0.17413615088771303,
          0.06739474868581716,
          0.10999635669601357,
          0.2775306617704159,
          0.4130875543018844,
          0.17496794914067687,
          0.3944116459858039,
          0.3174591031156001,
          0.31745963365740104,
          0.40503946525933837,
          0.08124962541969902,
          0.2794164946911179,
          0.27943535819666177,
          0.28497161346095123,
          0.17495366612281094,
          -0.17493889701983198,
          0.174936006399238,
          0.0747575988671958,
          0.2106963037972344,
          0.3169954717682881,
          0.08094300278573958,
          0.17496489390304798,
          0.06809585618513435,
          0.016991816284137477,
          0.08126731734114237,
          0.08123405198367221,
          0.3657156033509484,
          0.3810432488487274,
          0.3970399704670254,
          -0.17080539170550862,
          0.395149468887728,
          0.2794419655716854
         ],
         "y": [
          -1.339888930939624,
          -2.0034344304465397,
          -1.1772707727048397,
          -2.269489875329332,
          -2.0035260235546573,
          -1.8299373738930462,
          -1.8403907802286523,
          -1.1772705617846395,
          -0.8958424071820548,
          -1.1772867279761268,
          -1.8366203601733015,
          -1.3498409251011234,
          -1.339881081055296,
          -1.1773130387349129,
          -1.1773052859507513,
          -0.46537529734331484,
          -1.2099957380262345,
          -1.1772691909147655,
          -1.1772698494707028,
          -1.1772675516591569,
          -0.8958445274585561,
          -1.8361735512103914,
          -1.340113878424632,
          -1.1771782971906273,
          -1.177263131617037,
          -1.1772912878684303,
          -1.1772687689182497,
          -1.1772684433137275,
          -1.6103872993077675,
          -1.1774685686778978,
          -1.1772631886053218,
          -1.1772759814212934,
          -1.1735265636434131,
          -1.339887379280605,
          -1.1773089252420699,
          -1.177263459535089,
          -1.1772640192763246,
          -1.1772641091134248,
          -2.198879242702523,
          -1.1772656005601034,
          -1.1828442284231102,
          -1.3398904966329765,
          -1.1772511689995524,
          -1.1772728504551615,
          -1.1773644270155084,
          -1.1772744060311162,
          -1.340010948413717,
          -1.3398880547343885,
          -1.339895911239963,
          -1.3399231255508701,
          -1.3398883036579157,
          -0.8958382974834858,
          -1.1772629310985905,
          -1.1983441681315643,
          -1.1773245492788917,
          -1.3398892806486766,
          -2.310156994309848,
          -2.318679400834554,
          -1.177277734700169,
          -1.1778153248872139,
          -1.1772712524637075,
          -1.1772650462622312,
          -1.1772611432627031,
          -1.177324480574064,
          -2.172221793596659,
          -1.8365179869037618,
          -1.5468512392794835,
          -1.1772604939423443,
          -1.1794958810598022,
          -2.128972568814205,
          -1.177263928886544,
          -1.3398916123626128,
          -1.218610477063915,
          -0.8958379098109784,
          -2.2739966117497272,
          -1.3399052143062962,
          -0.8958405434201212,
          -1.1773424607574814,
          -1.1773392056912473,
          -2.0034897185136358,
          -2.156949856941445,
          -0.8958382944312976,
          -1.3398874243616874,
          -1.1772552867984516,
          -2.0709127914344223,
          -1.1772674375297283,
          -1.3389398868640012,
          -0.8958545057612234,
          -2.1226561208107415,
          -1.1773393024526628,
          -2.050634739720655,
          -1.177269718584861,
          -0.8958434254098684,
          -1.1772639290116063,
          -0.8958494492475597,
          -0.49596125817760894,
          -2.3175748840407477,
          -1.3398896016212882,
          -1.8365985468769723,
          -1.1772965030709615,
          -1.339888602336948,
          -1.1772719809091075,
          -2.169473233468051,
          -2.0034861887996516,
          -1.8299382421787047,
          -1.1816618242126342,
          -0.8956592678497457,
          -0.8959112461490609,
          -2.317583186101101,
          -1.1772647356144805,
          -2.317580872282913,
          -2.273977361919211,
          -0.9405173156053627,
          -2.26957607579771,
          -1.1772639358660852,
          -0.8962733991028752,
          -1.8299358026235182,
          -1.1772599038381786,
          -2.2739741258568307,
          -2.194635508789249,
          -1.179030179701083,
          -0.6196214028454846,
          -1.177269968649643,
          -1.340365227412465,
          -1.1772896031821425,
          -2.2695116292961734,
          -2.195681012110668,
          -2.1732785295236567,
          -2.1857479026541746,
          -2.317585172437742,
          -0.8958665893469743,
          -1.1772637199736882,
          -1.1772951250999146,
          -0.8958530762291799,
          -0.8958460968919651,
          -2.3175915477959297,
          -2.246340097160274,
          -1.1871376760151426,
          -1.1611339569889674,
          -0.8962731529865569,
          -1.3398888973689853,
          -1.1819826179060258,
          -1.1070914753241916,
          -1.1772681811263492,
          -1.1772931412218053,
          -1.1772928768277653,
          -1.1772923518860754,
          -2.317609786573385,
          -1.8368120853796501,
          -0.8953215700676838,
          -1.6103487771822869,
          -1.829932555621527,
          -2.1226990062414477,
          -1.1772598319058225,
          -0.8959102092940232,
          -1.6103557826422727,
          -2.003606848326533,
          -1.61035011673214,
          -1.8366101720840347,
          -2.3463133905333278,
          -2.317577637885709,
          -2.007725864025502,
          -0.8960466597990906,
          -2.269730983268662,
          -1.1775658416484946,
          -1.3390573238348364,
          -0.8958457132392628,
          -1.6103442742027303,
          -1.6104162876935715,
          -1.1772703990356044,
          -0.8958450663916151,
          -1.3398874575465805,
          -1.1575037911660044,
          -2.7409180377251374,
          -2.0405204219180906,
          -2.317659513292074,
          -1.1768512088946252,
          -2.1226377142763586,
          -1.1985099820292189,
          -1.1772758239995134,
          -1.1784257542924474,
          -0.8959599170694885,
          -2.0062869933026586,
          -2.317984367877438,
          -1.1772713950306435,
          -2.0693519254210675,
          -1.829928004566507,
          -2.1695887395506546,
          -0.8958682270441448,
          -2.3175746382057656,
          -0.619603784068037,
          -2.273983097672999,
          -2.2036573288478176,
          -2.1694686203244693,
          -2.3178438386516724,
          -2.202176434574396,
          -2.3800043971513434,
          -2.1925509574213016,
          -2.317748816785535,
          -0.04077041907303183,
          -1.1816790735375704,
          -2.1169793193858952,
          -0.8958458776570827,
          -1.1772731938370027,
          -2.2702771543067213,
          -2.1229973943411,
          -0.7646550860388176,
          -2.2361726898871157,
          -1.339801613321552,
          -0.8958476641211771,
          -1.1817132954189495,
          -1.8312690020397961,
          -2.1694983902822544,
          -1.3398888988778686,
          -2.32028938320096,
          -2.1418740931834592,
          -2.141831187109753,
          -2.18470225723415,
          -1.1773005707683564,
          -1.8300321546308018,
          -1.8299330983365172,
          -1.5468929619999223,
          -1.3398913924588998,
          -0.2564260957498248,
          -1.339922273194569,
          -1.2213247120002177,
          -1.610259614823041,
          -2.1449620980204225,
          -1.1773305291351142,
          -1.3398958859530001,
          -1.185218235502893,
          -1.2099935220398221,
          -1.177263722293582,
          -1.1773115550218285,
          -1.8365495605236344,
          -2.1120202664492145,
          -2.003486259692575,
          0.7259304323424303,
          -2.3177225260836396,
          -1.8299374163472566
         ],
         "z": [
          -0.13865914589283213,
          -0.15107337931460132,
          -0.17613486947758006,
          -0.1511132169386031,
          -0.14951545259392135,
          -0.1384507924439294,
          0.16348214942721537,
          -0.177280711545418,
          -0.22260009248449683,
          -0.17689729766744028,
          -0.0898555912029288,
          2.5445692730731984,
          -0.13574513838215516,
          -0.1741535111244011,
          -0.1767012956007322,
          -0.22739754589607622,
          -0.19065230365490302,
          -0.17675024383007104,
          -0.17726298758667755,
          -0.1773494251227988,
          -0.22268939223769657,
          0.18720039812815606,
          0.23905670661716716,
          0.07129353317293063,
          -0.177095832411192,
          -0.1727025294566386,
          -0.17703511702388963,
          -0.17740640339784852,
          -0.16748919312209584,
          -0.15663491437664248,
          -0.17620195800371372,
          -0.17647923998547543,
          1.5708719940098876,
          -0.13862053715727457,
          -0.17376940059729076,
          -0.17712226301688766,
          -0.17747694987804538,
          -0.17673645795631998,
          -0.1496992201878266,
          -0.17735824922760918,
          -0.04228055679631237,
          -0.13869810383386794,
          -0.17102445338365063,
          -0.17733765877019206,
          -0.17543216610680862,
          -0.17682457250717243,
          -0.12585401851301597,
          -0.13816207217079848,
          -0.13844913458244815,
          -0.13843197891316422,
          -0.13902266665128404,
          -0.22286325949287755,
          -0.17705430051816493,
          -0.18118457894736145,
          -0.1741581614644698,
          -0.13822933686890787,
          3.866649597628169,
          0.4668507920633986,
          -0.17592221014506584,
          -0.16052358920265905,
          -0.17464150980670554,
          -0.17747915288931032,
          -0.17450665070179672,
          -0.1607347544414083,
          -0.11455854080684649,
          -0.12385086309655788,
          -0.18118800555275522,
          -0.17735229930827046,
          -0.0503225775002523,
          -0.09391427121249132,
          -0.17748804834608886,
          -0.13872586567453957,
          0.47466350435489124,
          -0.22225066131010557,
          -0.1562491285285607,
          -0.138465745435637,
          -0.2225354466591258,
          -0.17561206247277067,
          -0.17480460333267206,
          -0.15214016827517973,
          0.3661190750297861,
          -0.22257084317112366,
          -0.13862165887509492,
          -0.173447365138671,
          -0.13628888331526773,
          -0.17605188288574897,
          0.27971116704177695,
          -0.22173177059985885,
          -0.14708073578496847,
          -0.17629883670358765,
          -0.13668062956315685,
          -0.17727800212866865,
          -0.22253407189480612,
          -0.17748810681986668,
          -0.22268395840565386,
          -0.22095767313439366,
          0.3118036096402259,
          -0.13888164157284275,
          -0.10392984658656199,
          -0.1746556306185149,
          -0.13884029101716688,
          -0.17715158106407716,
          -0.15060227911423094,
          -0.15188243395525758,
          -0.13847239732680283,
          -0.10421607173402178,
          -0.20927296632440723,
          -0.22051253455348258,
          0.3117980198795004,
          -0.1774698467256356,
          0.3119286779284071,
          -0.15678948775563673,
          0.49255051873433475,
          -0.14987789115741657,
          -0.1774381491855471,
          -0.2154182842346853,
          -0.1384847808493216,
          -0.17557208746843958,
          -0.15650798328225088,
          -0.14670435750966856,
          -0.14836253068482544,
          -0.17976201185426546,
          -0.17700064682421907,
          -0.1052159768720869,
          -0.176822669014639,
          -0.14973602040949247,
          -0.15450093968419792,
          -0.03395730852888693,
          -0.1363309293180476,
          0.3479074457145866,
          -0.22174009677507986,
          -0.17714195709486405,
          -0.17690525281836217,
          -0.2221347112204844,
          -0.22271199909351694,
          0.31219291429777396,
          -0.14286418427545752,
          3.231074498957405,
          -0.10315620260036054,
          -0.21358503295886005,
          -0.13865831058047678,
          -0.10306249721325515,
          1.5685477148410558,
          -0.17723974673341342,
          -0.176691448046512,
          -0.17639252895686366,
          -0.17637946723735204,
          0.3123765572703817,
          0.07380410722095773,
          -0.17711763707759515,
          -0.17217650028303402,
          -0.13833090310703436,
          -0.14584003604431225,
          -0.17557029763105847,
          -0.21825763991780617,
          -0.17202192882136555,
          -0.1502475639556805,
          -0.17212212915671207,
          -0.11408559536166119,
          1.1496010380777733,
          0.31178076602221505,
          -0.07514107844434972,
          -0.21799857797010727,
          -0.1388507198086136,
          -0.09365526193767432,
          1.0993015090527412,
          -0.22268600881281458,
          -0.17217408375425108,
          -0.16521399992627103,
          -0.1764909972247344,
          -0.22261144572600916,
          -0.13863772283134265,
          -0.20244119963078827,
          8.04917299527804,
          -0.15780996964258084,
          0.31565428037241156,
          0.01548276180323309,
          -0.14534375102816127,
          -0.16674678446603264,
          -0.177064492985562,
          0.12991079036265724,
          -0.21675378915644253,
          -0.10328822450985337,
          0.3197032997070333,
          -0.17730144456355346,
          -0.13499698983653052,
          -0.137322370309301,
          -0.14838595114409858,
          -0.22178084633164272,
          0.3119632052603022,
          -0.17982154613967571,
          -0.15663474974536598,
          -0.13977561718264386,
          -0.15068665069920179,
          0.3158914801812956,
          0.5885262047940765,
          2.120149764838679,
          -0.1272401855362864,
          0.3255643359935227,
          2.219305083296841,
          -0.17755731427111476,
          -0.15433874622501936,
          -0.22266817436647907,
          -0.17732600831329617,
          -0.13872774431662815,
          -0.1242543702615168,
          -0.12772406451060583,
          3.110384721242669,
          -0.0985005112237749,
          -0.22263954048162582,
          -0.17698505477145354,
          -0.03310668727153983,
          -0.15008445501123538,
          -0.13865834812485653,
          0.3917099964326889,
          -0.1326007201178543,
          -0.13299283534675393,
          -0.1460789062250661,
          -0.17621854588044047,
          -0.13639115455643658,
          -0.13816377725574505,
          -0.1803990324976254,
          -0.1379347292180686,
          -0.10047031225983614,
          -0.13680289831742523,
          0.5185820567701291,
          -0.09736617227234294,
          -0.08345892620723382,
          -0.1608852561245658,
          -0.1384485053864367,
          0.5381434282289407,
          -0.19021346822864674,
          -0.17740287013695202,
          -0.17535903963533184,
          -0.12458532558096252,
          -0.1283398968782999,
          -0.15191558057731386,
          2.48121781588765,
          0.333531084048028,
          -0.13845184879931682
         ]
        },
        {
         "customdata": [
          [
           "VeChainThor Authority"
          ],
          [
           "Proof-of-BibleHash"
          ],
          [
           "SHA-256 + Hive"
          ],
          [
           "ECC 256K1"
          ],
          [
           "Leased POS"
          ]
         ],
         "hovertemplate": "<b>%{hovertext}</b><br><br>class=%{marker.color}<br>principal component 3=%{x}<br>principal component 2=%{y}<br>principal component 1=%{z}<br>Algorithm=%{customdata[0]}<extra></extra>",
         "hovertext": [
          "Vechain",
          "BiblePay",
          "LitecoinCash",
          "Acute Angle Cloud",
          "Waves"
         ],
         "legendgroup": "3",
         "marker": {
          "color": [
           3,
           3,
           3,
           3,
           3
          ],
          "coloraxis": "coloraxis",
          "symbol": "square"
         },
         "mode": "markers",
         "name": "3",
         "scene": "scene",
         "showlegend": true,
         "type": "scatter3d",
         "x": [
          7.484116040201988,
          12.749500636272778,
          23.02618754634997,
          10.725745640244803,
          10.898144742986457
         ],
         "y": [
          2.276629386769541,
          3.222590432115104,
          3.4736177308688636,
          3.9027784627901556,
          3.2433233744947536
         ],
         "z": [
          4.401867401029935,
          -0.1773419423639604,
          -0.3797180430316123,
          -0.33493637113887353,
          -0.40620274680631696
         ]
        },
        {
         "customdata": [
          [
           "TRC10"
          ]
         ],
         "hovertemplate": "<b>%{hovertext}</b><br><br>class=%{marker.color}<br>principal component 3=%{x}<br>principal component 2=%{y}<br>principal component 1=%{z}<br>Algorithm=%{customdata[0]}<extra></extra>",
         "hovertext": [
          "BitTorrent"
         ],
         "legendgroup": "2",
         "marker": {
          "color": [
           2
          ],
          "coloraxis": "coloraxis",
          "symbol": "x"
         },
         "mode": "markers",
         "name": "2",
         "scene": "scene",
         "showlegend": true,
         "type": "scatter3d",
         "x": [
          -1.0798948860167197
         ],
         "y": [
          1.9204381513335929
         ],
         "z": [
          34.05039659090871
         ]
        }
       ],
       "layout": {
        "coloraxis": {
         "colorbar": {
          "title": {
           "text": "class"
          }
         },
         "colorscale": [
          [
           0,
           "#0d0887"
          ],
          [
           0.1111111111111111,
           "#46039f"
          ],
          [
           0.2222222222222222,
           "#7201a8"
          ],
          [
           0.3333333333333333,
           "#9c179e"
          ],
          [
           0.4444444444444444,
           "#bd3786"
          ],
          [
           0.5555555555555556,
           "#d8576b"
          ],
          [
           0.6666666666666666,
           "#ed7953"
          ],
          [
           0.7777777777777778,
           "#fb9f3a"
          ],
          [
           0.8888888888888888,
           "#fdca26"
          ],
          [
           1,
           "#f0f921"
          ]
         ]
        },
        "legend": {
         "title": {
          "text": "class"
         },
         "tracegroupgap": 0,
         "x": 0,
         "y": 1
        },
        "margin": {
         "t": 60
        },
        "scene": {
         "domain": {
          "x": [
           0,
           1
          ],
          "y": [
           0,
           1
          ]
         },
         "xaxis": {
          "title": {
           "text": "principal component 3"
          }
         },
         "yaxis": {
          "title": {
           "text": "principal component 2"
          }
         },
         "zaxis": {
          "title": {
           "text": "principal component 1"
          }
         }
        },
        "template": {
         "data": {
          "bar": [
           {
            "error_x": {
             "color": "#2a3f5f"
            },
            "error_y": {
             "color": "#2a3f5f"
            },
            "marker": {
             "line": {
              "color": "#E5ECF6",
              "width": 0.5
             },
             "pattern": {
              "fillmode": "overlay",
              "size": 10,
              "solidity": 0.2
             }
            },
            "type": "bar"
           }
          ],
          "barpolar": [
           {
            "marker": {
             "line": {
              "color": "#E5ECF6",
              "width": 0.5
             },
             "pattern": {
              "fillmode": "overlay",
              "size": 10,
              "solidity": 0.2
             }
            },
            "type": "barpolar"
           }
          ],
          "carpet": [
           {
            "aaxis": {
             "endlinecolor": "#2a3f5f",
             "gridcolor": "white",
             "linecolor": "white",
             "minorgridcolor": "white",
             "startlinecolor": "#2a3f5f"
            },
            "baxis": {
             "endlinecolor": "#2a3f5f",
             "gridcolor": "white",
             "linecolor": "white",
             "minorgridcolor": "white",
             "startlinecolor": "#2a3f5f"
            },
            "type": "carpet"
           }
          ],
          "choropleth": [
           {
            "colorbar": {
             "outlinewidth": 0,
             "ticks": ""
            },
            "type": "choropleth"
           }
          ],
          "contour": [
           {
            "colorbar": {
             "outlinewidth": 0,
             "ticks": ""
            },
            "colorscale": [
             [
              0,
              "#0d0887"
             ],
             [
              0.1111111111111111,
              "#46039f"
             ],
             [
              0.2222222222222222,
              "#7201a8"
             ],
             [
              0.3333333333333333,
              "#9c179e"
             ],
             [
              0.4444444444444444,
              "#bd3786"
             ],
             [
              0.5555555555555556,
              "#d8576b"
             ],
             [
              0.6666666666666666,
              "#ed7953"
             ],
             [
              0.7777777777777778,
              "#fb9f3a"
             ],
             [
              0.8888888888888888,
              "#fdca26"
             ],
             [
              1,
              "#f0f921"
             ]
            ],
            "type": "contour"
           }
          ],
          "contourcarpet": [
           {
            "colorbar": {
             "outlinewidth": 0,
             "ticks": ""
            },
            "type": "contourcarpet"
           }
          ],
          "heatmap": [
           {
            "colorbar": {
             "outlinewidth": 0,
             "ticks": ""
            },
            "colorscale": [
             [
              0,
              "#0d0887"
             ],
             [
              0.1111111111111111,
              "#46039f"
             ],
             [
              0.2222222222222222,
              "#7201a8"
             ],
             [
              0.3333333333333333,
              "#9c179e"
             ],
             [
              0.4444444444444444,
              "#bd3786"
             ],
             [
              0.5555555555555556,
              "#d8576b"
             ],
             [
              0.6666666666666666,
              "#ed7953"
             ],
             [
              0.7777777777777778,
              "#fb9f3a"
             ],
             [
              0.8888888888888888,
              "#fdca26"
             ],
             [
              1,
              "#f0f921"
             ]
            ],
            "type": "heatmap"
           }
          ],
          "heatmapgl": [
           {
            "colorbar": {
             "outlinewidth": 0,
             "ticks": ""
            },
            "colorscale": [
             [
              0,
              "#0d0887"
             ],
             [
              0.1111111111111111,
              "#46039f"
             ],
             [
              0.2222222222222222,
              "#7201a8"
             ],
             [
              0.3333333333333333,
              "#9c179e"
             ],
             [
              0.4444444444444444,
              "#bd3786"
             ],
             [
              0.5555555555555556,
              "#d8576b"
             ],
             [
              0.6666666666666666,
              "#ed7953"
             ],
             [
              0.7777777777777778,
              "#fb9f3a"
             ],
             [
              0.8888888888888888,
              "#fdca26"
             ],
             [
              1,
              "#f0f921"
             ]
            ],
            "type": "heatmapgl"
           }
          ],
          "histogram": [
           {
            "marker": {
             "pattern": {
              "fillmode": "overlay",
              "size": 10,
              "solidity": 0.2
             }
            },
            "type": "histogram"
           }
          ],
          "histogram2d": [
           {
            "colorbar": {
             "outlinewidth": 0,
             "ticks": ""
            },
            "colorscale": [
             [
              0,
              "#0d0887"
             ],
             [
              0.1111111111111111,
              "#46039f"
             ],
             [
              0.2222222222222222,
              "#7201a8"
             ],
             [
              0.3333333333333333,
              "#9c179e"
             ],
             [
              0.4444444444444444,
              "#bd3786"
             ],
             [
              0.5555555555555556,
              "#d8576b"
             ],
             [
              0.6666666666666666,
              "#ed7953"
             ],
             [
              0.7777777777777778,
              "#fb9f3a"
             ],
             [
              0.8888888888888888,
              "#fdca26"
             ],
             [
              1,
              "#f0f921"
             ]
            ],
            "type": "histogram2d"
           }
          ],
          "histogram2dcontour": [
           {
            "colorbar": {
             "outlinewidth": 0,
             "ticks": ""
            },
            "colorscale": [
             [
              0,
              "#0d0887"
             ],
             [
              0.1111111111111111,
              "#46039f"
             ],
             [
              0.2222222222222222,
              "#7201a8"
             ],
             [
              0.3333333333333333,
              "#9c179e"
             ],
             [
              0.4444444444444444,
              "#bd3786"
             ],
             [
              0.5555555555555556,
              "#d8576b"
             ],
             [
              0.6666666666666666,
              "#ed7953"
             ],
             [
              0.7777777777777778,
              "#fb9f3a"
             ],
             [
              0.8888888888888888,
              "#fdca26"
             ],
             [
              1,
              "#f0f921"
             ]
            ],
            "type": "histogram2dcontour"
           }
          ],
          "mesh3d": [
           {
            "colorbar": {
             "outlinewidth": 0,
             "ticks": ""
            },
            "type": "mesh3d"
           }
          ],
          "parcoords": [
           {
            "line": {
             "colorbar": {
              "outlinewidth": 0,
              "ticks": ""
             }
            },
            "type": "parcoords"
           }
          ],
          "pie": [
           {
            "automargin": true,
            "type": "pie"
           }
          ],
          "scatter": [
           {
            "marker": {
             "colorbar": {
              "outlinewidth": 0,
              "ticks": ""
             }
            },
            "type": "scatter"
           }
          ],
          "scatter3d": [
           {
            "line": {
             "colorbar": {
              "outlinewidth": 0,
              "ticks": ""
             }
            },
            "marker": {
             "colorbar": {
              "outlinewidth": 0,
              "ticks": ""
             }
            },
            "type": "scatter3d"
           }
          ],
          "scattercarpet": [
           {
            "marker": {
             "colorbar": {
              "outlinewidth": 0,
              "ticks": ""
             }
            },
            "type": "scattercarpet"
           }
          ],
          "scattergeo": [
           {
            "marker": {
             "colorbar": {
              "outlinewidth": 0,
              "ticks": ""
             }
            },
            "type": "scattergeo"
           }
          ],
          "scattergl": [
           {
            "marker": {
             "colorbar": {
              "outlinewidth": 0,
              "ticks": ""
             }
            },
            "type": "scattergl"
           }
          ],
          "scattermapbox": [
           {
            "marker": {
             "colorbar": {
              "outlinewidth": 0,
              "ticks": ""
             }
            },
            "type": "scattermapbox"
           }
          ],
          "scatterpolar": [
           {
            "marker": {
             "colorbar": {
              "outlinewidth": 0,
              "ticks": ""
             }
            },
            "type": "scatterpolar"
           }
          ],
          "scatterpolargl": [
           {
            "marker": {
             "colorbar": {
              "outlinewidth": 0,
              "ticks": ""
             }
            },
            "type": "scatterpolargl"
           }
          ],
          "scatterternary": [
           {
            "marker": {
             "colorbar": {
              "outlinewidth": 0,
              "ticks": ""
             }
            },
            "type": "scatterternary"
           }
          ],
          "surface": [
           {
            "colorbar": {
             "outlinewidth": 0,
             "ticks": ""
            },
            "colorscale": [
             [
              0,
              "#0d0887"
             ],
             [
              0.1111111111111111,
              "#46039f"
             ],
             [
              0.2222222222222222,
              "#7201a8"
             ],
             [
              0.3333333333333333,
              "#9c179e"
             ],
             [
              0.4444444444444444,
              "#bd3786"
             ],
             [
              0.5555555555555556,
              "#d8576b"
             ],
             [
              0.6666666666666666,
              "#ed7953"
             ],
             [
              0.7777777777777778,
              "#fb9f3a"
             ],
             [
              0.8888888888888888,
              "#fdca26"
             ],
             [
              1,
              "#f0f921"
             ]
            ],
            "type": "surface"
           }
          ],
          "table": [
           {
            "cells": {
             "fill": {
              "color": "#EBF0F8"
             },
             "line": {
              "color": "white"
             }
            },
            "header": {
             "fill": {
              "color": "#C8D4E3"
             },
             "line": {
              "color": "white"
             }
            },
            "type": "table"
           }
          ]
         },
         "layout": {
          "annotationdefaults": {
           "arrowcolor": "#2a3f5f",
           "arrowhead": 0,
           "arrowwidth": 1
          },
          "autotypenumbers": "strict",
          "coloraxis": {
           "colorbar": {
            "outlinewidth": 0,
            "ticks": ""
           }
          },
          "colorscale": {
           "diverging": [
            [
             0,
             "#8e0152"
            ],
            [
             0.1,
             "#c51b7d"
            ],
            [
             0.2,
             "#de77ae"
            ],
            [
             0.3,
             "#f1b6da"
            ],
            [
             0.4,
             "#fde0ef"
            ],
            [
             0.5,
             "#f7f7f7"
            ],
            [
             0.6,
             "#e6f5d0"
            ],
            [
             0.7,
             "#b8e186"
            ],
            [
             0.8,
             "#7fbc41"
            ],
            [
             0.9,
             "#4d9221"
            ],
            [
             1,
             "#276419"
            ]
           ],
           "sequential": [
            [
             0,
             "#0d0887"
            ],
            [
             0.1111111111111111,
             "#46039f"
            ],
            [
             0.2222222222222222,
             "#7201a8"
            ],
            [
             0.3333333333333333,
             "#9c179e"
            ],
            [
             0.4444444444444444,
             "#bd3786"
            ],
            [
             0.5555555555555556,
             "#d8576b"
            ],
            [
             0.6666666666666666,
             "#ed7953"
            ],
            [
             0.7777777777777778,
             "#fb9f3a"
            ],
            [
             0.8888888888888888,
             "#fdca26"
            ],
            [
             1,
             "#f0f921"
            ]
           ],
           "sequentialminus": [
            [
             0,
             "#0d0887"
            ],
            [
             0.1111111111111111,
             "#46039f"
            ],
            [
             0.2222222222222222,
             "#7201a8"
            ],
            [
             0.3333333333333333,
             "#9c179e"
            ],
            [
             0.4444444444444444,
             "#bd3786"
            ],
            [
             0.5555555555555556,
             "#d8576b"
            ],
            [
             0.6666666666666666,
             "#ed7953"
            ],
            [
             0.7777777777777778,
             "#fb9f3a"
            ],
            [
             0.8888888888888888,
             "#fdca26"
            ],
            [
             1,
             "#f0f921"
            ]
           ]
          },
          "colorway": [
           "#636efa",
           "#EF553B",
           "#00cc96",
           "#ab63fa",
           "#FFA15A",
           "#19d3f3",
           "#FF6692",
           "#B6E880",
           "#FF97FF",
           "#FECB52"
          ],
          "font": {
           "color": "#2a3f5f"
          },
          "geo": {
           "bgcolor": "white",
           "lakecolor": "white",
           "landcolor": "#E5ECF6",
           "showlakes": true,
           "showland": true,
           "subunitcolor": "white"
          },
          "hoverlabel": {
           "align": "left"
          },
          "hovermode": "closest",
          "mapbox": {
           "style": "light"
          },
          "paper_bgcolor": "white",
          "plot_bgcolor": "#E5ECF6",
          "polar": {
           "angularaxis": {
            "gridcolor": "white",
            "linecolor": "white",
            "ticks": ""
           },
           "bgcolor": "#E5ECF6",
           "radialaxis": {
            "gridcolor": "white",
            "linecolor": "white",
            "ticks": ""
           }
          },
          "scene": {
           "xaxis": {
            "backgroundcolor": "#E5ECF6",
            "gridcolor": "white",
            "gridwidth": 2,
            "linecolor": "white",
            "showbackground": true,
            "ticks": "",
            "zerolinecolor": "white"
           },
           "yaxis": {
            "backgroundcolor": "#E5ECF6",
            "gridcolor": "white",
            "gridwidth": 2,
            "linecolor": "white",
            "showbackground": true,
            "ticks": "",
            "zerolinecolor": "white"
           },
           "zaxis": {
            "backgroundcolor": "#E5ECF6",
            "gridcolor": "white",
            "gridwidth": 2,
            "linecolor": "white",
            "showbackground": true,
            "ticks": "",
            "zerolinecolor": "white"
           }
          },
          "shapedefaults": {
           "line": {
            "color": "#2a3f5f"
           }
          },
          "ternary": {
           "aaxis": {
            "gridcolor": "white",
            "linecolor": "white",
            "ticks": ""
           },
           "baxis": {
            "gridcolor": "white",
            "linecolor": "white",
            "ticks": ""
           },
           "bgcolor": "#E5ECF6",
           "caxis": {
            "gridcolor": "white",
            "linecolor": "white",
            "ticks": ""
           }
          },
          "title": {
           "x": 0.05
          },
          "xaxis": {
           "automargin": true,
           "gridcolor": "white",
           "linecolor": "white",
           "ticks": "",
           "title": {
            "standoff": 15
           },
           "zerolinecolor": "white",
           "zerolinewidth": 2
          },
          "yaxis": {
           "automargin": true,
           "gridcolor": "white",
           "linecolor": "white",
           "ticks": "",
           "title": {
            "standoff": 15
           },
           "zerolinecolor": "white",
           "zerolinewidth": 2
          }
         }
        },
        "width": 800
       }
      },
      "text/html": [
       "<div>                            <div id=\"fc8ec6c7-f2b2-40ff-a59f-d41b9e8df3dc\" class=\"plotly-graph-div\" style=\"height:525px; width:800px;\"></div>            <script type=\"text/javascript\">                require([\"plotly\"], function(Plotly) {                    window.PLOTLYENV=window.PLOTLYENV || {};                                    if (document.getElementById(\"fc8ec6c7-f2b2-40ff-a59f-d41b9e8df3dc\")) {                    Plotly.newPlot(                        \"fc8ec6c7-f2b2-40ff-a59f-d41b9e8df3dc\",                        [{\"customdata\":[[\"Scrypt\"],[\"Scrypt\"],[\"X13\"],[\"X11\"],[\"SHA-512\"],[\"SHA-256\"],[\"SHA-256\"],[\"X15\"],[\"Scrypt\"],[\"Scrypt\"],[\"Scrypt\"],[\"Scrypt\"],[\"Scrypt\"],[\"Scrypt\"],[\"Groestl\"],[\"PoS\"],[\"Scrypt\"],[\"Scrypt\"],[\"X11\"],[\"X11\"],[\"SHA3\"],[\"Scrypt\"],[\"SHA-256\"],[\"Scrypt\"],[\"X13\"],[\"X13\"],[\"NeoScrypt\"],[\"Scrypt\"],[\"Scrypt\"],[\"Scrypt\"],[\"X11\"],[\"X11\"],[\"Multiple\"],[\"PHI1612\"],[\"X11\"],[\"Scrypt\"],[\"Scrypt\"],[\"Scrypt\"],[\"X11\"],[\"Multiple\"],[\"X13\"],[\"Scrypt\"],[\"Shabal256\"],[\"Counterparty\"],[\"SHA-256\"],[\"Groestl\"],[\"Scrypt\"],[\"X13\"],[\"Scrypt\"],[\"Scrypt\"],[\"X13\"],[\"X11\"],[\"Scrypt\"],[\"X11\"],[\"SHA3\"],[\"QUAIT\"],[\"X11\"],[\"Scrypt\"],[\"X13\"],[\"SHA-256\"],[\"X15\"],[\"BLAKE256\"],[\"SHA-256\"],[\"X11\"],[\"SHA-256\"],[\"NIST5\"],[\"Scrypt\"],[\"Scrypt\"],[\"X11\"],[\"Scrypt\"],[\"SHA-256\"],[\"Scrypt\"],[\"PoS\"],[\"X11\"],[\"SHA-256\"],[\"SHA-256\"],[\"NIST5\"],[\"X11\"],[\"POS 3.0\"],[\"Scrypt\"],[\"Scrypt\"],[\"Scrypt\"],[\"X13\"],[\"X11\"],[\"X11\"],[\"Scrypt\"],[\"SHA-256\"],[\"X11\"],[\"Scrypt\"],[\"Scrypt\"],[\"Scrypt\"],[\"Scrypt\"],[\"SHA-256D\"],[\"PoS\"],[\"Scrypt\"],[\"X11\"],[\"PoS\"],[\"X13\"],[\"X14\"],[\"PoS\"],[\"SHA-256D\"],[\"DPoS\"],[\"X11\"],[\"X13\"],[\"X11\"],[\"PoS\"],[\"Scrypt\"],[\"Scrypt\"],[\"PoS\"],[\"X11\"],[\"SHA-256\"],[\"Scrypt\"],[\"X11\"],[\"Scrypt\"],[\"Scrypt\"],[\"X11\"],[\"Scrypt\"],[\"Scrypt\"],[\"Scrypt\"],[\"Scrypt\"],[\"Quark\"],[\"QuBit\"],[\"Scrypt\"],[\"SHA-256\"],[\"X11\"],[\"Scrypt\"],[\"Scrypt\"],[\"Scrypt\"],[\"Scrypt\"],[\"X13\"],[\"Scrypt\"],[\"Scrypt\"],[\"X11\"],[\"Blake2S\"],[\"X11\"],[\"PoS\"],[\"X11\"],[\"PoS\"],[\"X11\"],[\"Scrypt\"],[\"Scrypt\"],[\"Scrypt\"],[\"SHA-256\"],[\"X11\"],[\"Scrypt\"],[\"PoS\"],[\"Scrypt\"],[\"X15\"],[\"SHA-256\"],[\"POS 3.0\"],[\"536\"],[\"NIST5\"],[\"NIST5\"],[\"Skein\"],[\"X13\"],[\"Scrypt\"],[\"X13\"],[\"SkunkHash v2 Raptor\"],[\"Skein\"],[\"X11\"],[\"Scrypt\"],[\"PoS\"],[\"Scrypt\"],[\"Scrypt\"],[\"SHA-512\"],[\"Ouroboros\"],[\"X11\"],[\"NeoScrypt\"],[\"Scrypt\"],[\"Lyra2REv2\"],[\"Scrypt\"],[\"SHA-256\"],[\"NIST5\"],[\"PHI1612\"],[\"Scrypt\"],[\"Quark\"],[\"POS 2.0\"],[\"Scrypt\"],[\"SHA-256\"],[\"X11\"],[\"DPoS\"],[\"NIST5\"],[\"X13\"],[\"Scrypt\"],[\"NIST5\"],[\"Quark\"],[\"Scrypt\"],[\"Scrypt\"],[\"X11\"],[\"Quark\"],[\"Scrypt\"],[\"Scrypt\"],[\"X11\"],[\"POS 3.0\"],[\"Ethash\"],[\"Scrypt\"],[\"Scrypt\"],[\"X13\"],[\"C11\"],[\"Proof-of-Authority\"],[\"X11\"],[\"XEVAN\"],[\"Scrypt\"],[\"VBFT\"],[\"NIST5\"],[\"Scrypt\"],[\"Scrypt\"],[\"Scrypt\"],[\"Green Protocol\"],[\"PoS\"],[\"Scrypt\"],[\"Semux BFT consensus\"],[\"Quark\"],[\"PoS\"],[\"X16R\"],[\"Scrypt\"],[\"XEVAN\"],[\"Scrypt\"],[\"Scrypt\"],[\"Scrypt\"],[\"SHA-256D\"],[\"Scrypt\"],[\"X15\"],[\"Quark\"],[\"SHA-256\"],[\"DPoS\"],[\"X16R\"],[\"Quark\"],[\"Quark\"],[\"Scrypt\"],[\"Lyra2REv2\"],[\"Quark\"],[\"Scrypt\"],[\"X11\"],[\"X11\"],[\"Scrypt\"],[\"PoS\"],[\"Keccak\"],[\"X11\"],[\"Scrypt\"],[\"SHA-512\"],[\"XEVAN\"],[\"XEVAN\"],[\"X11\"],[\"Quark\"],[\"Equihash\"],[\"Scrypt\"],[\"Quark\"],[\"Quark\"],[\"Scrypt\"],[\"X11\"],[\"Scrypt\"],[\"XEVAN\"],[\"SHA-256D\"],[\"X11\"],[\"X11\"],[\"DPoS\"],[\"Scrypt\"],[\"X11\"],[\"Scrypt\"],[\"Scrypt\"],[\"SHA-256\"],[\"Scrypt\"],[\"X11\"],[\"Scrypt\"],[\"SHA-256\"],[\"X11\"],[\"Scrypt\"],[\"Scrypt\"],[\"X11\"],[\"Scrypt\"],[\"PoS\"],[\"X11\"],[\"SHA-256\"],[\"DPoS\"],[\"Scrypt\"],[\"Scrypt\"],[\"NeoScrypt\"],[\"X13\"],[\"DPoS\"],[\"DPoS\"],[\"SHA-256\"],[\"PoS\"],[\"PoS\"],[\"Scrypt\"],[\"Scrypt\"]],\"hovertemplate\":\"<b>%{hovertext}</b><br><br>class=%{marker.color}<br>principal component 3=%{x}<br>principal component 2=%{y}<br>principal component 1=%{z}<br>Algorithm=%{customdata[0]}<extra></extra>\",\"hovertext\":[\"42 Coin\",\"404Coin\",\"EliteCoin\",\"Dash\",\"Bitshares\",\"BitcoinDark\",\"PayCoin\",\"KoboCoin\",\"Aurora Coin\",\"BlueCoin\",\"EnergyCoin\",\"BitBar\",\"CryptoBullion\",\"CasinoCoin\",\"Diamond\",\"Exclusive Coin\",\"FlutterCoin\",\"HoboNickels\",\"HyperStake\",\"IOCoin\",\"MaxCoin\",\"MintCoin\",\"MazaCoin\",\"Nautilus Coin\",\"NavCoin\",\"OpalCoin\",\"Orbitcoin\",\"PotCoin\",\"PhoenixCoin\",\"Reddcoin\",\"SuperCoin\",\"SyncCoin\",\"TeslaCoin\",\"TittieCoin\",\"TorCoin\",\"UnitaryStatus Dollar\",\"UltraCoin\",\"VeriCoin\",\"X11 Coin\",\"Crypti\",\"StealthCoin\",\"ZCC Coin\",\"BurstCoin\",\"StorjCoin\",\"Neutron\",\"FairCoin\",\"RubyCoin\",\"Kore\",\"Dnotes\",\"8BIT Coin\",\"Sativa Coin\",\"Ucoin\",\"Vtorrent\",\"IslaCoin\",\"Nexus\",\"Droidz\",\"Squall Coin\",\"Diggits\",\"Paycon\",\"Emercoin\",\"EverGreenCoin\",\"Decred\",\"EDRCoin\",\"Hitcoin\",\"DubaiCoin\",\"PWR Coin\",\"BillaryCoin\",\"GPU Coin\",\"EuropeCoin\",\"ZeitCoin\",\"SwingCoin\",\"SafeExchangeCoin\",\"Nebuchadnezzar\",\"Ratecoin\",\"Revenu\",\"Clockcoin\",\"VIP Tokens\",\"BitSend\",\"Let it Ride\",\"PutinCoin\",\"iBankCoin\",\"Frankywillcoin\",\"MudraCoin\",\"Lutetium Coin\",\"GoldBlocks\",\"CarterCoin\",\"BitTokens\",\"MustangCoin\",\"ZoneCoin\",\"RootCoin\",\"BitCurrency\",\"Swiscoin\",\"BuzzCoin\",\"Opair\",\"PesoBit\",\"Halloween Coin\",\"CoffeeCoin\",\"RoyalCoin\",\"GanjaCoin V2\",\"TeamUP\",\"LanaCoin\",\"ARK\",\"InsaneCoin\",\"EmberCoin\",\"XenixCoin\",\"FreeCoin\",\"PLNCoin\",\"AquariusCoin\",\"Creatio\",\"Eternity\",\"Eurocoin\",\"BitcoinFast\",\"Stakenet\",\"BitConnect Coin\",\"MoneyCoin\",\"Enigma\",\"Russiacoin\",\"PandaCoin\",\"GameUnits\",\"GAKHcoin\",\"Allsafe\",\"LiteCreed\",\"Klingon Empire Darsek\",\"Internet of People\",\"KushCoin\",\"Printerium\",\"Impeach\",\"Zilbercoin\",\"FirstCoin\",\"FindCoin\",\"OpenChat\",\"RenosCoin\",\"VirtacoinPlus\",\"TajCoin\",\"Impact\",\"Atmos\",\"HappyCoin\",\"MacronCoin\",\"Condensate\",\"Independent Money System\",\"ArgusCoin\",\"LomoCoin\",\"ProCurrency\",\"GoldReserve\",\"GrowthCoin\",\"Phreak\",\"Degas Coin\",\"HTML5 Coin\",\"Ultimate Secure Cash\",\"QTUM\",\"Espers\",\"Denarius\",\"Virta Unique Coin\",\"Bitcoin Planet\",\"BritCoin\",\"Linda\",\"DeepOnion\",\"Signatum\",\"Cream\",\"Monoeci\",\"Draftcoin\",\"Stakecoin\",\"CoinonatX\",\"Ethereum Dark\",\"Obsidian\",\"Cardano\",\"Regalcoin\",\"TrezarCoin\",\"TerraNovaCoin\",\"Rupee\",\"WomenCoin\",\"Theresa May Coin\",\"NamoCoin\",\"LUXCoin\",\"Xios\",\"Bitcloud 2.0\",\"KekCoin\",\"BlackholeCoin\",\"Infinity Economics\",\"Magnet\",\"Lamden Tau\",\"Electra\",\"Bitcoin Diamond\",\"Cash & Back Coin\",\"Bulwark\",\"Kalkulus\",\"GermanCoin\",\"LiteCoin Ultra\",\"PhantomX\",\"Digiwage\",\"Trollcoin\",\"Litecoin Plus\",\"Monkey Project\",\"TokenPay\",\"1717 Masonic Commemorative Token\",\"My Big Coin\",\"Unified Society USDEX\",\"Tokyo Coin\",\"Stipend\",\"Poa Network\",\"Pushi\",\"Ellerium\",\"Velox\",\"Ontology\",\"Bitspace\",\"Briacoin\",\"Ignition\",\"MedicCoin\",\"Bitcoin Green\",\"Deviant Coin\",\"Abjcoin\",\"Semux\",\"Carebit\",\"Zealium\",\"Proton\",\"iDealCash\",\"Bitcoin Incognito\",\"HollyWoodCoin\",\"Swisscoin\",\"Xt3ch\",\"TheVig\",\"EmaratCoin\",\"Dekado\",\"Poseidon Quark\",\"BitcoinWSpectrum\",\"Muse\",\"Trivechain\",\"Dystem\",\"Giant\",\"Peony Coin\",\"Absolute Coin\",\"Vitae\",\"TPCash\",\"ARENON\",\"EUNO\",\"MMOCoin\",\"Ketan\",\"XDNA\",\"PAXEX\",\"ThunderStake\",\"Kcash\",\"Bettex coin\",\"BitMoney\",\"Junson Ming Chan Coin\",\"HerbCoin\",\"PirateCash\",\"Oduwa\",\"Galilel\",\"Crypto Sports\",\"Credit\",\"Dash Platinum\",\"Nasdacoin\",\"Beetle Coin\",\"Titan Coin\",\"Award\",\"Insane Coin\",\"ALAX\",\"LiteDoge\",\"TruckCoin\",\"OrangeCoin\",\"BitstarCoin\",\"NeosCoin\",\"HyperCoin\",\"PinkCoin\",\"AudioCoin\",\"IncaKoin\",\"Piggy Coin\",\"Genstake\",\"XiaoMiCoin\",\"CapriCoin\",\" ClubCoin\",\"Radium\",\"Creditbit \",\"OKCash\",\"Lisk\",\"HiCoin\",\"WhiteCoin\",\"FriendshipCoin\",\"Triangles Coin\",\"EOS\",\"Oxycoin\",\"TigerCash\",\"Particl\",\"Nxt\",\"Gapcoin\",\"BitcoinPlus\"],\"legendgroup\":\"0\",\"marker\":{\"color\":[0,0,0,0,0,0,0,0,0,0,0,0,0,0,0,0,0,0,0,0,0,0,0,0,0,0,0,0,0,0,0,0,0,0,0,0,0,0,0,0,0,0,0,0,0,0,0,0,0,0,0,0,0,0,0,0,0,0,0,0,0,0,0,0,0,0,0,0,0,0,0,0,0,0,0,0,0,0,0,0,0,0,0,0,0,0,0,0,0,0,0,0,0,0,0,0,0,0,0,0,0,0,0,0,0,0,0,0,0,0,0,0,0,0,0,0,0,0,0,0,0,0,0,0,0,0,0,0,0,0,0,0,0,0,0,0,0,0,0,0,0,0,0,0,0,0,0,0,0,0,0,0,0,0,0,0,0,0,0,0,0,0,0,0,0,0,0,0,0,0,0,0,0,0,0,0,0,0,0,0,0,0,0,0,0,0,0,0,0,0,0,0,0,0,0,0,0,0,0,0,0,0,0,0,0,0,0,0,0,0,0,0,0,0,0,0,0,0,0,0,0,0,0,0,0,0,0,0,0,0,0,0,0,0,0,0,0,0,0,0,0,0,0,0,0,0,0,0,0,0,0,0,0,0,0,0,0,0,0,0,0,0,0,0,0,0,0,0,0,0,0,0,0,0,0,0,0,0,0,0,0,0,0,0,0,0],\"coloraxis\":\"coloraxis\",\"symbol\":\"circle\"},\"mode\":\"markers\",\"name\":\"0\",\"scene\":\"scene\",\"showlegend\":true,\"type\":\"scatter3d\",\"x\":[-0.4820665364800935,-0.4824535726581126,-0.7688307815712035,-0.49594226097057587,-0.18116634229300102,-0.3883624170541222,-0.09305819926250641,-0.6717137998350545,-0.4820736930362939,-0.4822784016295803,-0.48210756847488895,-0.4820665837551396,-0.48206694911874287,-0.38111109502641427,-0.5463140555640641,-0.14137518430179086,-0.11509383355445307,-0.4821042429048107,-0.20119029256947157,-0.4959451349530315,-0.6642650424741258,-0.1938592696711774,-0.38905874785348316,-0.1867658434243673,-0.7382962721927276,-0.7382792906974179,-0.35110089095466473,-0.4821685819148522,-0.48209768280091925,-0.4918410311158048,-0.20064754189400394,-0.4959377940118622,0.09765480966046244,-0.29140771499993967,-0.4959389328625678,-0.4825388564038112,-0.48208990502352,0.005788252000430151,-0.49594047516585876,0.09765484700588195,-0.7382852714324644,-0.4821820695419824,-0.6753703807693975,-0.15134195574458895,-0.38837807612892683,-0.5463303999253006,-0.18676844162945092,-0.7382757058247797,-0.1868507036169486,-0.48206702587577455,-0.7382772653585803,-0.20063285541516676,-0.48207172954216104,-0.4959382982574938,-0.5403894272529358,-0.8797624551785567,-0.3001573732266451,-0.18679933898845114,-0.7382852296377561,-0.38844107796317956,-0.6716883690296979,-0.36592493858845154,-0.3883632108783882,-0.5013615587255815,-0.38836293626918,-0.6148391056412112,-0.4820723168208958,-0.1867875050789916,-0.49596668041618674,-0.20563922919043343,-0.38836463815285044,-0.36598473721475344,-0.14138128281609363,-0.4959876215384705,-0.388375671856415,-0.38840083649853424,-0.6115154975826727,-0.49595512535524905,-0.18515320742274535,-0.48247001979091747,-0.48207098005444277,-0.48210649776620074,-0.44298198348614776,-0.20089318053548236,-0.4959462923958069,-0.4820868859199622,-0.3883621196576899,-0.49593821139357996,-0.4820687873356283,-0.48206718326760045,-0.1868159258244923,-0.2570324486795197,-0.7872889538132231,-0.14140287319162975,-0.4820777137999793,-0.49612532804816556,-0.14142552379506057,-0.4429680775160038,-0.776976887329337,-0.14139915481318405,-0.7802951068343834,-0.27565748449166716,-0.4959458951657436,-0.7690697383610654,-0.49593933339281787,-0.14139327120696074,-0.48207478548518745,-0.48207013317607766,-0.14138128281609363,-0.49594378864094174,-0.3883659949071268,-0.4820754705528756,0.0640811148529602,-0.48207208434587107,-0.48211324254968313,-0.495938396131956,-0.4820788611553703,-0.20018562128392112,-0.4820685549027482,-0.4820678614957944,-0.2066494381220918,-0.27836862391807565,-0.48210762191673684,-0.3883627633813083,-0.4959402995665501,-0.48207180189702886,-0.482068090977623,-0.1867639925855681,-0.11951175183496354,-0.4429728827537748,-0.4824661494922259,-0.1867736763929136,-0.49594880128890223,-0.890239946216715,-0.4959819611724439,-0.14141764590023032,-0.4959515882322991,-0.14153360969536705,-0.49601145449464396,-0.48206973061472586,-0.4820688123661236,-0.482132892852543,-0.09805112248291872,-0.49594616648006945,-0.18699016209697547,-0.14137907401315916,-0.48208060789012636,-0.6911958546616996,-0.09307006451086147,-0.18517808462810537,-1.0001666075734956,-0.6114837689315938,-0.611510645317547,-0.7107389001411271,-0.738283314180467,-0.48839181152912997,-0.7382827957221834,0.007092997821548539,-0.7107524129361528,-0.49594261372207393,-0.18676675255503508,-0.14137870153074136,-0.48207624520254555,-0.4820682148380304,-0.18002830282371732,-0.05523104595543568,-0.4959420021289551,-0.3511869393693453,-0.4820679581952062,-0.15834656372211375,-0.4998787981129505,-0.3883978419985155,-0.6117480486791825,-0.5860284567039521,-0.4820686432027149,-0.5019755750672571,-0.13157908639407156,-0.48207297094911655,-0.09664988962369729,-0.4959600611703083,-0.2757422846417888,-0.6229363463634904,-0.7383493315735828,-0.482117438611289,-0.3161808088607933,-0.2066519156474022,-0.48701362922125235,-0.482079272140281,-0.4959561651749738,-0.20666198351799675,-0.4823231679584787,-0.4820676362762107,-0.2006334942394447,-0.1851465951948269,0.12902039896624534,-0.0389807954611618,-0.4821601956974936,-0.4430968172153138,-0.5064775251374829,3.9092629489703086,-0.49594017109934896,-0.5357334337475457,-0.18677611084505033,-0.07773515190668027,-0.6114896228752281,-0.48206701698773546,-0.48206726156927854,-0.18688159581138547,-0.2199138983893856,-0.14138640941204486,-0.4820718165438495,-0.2341166419819713,-0.5020119275637387,-0.1413822784780564,-0.15802692968747448,-0.48287373567233827,-0.3399538184336976,-0.186774004371309,-0.48614258935826204,-0.18676483405154792,-0.7794551701763399,-0.4820792981204447,-0.376391012721569,-0.20668886736246955,-0.09307928422749827,-0.19866760384348764,-0.4533474163610535,-0.2066486898240802,-0.501954411822788,-0.18787700687402867,-0.4536520521513976,-0.20667358127889707,-0.4821345278948056,-0.20064070011233273,-0.49595136284905883,-0.18681251799172116,-0.14139030027127758,-0.5137080652482919,-0.20063875569507175,-0.483611364101144,-0.2318602007919804,-0.24042773635620007,-0.28317430805386135,-0.20636882522160852,-0.501967445333545,0.011405634673130018,-0.4820728536265814,-0.5019594471515413,-0.20664646843659823,-0.4972955358808924,-0.2006321773297015,-0.4820789470885171,-0.5358287480322758,-0.7800672849544283,-0.49597073468408637,-0.4959477067039318,-0.2760127467094184,-0.48949084984748736,-0.49601867342434985,-0.48208095376722787,-0.4820769883545899,-0.09305622683147223,-0.48206974773028827,-0.49611637887986737,-0.4830885272042705,-0.3943546304303318,-0.4961687746100365,-0.48208753470955384,-0.4822278208886182,-0.4960187005750602,-0.4821116767649438,-0.14137516035517445,-0.219415803385605,-0.38839237980451374,-0.2756637334777552,-0.1907561743838197,-0.4821704179063506,-0.35110392366354715,-0.7382742920929801,-0.27595340705559435,-0.2759873621429281,-0.0934529853956959,-0.14137695726129243,-0.17322367086196758,-0.48208806224214673,-0.1867594866624545],\"y\":[0.9790045271272803,0.9792832087511911,1.7730207820551322,1.260424136055241,1.4235384682465608,0.8163709369057408,0.6133604045261354,1.9280862278379867,0.9790058897822631,0.979316325662233,0.9790649132729854,0.9790043233094307,0.9790045875943972,0.32437171723306685,0.946285834621209,1.649304842760847,0.2890433909970102,0.9789943995486958,1.058233175535258,1.2604283656487112,1.9299614593588392,0.7864332678053101,0.8160848560648526,0.7759851394865731,1.8998751838811387,1.8998501924892948,0.5459296805283986,0.9789250373870514,0.9789967753983384,0.9933894927296182,1.057434418149249,1.2604295918059392,0.11669292991386956,1.5758587952490288,1.2604258000862034,0.978824705583694,0.9789842353102602,0.17329750714808873,1.260430530601622,0.11674755790040511,1.8998589942402795,0.9786277258159626,0.6833261770388336,1.4733588320179853,0.8163688279570227,0.9463122834662347,0.7759978109238038,1.899838354736583,0.7758454598236726,0.9790052473859505,1.899841743536184,1.057401867706571,0.9790012331062172,1.2604303344429042,1.9947312094957763,2.208084406199833,0.8854729322725441,0.7759885991198623,1.8998315912580912,0.8159519016691998,1.9282258115269746,0.8428897197353399,0.8163721051640673,1.2538933366341405,0.8163779895650656,1.541604812430858,0.9789900671464474,0.7759049881999905,1.2602621214893674,0.7496335258872253,0.8163643627303031,0.32280937274979005,1.6493028812562203,1.2604619105069534,0.816280681438042,0.8161524229560184,1.536664297583011,1.2603790893137783,1.5679827143575658,0.9785046680657089,0.9789868239136382,0.9790086545811512,1.6967352695246005,1.0574366535998543,1.2604147578133016,0.9789852604391293,0.8163710460616961,1.2604285661182726,0.9789963562790037,0.979005479016954,0.7760676926452316,0.18375740460119425,1.9238990248880445,1.64930512667103,0.9790209766310454,1.2598853389514482,1.6493570534553748,1.6968228030862564,1.9385884633886432,1.6491755241035353,1.9204383808886758,1.7093662482634182,1.2604251098056831,1.9446991909976215,1.2604297507221633,1.6493041194929012,0.9789955922697086,0.978986853511705,1.6493028812562203,1.2604056047830654,0.8163772960330528,0.9789996299080134,0.6630220591125373,0.978997380629321,0.9787174637442062,1.2604277443358076,0.9789439217314606,0.7779635422628833,0.9790003888470705,0.9790046639832638,1.487855191955906,0.6093935214116522,0.978791577186564,0.8163719934193283,1.2604281646941764,0.9790013395897054,0.9789948210862045,0.7759611877169664,0.3553777956629716,1.696823299401545,0.9790458016816049,0.7759866894577733,1.2603911086370774,2.125618476942223,1.2604344412063566,1.64930702296928,1.260395210136575,1.6493192630601103,1.2602645825573406,0.9789976284935725,0.9789922372119925,0.9785553532779174,0.5797030338112089,1.2604200407998671,0.7752304544041637,1.6492941623019668,0.9789678187221363,1.9077343905062265,0.6132752898511163,1.56798296157824,2.0481075093898684,1.5366613493984158,1.5366407516987917,1.9417773262251152,1.8998397089000323,0.9609718584885251,1.899845016691566,1.4006081805491188,1.9417972127868839,1.260431486586312,0.775985807086029,1.6492763343334491,0.9789924297042919,0.9790047004786804,1.4237825578728576,1.5470487304547094,1.2604210209748563,0.5458396463461723,0.9789980160151959,0.7549178891631296,0.9915478075517186,0.8163804185243353,1.5363995585547277,1.7790935598278028,0.9789961441609274,1.6908020138267734,1.5350328406210256,0.9790059099890319,0.6137316072298348,1.2603836191255686,1.7092859862201284,1.5371165064125552,1.8998384363242207,0.9789646048039138,1.3336377854091084,1.4878561039424532,0.9589436098884914,0.9789412455944719,1.2604292874226353,1.487816237717498,0.9788900610193761,0.9790039583845074,1.0574022610244516,1.5679776312992508,-0.050238777518565494,0.09999515756993209,0.9790154994673824,1.6965761707824047,0.9987660085900524,3.4693755543079496,1.2604194199371592,1.391673778311767,0.7759412907297849,1.584649595573814,1.5366480913736562,0.9790035938171519,0.9790028601049067,0.7758909233663115,1.5437862785138132,1.6492732415804348,0.978995892850476,1.7224581635272478,1.69085551320757,1.6492715367875075,0.7715572235674244,0.9773916352584816,1.0167396299801257,0.7759917799547089,0.979425527597356,0.7759684412130223,1.9232520787698462,0.9789773745742005,1.7251853480705814,1.4875659826162806,0.6133434439676972,1.5968823864046024,0.9745763619095648,1.4878508097210006,1.6908774173981238,0.7683987869700473,0.9579199017596641,1.4878442425439715,0.9785577595431564,1.057394273588929,1.2604222199173003,0.7759205017302091,1.649212254499438,0.9961197767279926,1.0573668046952782,0.9714350944676469,1.3167706306081075,1.188661341843919,0.7838043771228456,1.0658543382376733,1.6908698865321188,0.12327629074426094,0.9790023405735965,1.6908772350832957,1.4878517128498612,0.9605139546304076,1.0574010338280069,0.978976857966193,1.3915734458345659,1.9214734537711338,1.2602484022288405,1.2604277758171187,1.7094106061323744,0.9707917374741762,1.2605486212752932,0.9789163789440445,0.978990240159908,0.6133528536807904,0.9790092530951919,1.260418998077132,0.9747668649062096,0.8250977130110946,1.2602226932894027,0.9790272274626611,0.9790231550155433,1.26043492070241,0.9789834666614811,1.6492998860537524,0.7950370680427352,0.8163696457544559,1.70935635038489,0.7763933663827091,0.9789933589226506,0.5459033035491401,1.8998427705044971,1.709870106395957,1.709920077548507,0.6134014107862626,1.6493027305944385,2.0655013946601066,0.9788994988979567,0.7759840852143172],\"z\":[-0.3460031758359247,-0.3293486390097326,2.315473785944025,-0.39111495368685595,-0.25481838213807206,-0.3073583770015853,-0.26338282516027306,-0.23480901626837467,-0.3456628873244959,-0.3382449339533614,-0.3445006346777754,-0.3459991124089724,-0.34598340077306294,0.669203636142349,-0.36028450097300424,-0.3590485219549041,-0.33403065485254513,-0.34406262051233744,-0.32697501780522437,-0.3910097119722006,-0.41533918577159595,-0.04210166145661657,-0.27067680918027787,-0.3017787570951199,-0.26819576677053236,-0.2688176083135381,-0.3408558870574703,-0.340307123665384,-0.3444054720943794,0.01192683634690853,-0.34684988225897884,-0.391381152193298,-0.2475480507989177,-0.3073527428805824,-0.391292804169237,-0.32124349983791356,-0.34468095489463163,-0.3172741929709423,-0.39125731913066375,-0.24801591206353094,-0.268598601127083,-0.3371075597099237,0.0613806158171298,-0.3279178084235292,-0.30657037376478674,-0.3597064229237612,-0.301759092693814,-0.268892902708822,-0.2964142909394318,-0.34598525496186483,-0.26884512436708097,-0.3472943843676818,-0.34571971372012955,-0.3913626920012871,-0.41727726156038225,-0.39683888298609704,-0.33444221485142644,-0.30016117555883104,-0.2683668847375064,-0.2999156023386377,-0.2372503106936374,-0.07429271732604903,-0.3073293081300052,-0.06891545831401075,-0.30739301076053693,-0.22578734404161813,-0.34559557967406984,-0.30002981589016686,-0.3885320362505181,0.8510948006571499,-0.3071930742188961,-0.06128465771776516,-0.3587319030922334,-0.38920666361955997,-0.3059366328670978,-0.3036050406229494,-0.34707395285166337,-0.3900980780351026,-0.3306282030911138,-0.32189823734042267,-0.34563364557109266,-0.3440733489963782,-0.22361169514492765,-0.33479003255415546,-0.39083670959459066,-0.3448381601383308,-0.3073739322316131,-0.39135187803969773,-0.3458227887797099,-0.3459794914661156,-0.3000202796756195,-0.2608474635422207,0.04250701368932347,-0.35768938339529177,-0.34559387627830707,-0.37751648450351794,-0.35701855440287417,-0.22504223924700686,-0.4060969257056708,-0.3567666051091572,-0.2718828154182798,3.72844234914715,-0.3909445544168202,0.862656040070799,-0.39130681108707427,-0.3581529547972118,-0.345521320896454,-0.34567554207069096,-0.3587319030922334,-0.3908817446566325,-0.3072366902845743,-0.3455220783095899,-0.40206603523932194,-0.34566940174548133,-0.3412575697470114,-0.39133578327239454,-0.34488011057184764,0.34124162577501804,-0.3458686196845553,-0.3459391876335086,-0.3566737894355421,-0.3488409881079374,-0.34216620909716255,-0.30735035986176,-0.3912457706940911,-0.3457170641735608,-0.3458439346164499,-0.3016654396807311,-0.3129906540624791,-0.22481018273119996,-0.3267049001457435,-0.30140680497067707,-0.390511590144172,-0.3993242823894928,-0.38925066648281587,-0.35697913420278776,-0.390409535693099,-0.3513812033490887,-0.3863513316631656,-0.3457872575242433,-0.34578641867084153,-0.3389083497983937,0.26926388217893465,-0.39088796984666707,-0.2843100865264922,-0.3587661373761206,-0.34499807983739794,0.8968115721588718,-0.26207326579462403,-0.3294070119997603,0.6092773633727144,-0.3486090121393764,-0.3471116887365197,-0.42177603528155877,-0.2685303251797735,0.11886750356144414,-0.2686010997442865,-0.3529105104528705,-0.42128121329114676,-0.391160314155819,-0.3017397471389868,-0.35863236537306936,-0.34542256196586346,-0.3459221238851456,-0.3128621041622129,0.6497080467742942,-0.3911011074637216,-0.33585651151531676,-0.3458777195565068,-0.3065326813366953,0.4228834416942171,-0.3056972938578888,-0.33338013644468306,-0.38685012752931164,-0.3458280667503181,-0.3990279922609093,-0.33720622173000586,-0.3456985672843505,-0.08993340349608732,-0.3898940098516921,3.73329697815424,0.21067180227603177,-0.2652731604672913,-0.34315956556684696,-0.3044604426078777,-0.35655974080945596,0.06840015676721288,-0.3448370711849175,-0.3904751805231472,-0.35572457400796614,-0.3324072023716979,-0.3459442430972491,-0.3472663264684507,-0.33090998673878885,-0.27694793044959104,-0.33630031980644537,-0.341491224861296,-0.21660766241464602,-0.37097843594160484,-0.37829247305677405,-0.3911774873979227,-0.2974654710571484,-0.30089980320497545,-0.32496852835467205,-0.3482080504105708,-0.34597158561932456,-0.34595329946859177,-0.29528305664556737,-0.34697824817609707,-0.35822695770209184,-0.3456698784528207,3.9388977466038506,-0.3976968083991677,-0.35841554693890637,-0.3020312550402934,-0.2925509502034184,-0.24067896622733193,-0.30143410353807143,-0.14916075633925538,-0.3016859405372966,-0.33718879126216356,-0.3451440056791139,-0.19268201700385268,-0.35226770385450834,-0.2622013144115185,1.0203463337890915,-0.34528022490579047,-0.35667320156821786,-0.4007119226829837,-0.18242065214536834,-0.3503730701770929,-0.35539317696408707,-0.33884847655490663,-0.346843848370773,-0.39065103581165056,-0.2989321866595692,-0.3575153568664615,-0.33181318799241527,-0.346705128372977,-0.20546461233310623,-0.2702882320223126,-0.2535464328128984,0.5651666359025285,-0.13734349972028728,-0.40000677397719075,-0.26237194864347213,-0.3456738861892942,-0.40046276246763807,-0.3567901395258477,0.5606014183369882,-0.34732061450740814,-0.3451568600380223,-0.29192260640977086,-0.29191570605884454,-0.38821563618998844,-0.3908782181088822,3.7455334361549766,0.08913888145355892,-0.3884194519116594,-0.34454224520682886,-0.3453673398107834,-0.26341540120072027,-0.34588558398590796,-0.3825091292883621,-0.25959728770891055,-0.08714715872660553,-0.37825799326849696,-0.3451642725495944,-0.33823116380304924,-0.3874481507459716,-0.34360380417792796,-0.35900741441573897,-0.35783911508615984,-0.305873988020846,3.7288340715014607,-0.10904261743531668,-0.3407996843725585,-0.34048173917031205,-0.2690000912885014,3.738695553556823,3.7399389472341937,-0.2443196153796333,-0.35894332063019824,-0.3916859938298917,-0.3440486947080186,-0.3020823476713838]},{\"customdata\":[[\"SHA-256\"],[\"Ethash\"],[\"Scrypt\"],[\"CryptoNight-V7\"],[\"Ethash\"],[\"Equihash\"],[\"Multiple\"],[\"Scrypt\"],[\"X11\"],[\"Scrypt\"],[\"Multiple\"],[\"Scrypt\"],[\"SHA-256\"],[\"Scrypt\"],[\"Scrypt\"],[\"Quark\"],[\"Groestl\"],[\"Scrypt\"],[\"Scrypt\"],[\"Scrypt\"],[\"X11\"],[\"Multiple\"],[\"SHA-256\"],[\"Scrypt\"],[\"Scrypt\"],[\"Scrypt\"],[\"Scrypt\"],[\"Scrypt\"],[\"NeoScrypt\"],[\"Scrypt\"],[\"Scrypt\"],[\"Scrypt\"],[\"Scrypt\"],[\"SHA-256\"],[\"Scrypt\"],[\"Scrypt\"],[\"Scrypt\"],[\"Scrypt\"],[\"HybridScryptHash256\"],[\"Scrypt\"],[\"Scrypt\"],[\"SHA-256\"],[\"Scrypt\"],[\"Scrypt\"],[\"Scrypt\"],[\"Scrypt\"],[\"SHA-256\"],[\"SHA-256\"],[\"SHA-256\"],[\"SHA-256\"],[\"SHA-256\"],[\"X11\"],[\"Scrypt\"],[\"Lyra2REv2\"],[\"Scrypt\"],[\"SHA-256\"],[\"CryptoNight\"],[\"CryptoNight\"],[\"Scrypt\"],[\"Scrypt\"],[\"Scrypt\"],[\"Scrypt\"],[\"Scrypt\"],[\"Scrypt\"],[\"Stanford Folding\"],[\"Multiple\"],[\"QuBit\"],[\"Scrypt\"],[\"Scrypt\"],[\"M7 POW\"],[\"Scrypt\"],[\"SHA-256\"],[\"Scrypt\"],[\"X11\"],[\"Lyra2RE\"],[\"SHA-256\"],[\"X11\"],[\"Scrypt\"],[\"Scrypt\"],[\"Ethash\"],[\"Blake2b\"],[\"X11\"],[\"SHA-256\"],[\"Scrypt\"],[\"1GB AES Pattern Search\"],[\"Scrypt\"],[\"SHA-256\"],[\"X11\"],[\"Dagger\"],[\"Scrypt\"],[\"X11GOST\"],[\"Scrypt\"],[\"X11\"],[\"Scrypt\"],[\"X11\"],[\"Equihash\"],[\"CryptoNight\"],[\"SHA-256\"],[\"Multiple\"],[\"Scrypt\"],[\"SHA-256\"],[\"Scrypt\"],[\"Lyra2Z\"],[\"Ethash\"],[\"Equihash\"],[\"Scrypt\"],[\"X11\"],[\"X11\"],[\"CryptoNight\"],[\"Scrypt\"],[\"CryptoNight\"],[\"Lyra2RE\"],[\"X11\"],[\"CryptoNight-V7\"],[\"Scrypt\"],[\"X11\"],[\"Equihash\"],[\"Scrypt\"],[\"Lyra2RE\"],[\"Dagger-Hashimoto\"],[\"Scrypt\"],[\"NIST5\"],[\"Scrypt\"],[\"SHA-256\"],[\"Scrypt\"],[\"CryptoNight-V7\"],[\"Argon2d\"],[\"Blake2b\"],[\"Cloverhash\"],[\"CryptoNight\"],[\"X11\"],[\"Scrypt\"],[\"Scrypt\"],[\"X11\"],[\"X11\"],[\"CryptoNight\"],[\"Time Travel\"],[\"Scrypt\"],[\"Keccak\"],[\"X11\"],[\"SHA-256\"],[\"Scrypt\"],[\"Scrypt\"],[\"Scrypt\"],[\"Scrypt\"],[\"Scrypt\"],[\"Scrypt\"],[\"CryptoNight\"],[\"Equihash\"],[\"X11\"],[\"NeoScrypt\"],[\"Equihash\"],[\"Dagger\"],[\"Scrypt\"],[\"X11\"],[\"NeoScrypt\"],[\"Ethash\"],[\"NeoScrypt\"],[\"Multiple\"],[\"CryptoNight\"],[\"CryptoNight\"],[\"Ethash\"],[\"X11\"],[\"CryptoNight-V7\"],[\"Scrypt\"],[\"BLAKE256\"],[\"X11\"],[\"NeoScrypt\"],[\"NeoScrypt\"],[\"Scrypt\"],[\"X11\"],[\"SHA-256\"],[\"C11\"],[\"CryptoNight\"],[\"SkunkHash\"],[\"CryptoNight\"],[\"Scrypt\"],[\"Dagger\"],[\"Lyra2REv2\"],[\"Scrypt\"],[\"Scrypt\"],[\"X11\"],[\"Ethash\"],[\"CryptoNight\"],[\"Scrypt\"],[\"IMesh\"],[\"Equihash\"],[\"Lyra2Z\"],[\"X11\"],[\"CryptoNight\"],[\"NIST5\"],[\"Lyra2RE\"],[\"Tribus\"],[\"Lyra2Z\"],[\"CryptoNight\"],[\"CryptoNight Heavy\"],[\"CryptoNight\"],[\"Jump Consistent Hash\"],[\"CryptoNight\"],[\"Scrypt\"],[\"X16R\"],[\"HMQ1725\"],[\"X11\"],[\"Scrypt\"],[\"CryptoNight-V7\"],[\"Cryptonight-GPU\"],[\"XEVAN\"],[\"CryptoNight Heavy\"],[\"SHA-256\"],[\"X11\"],[\"X16R\"],[\"Equihash\"],[\"Lyra2Z\"],[\"SHA-256\"],[\"CryptoNight\"],[\"Blake\"],[\"Blake\"],[\"Exosis\"],[\"Scrypt\"],[\"Equihash\"],[\"Equihash\"],[\"QuBit\"],[\"SHA-256\"],[\"X13\"],[\"SHA-256\"],[\"Scrypt\"],[\"NeoScrypt\"],[\"Blake\"],[\"Scrypt\"],[\"SHA-256\"],[\"Scrypt\"],[\"Groestl\"],[\"Scrypt\"],[\"Scrypt\"],[\"Multiple\"],[\"Equihash+Scrypt\"],[\"Ethash\"],[\"SHA-256\"],[\"CryptoNight\"],[\"Equihash\"]],\"hovertemplate\":\"<b>%{hovertext}</b><br><br>class=%{marker.color}<br>principal component 3=%{x}<br>principal component 2=%{y}<br>principal component 1=%{z}<br>Algorithm=%{customdata[0]}<extra></extra>\",\"hovertext\":[\"Bitcoin\",\"Ethereum\",\"Litecoin\",\"Monero\",\"Ethereum Classic\",\"ZCash\",\"DigiByte\",\"ProsperCoin\",\"Spreadcoin\",\"Argentum\",\"MyriadCoin\",\"MoonCoin\",\"ZetaCoin\",\"SexCoin\",\"Quatloo\",\"QuarkCoin\",\"Riecoin\",\"Digitalcoin \",\"Catcoin\",\"CannaCoin\",\"CryptCoin\",\"Verge\",\"DevCoin\",\"EarthCoin\",\"E-Gulden\",\"Einsteinium\",\"Emerald\",\"Franko\",\"FeatherCoin\",\"GrandCoin\",\"GlobalCoin\",\"GoldCoin\",\"Infinite Coin\",\"IXcoin\",\"KrugerCoin\",\"LuckyCoin\",\"Litebar \",\"MegaCoin\",\"MediterraneanCoin\",\"MinCoin\",\"NobleCoin\",\"Namecoin\",\"NyanCoin\",\"RonPaulCoin\",\"StableCoin\",\"SmartCoin\",\"SysCoin\",\"TigerCoin\",\"TerraCoin\",\"UnbreakableCoin\",\"Unobtanium\",\"UroCoin\",\"ViaCoin\",\"Vertcoin\",\"WorldCoin\",\"JouleCoin\",\"ByteCoin\",\"DigitalNote \",\"MonaCoin\",\"Gulden\",\"PesetaCoin\",\"Wild Beast Coin\",\"Flo\",\"ArtByte\",\"Folding Coin\",\"Unitus\",\"CypherPunkCoin\",\"OmniCron\",\"GreenCoin\",\"Cryptonite\",\"MasterCoin\",\"SoonCoin\",\"1Credit\",\"MarsCoin \",\"Crypto\",\"Anarchists Prime\",\"BowsCoin\",\"Song Coin\",\"BitZeny\",\"Expanse\",\"Siacoin\",\"MindCoin\",\"I0coin\",\"Revolution VR\",\"HOdlcoin\",\"Gamecredits\",\"CarpeDiemCoin\",\"Adzcoin\",\"SoilCoin\",\"YoCoin\",\"SibCoin\",\"Francs\",\"BolivarCoin\",\"Omni\",\"PizzaCoin\",\"Komodo\",\"Karbo\",\"ZayedCoin\",\"Circuits of Value\",\"DopeCoin\",\"DollarCoin\",\"Shilling\",\"ZCoin\",\"Elementrem\",\"ZClassic\",\"KiloCoin\",\"ArtexCoin\",\"Kurrent\",\"Cannabis Industry Coin\",\"OsmiumCoin\",\"Bikercoins\",\"HexxCoin\",\"PacCoin\",\"Citadel\",\"BeaverCoin\",\"VaultCoin\",\"Zero\",\"Canada eCoin\",\"Zoin\",\"DubaiCoin\",\"EB3coin\",\"Coinonat\",\"BenjiRolls\",\"ILCoin\",\"EquiTrader\",\"Quantum Resistant Ledger\",\"Dynamic\",\"Nano\",\"ChanCoin\",\"Dinastycoin\",\"DigitalPrice\",\"Unify\",\"SocialCoin\",\"ArcticCoin\",\"DAS\",\"LeviarCoin\",\"Bitcore\",\"gCn Coin\",\"SmartCash\",\"Onix\",\"Bitcoin Cash\",\"Sojourn Coin\",\"NewYorkCoin\",\"FrazCoin\",\"Kronecoin\",\"AdCoin\",\"Linx\",\"Sumokoin\",\"BitcoinZ\",\"Elements\",\"VIVO Coin\",\"Bitcoin Gold\",\"Pirl\",\"eBoost\",\"Pura\",\"Innova\",\"Ellaism\",\"GoByte\",\"SHIELD\",\"UltraNote\",\"BitCoal\",\"DaxxCoin\",\"AC3\",\"Lethean\",\"PopularCoin\",\"Photon\",\"Sucre\",\"SparksPay\",\"GunCoin\",\"IrishCoin\",\"Pioneer Coin\",\"UnitedBitcoin\",\"Interzone\",\"TurtleCoin\",\"MUNcoin\",\"Niobio Cash\",\"ShareChain\",\"Travelflex\",\"KREDS\",\"BitFlip\",\"LottoCoin\",\"Crypto Improvement Fund\",\"Callisto Network\",\"BitTube\",\"Poseidon\",\"Aidos Kuneen\",\"Bitrolium\",\"Alpenschillling\",\"FuturoCoin\",\"Monero Classic\",\"Jumpcoin\",\"Infinex\",\"KEYCO\",\"GINcoin\",\"PlatinCoin\",\"Loki\",\"Newton Coin\",\"MassGrid\",\"PluraCoin\",\"Lynx\",\"Motion\",\"PlusOneCoin\",\"Axe\",\"HexCoin\",\"Webchain\",\"Ryo\",\"Urals Coin\",\"Qwertycoin\",\"Project Pai\",\"Azart\",\"Xchange\",\"CrypticCoin\",\"Actinium\",\"Bitcoin SV\",\"FREDEnergy\",\"Universal Molecule\",\"Lithium\",\"Exosis\",\"Block-Logic\",\"Beam\",\"Bithereum\",\"SLICE\",\"BLAST\",\"Bitcoin Rhodium\",\"GlobalToken\",\"SolarCoin\",\"UFO Coin\",\"BlakeCoin\",\"Crypto Escudo\",\"Crown Coin\",\"SmileyCoin\",\"Groestlcoin\",\"Bata\",\"Pakcoin\",\"JoinCoin\",\"Vollar\",\"Reality Clash\",\"ZEPHYR\",\"Beldex\",\"Horizen\"],\"legendgroup\":\"1\",\"marker\":{\"color\":[1,1,1,1,1,1,1,1,1,1,1,1,1,1,1,1,1,1,1,1,1,1,1,1,1,1,1,1,1,1,1,1,1,1,1,1,1,1,1,1,1,1,1,1,1,1,1,1,1,1,1,1,1,1,1,1,1,1,1,1,1,1,1,1,1,1,1,1,1,1,1,1,1,1,1,1,1,1,1,1,1,1,1,1,1,1,1,1,1,1,1,1,1,1,1,1,1,1,1,1,1,1,1,1,1,1,1,1,1,1,1,1,1,1,1,1,1,1,1,1,1,1,1,1,1,1,1,1,1,1,1,1,1,1,1,1,1,1,1,1,1,1,1,1,1,1,1,1,1,1,1,1,1,1,1,1,1,1,1,1,1,1,1,1,1,1,1,1,1,1,1,1,1,1,1,1,1,1,1,1,1,1,1,1,1,1,1,1,1,1,1,1,1,1,1,1,1,1,1,1,1,1,1,1,1,1,1,1,1,1,1,1,1,1,1,1,1,1,1,1,1,1,1,1,1,1,1,1,1,1,1,1,1,1,1,1,1,1,1,1],\"coloraxis\":\"coloraxis\",\"symbol\":\"diamond\"},\"mode\":\"markers\",\"name\":\"1\",\"scene\":\"scene\",\"showlegend\":true,\"type\":\"scatter3d\",\"x\":[0.1749679709264409,0.39701385173411485,0.08124275424097412,0.4408038994138557,0.3969980595641603,0.27944193672431283,0.36052381691518637,0.08126601965717717,0.06739303446450613,0.08126102709307105,0.3650216172111385,0.055852496717907395,0.1749073494151699,0.08120979358619747,0.08126026070130374,0.06128088093917253,0.017001124944841992,0.0812549941643955,0.08126553564428735,0.0812668948140214,0.06739521831365022,0.3593098523429893,0.16732571253413417,0.07619497181629341,0.08126097090450694,0.08117651276227918,0.08126071417614379,0.08126820822123541,0.2121444869220847,0.08088051504944532,0.08124280283367662,0.08125066104404069,0.04506580855254232,0.17496691658378846,0.08120126862953683,0.08126156529000844,0.0812688753594391,0.08125383219550177,0.24363922830262968,0.0812667357754366,0.07948758600907775,0.17496903480533477,0.0811354271372963,0.08126757479456123,0.0812447116032238,0.08125741046855725,0.1747287322572237,0.17495771035567179,0.17496491108538204,0.17496928348582594,0.17497525471233624,0.0673976732943873,0.08126009151902051,0.10966911515838637,0.08121188506537473,0.17495929093817136,0.3219869589141165,0.392604263910407,0.08123963737371244,0.0810197527709609,0.08121246829676194,0.0812690983270613,0.08120797198585718,0.08093889282612811,0.35891643523306743,0.3656951896608647,0.28498041985441164,0.08126572885434767,0.07907024092668406,0.34570229647196515,0.08126908537817788,0.17496979293668274,0.07517985318201492,0.06738514815491124,0.4478449672313594,0.1749668628305258,0.06739139648264032,0.08124455918038398,0.08122757387026697,0.39704513776880074,0.39101414006647217,0.06739172614484742,0.17496694721610337,0.0811854141935853,0.2899477280211498,0.0812404880102352,0.16629528744944277,0.06737747507140968,0.35718706388433097,0.0812579775999146,0.30424476037639114,0.08126581827539674,0.06739186850784804,0.08126908658900553,0.06739596166809068,-0.053322020352292845,0.39556570819498577,0.17497261198367958,0.3653040489918068,0.08121713606663608,0.17497159771182227,0.08126363983840268,0.4130937205113835,0.39703928409371697,0.2794425267190176,0.08054198582671857,0.06709024015943496,0.06736252413164434,0.39556726215388327,0.08126885518279774,0.3955642036599173,0.44785261649269165,0.060600065721165185,0.4407937321593577,0.08126807183257848,0.0673217549135956,0.279442355325342,0.08122942383809043,0.44784633036858795,0.28815391927909384,0.08098320309895772,-0.048152415901277196,0.08126022132090523,0.1743704962668482,0.08126000823987647,0.44077966654040907,0.3026831968429072,0.4019829337458662,0.25389655580998616,0.39483328031938697,0.06737974071716998,0.08126201097383381,0.08126264564698134,0.06738542132667334,0.06739595032338735,0.39556068215509055,0.31912230643629846,0.01366502035343276,0.04857543432313553,0.06728443095660772,0.17496794811540026,0.08057417953361712,0.03358756983775171,0.0812647735819013,0.08125795350912277,0.08125182877942001,0.08125147208480687,0.39556011172363414,0.2763181516091035,0.066377739224781,0.21223312564989538,0.279438662738786,0.3571692728255987,0.08122937496050178,0.06731648839366913,0.21223119760633477,0.39702696978817814,0.21223225234300927,0.3655125945490907,0.383513846165051,0.39556665049744544,0.39621418190996466,0.06733489221817006,0.44059635618577997,0.07961662727607367,0.18142610663318914,0.06739535522326001,0.21223229530664453,0.21210324732506114,0.08124993167955318,0.06739372667918771,0.17496727965209738,0.05685788023206083,0.3116612387675175,0.37346870913959473,0.3955020823295756,0.07727320264048841,0.357148547052971,0.10940427237006713,0.0812625355221813,0.07521933827638944,0.06729452943419134,0.39653696349048445,0.39547609836244224,0.08126658584265352,0.16415297595091116,0.2794173635311924,0.4130686875472257,0.06738085352221064,0.395562419986956,-0.048154261800952336,0.4478504647869218,0.41499292096832197,0.41309463599176366,0.3955292363250866,0.3638775188316328,0.3696215203459447,0.285134203609239,0.395316042860638,-0.13073271625827687,0.11000205725637532,0.3393252822559969,0.06739502106347618,0.08126739744088027,0.4406886079386548,0.24511168305089193,0.02758773027820601,0.31849049198156193,0.17413615088771303,0.06739474868581716,0.10999635669601357,0.2775306617704159,0.4130875543018844,0.17496794914067687,0.3944116459858039,0.3174591031156001,0.31745963365740104,0.40503946525933837,0.08124962541969902,0.2794164946911179,0.27943535819666177,0.28497161346095123,0.17495366612281094,-0.17493889701983198,0.174936006399238,0.0747575988671958,0.2106963037972344,0.3169954717682881,0.08094300278573958,0.17496489390304798,0.06809585618513435,0.016991816284137477,0.08126731734114237,0.08123405198367221,0.3657156033509484,0.3810432488487274,0.3970399704670254,-0.17080539170550862,0.395149468887728,0.2794419655716854],\"y\":[-1.339888930939624,-2.0034344304465397,-1.1772707727048397,-2.269489875329332,-2.0035260235546573,-1.8299373738930462,-1.8403907802286523,-1.1772705617846395,-0.8958424071820548,-1.1772867279761268,-1.8366203601733015,-1.3498409251011234,-1.339881081055296,-1.1773130387349129,-1.1773052859507513,-0.46537529734331484,-1.2099957380262345,-1.1772691909147655,-1.1772698494707028,-1.1772675516591569,-0.8958445274585561,-1.8361735512103914,-1.340113878424632,-1.1771782971906273,-1.177263131617037,-1.1772912878684303,-1.1772687689182497,-1.1772684433137275,-1.6103872993077675,-1.1774685686778978,-1.1772631886053218,-1.1772759814212934,-1.1735265636434131,-1.339887379280605,-1.1773089252420699,-1.177263459535089,-1.1772640192763246,-1.1772641091134248,-2.198879242702523,-1.1772656005601034,-1.1828442284231102,-1.3398904966329765,-1.1772511689995524,-1.1772728504551615,-1.1773644270155084,-1.1772744060311162,-1.340010948413717,-1.3398880547343885,-1.339895911239963,-1.3399231255508701,-1.3398883036579157,-0.8958382974834858,-1.1772629310985905,-1.1983441681315643,-1.1773245492788917,-1.3398892806486766,-2.310156994309848,-2.318679400834554,-1.177277734700169,-1.1778153248872139,-1.1772712524637075,-1.1772650462622312,-1.1772611432627031,-1.177324480574064,-2.172221793596659,-1.8365179869037618,-1.5468512392794835,-1.1772604939423443,-1.1794958810598022,-2.128972568814205,-1.177263928886544,-1.3398916123626128,-1.218610477063915,-0.8958379098109784,-2.2739966117497272,-1.3399052143062962,-0.8958405434201212,-1.1773424607574814,-1.1773392056912473,-2.0034897185136358,-2.156949856941445,-0.8958382944312976,-1.3398874243616874,-1.1772552867984516,-2.0709127914344223,-1.1772674375297283,-1.3389398868640012,-0.8958545057612234,-2.1226561208107415,-1.1773393024526628,-2.050634739720655,-1.177269718584861,-0.8958434254098684,-1.1772639290116063,-0.8958494492475597,-0.49596125817760894,-2.3175748840407477,-1.3398896016212882,-1.8365985468769723,-1.1772965030709615,-1.339888602336948,-1.1772719809091075,-2.169473233468051,-2.0034861887996516,-1.8299382421787047,-1.1816618242126342,-0.8956592678497457,-0.8959112461490609,-2.317583186101101,-1.1772647356144805,-2.317580872282913,-2.273977361919211,-0.9405173156053627,-2.26957607579771,-1.1772639358660852,-0.8962733991028752,-1.8299358026235182,-1.1772599038381786,-2.2739741258568307,-2.194635508789249,-1.179030179701083,-0.6196214028454846,-1.177269968649643,-1.340365227412465,-1.1772896031821425,-2.2695116292961734,-2.195681012110668,-2.1732785295236567,-2.1857479026541746,-2.317585172437742,-0.8958665893469743,-1.1772637199736882,-1.1772951250999146,-0.8958530762291799,-0.8958460968919651,-2.3175915477959297,-2.246340097160274,-1.1871376760151426,-1.1611339569889674,-0.8962731529865569,-1.3398888973689853,-1.1819826179060258,-1.1070914753241916,-1.1772681811263492,-1.1772931412218053,-1.1772928768277653,-1.1772923518860754,-2.317609786573385,-1.8368120853796501,-0.8953215700676838,-1.6103487771822869,-1.829932555621527,-2.1226990062414477,-1.1772598319058225,-0.8959102092940232,-1.6103557826422727,-2.003606848326533,-1.61035011673214,-1.8366101720840347,-2.3463133905333278,-2.317577637885709,-2.007725864025502,-0.8960466597990906,-2.269730983268662,-1.1775658416484946,-1.3390573238348364,-0.8958457132392628,-1.6103442742027303,-1.6104162876935715,-1.1772703990356044,-0.8958450663916151,-1.3398874575465805,-1.1575037911660044,-2.7409180377251374,-2.0405204219180906,-2.317659513292074,-1.1768512088946252,-2.1226377142763586,-1.1985099820292189,-1.1772758239995134,-1.1784257542924474,-0.8959599170694885,-2.0062869933026586,-2.317984367877438,-1.1772713950306435,-2.0693519254210675,-1.829928004566507,-2.1695887395506546,-0.8958682270441448,-2.3175746382057656,-0.619603784068037,-2.273983097672999,-2.2036573288478176,-2.1694686203244693,-2.3178438386516724,-2.202176434574396,-2.3800043971513434,-2.1925509574213016,-2.317748816785535,-0.04077041907303183,-1.1816790735375704,-2.1169793193858952,-0.8958458776570827,-1.1772731938370027,-2.2702771543067213,-2.1229973943411,-0.7646550860388176,-2.2361726898871157,-1.339801613321552,-0.8958476641211771,-1.1817132954189495,-1.8312690020397961,-2.1694983902822544,-1.3398888988778686,-2.32028938320096,-2.1418740931834592,-2.141831187109753,-2.18470225723415,-1.1773005707683564,-1.8300321546308018,-1.8299330983365172,-1.5468929619999223,-1.3398913924588998,-0.2564260957498248,-1.339922273194569,-1.2213247120002177,-1.610259614823041,-2.1449620980204225,-1.1773305291351142,-1.3398958859530001,-1.185218235502893,-1.2099935220398221,-1.177263722293582,-1.1773115550218285,-1.8365495605236344,-2.1120202664492145,-2.003486259692575,0.7259304323424303,-2.3177225260836396,-1.8299374163472566],\"z\":[-0.13865914589283213,-0.15107337931460132,-0.17613486947758006,-0.1511132169386031,-0.14951545259392135,-0.1384507924439294,0.16348214942721537,-0.177280711545418,-0.22260009248449683,-0.17689729766744028,-0.0898555912029288,2.5445692730731984,-0.13574513838215516,-0.1741535111244011,-0.1767012956007322,-0.22739754589607622,-0.19065230365490302,-0.17675024383007104,-0.17726298758667755,-0.1773494251227988,-0.22268939223769657,0.18720039812815606,0.23905670661716716,0.07129353317293063,-0.177095832411192,-0.1727025294566386,-0.17703511702388963,-0.17740640339784852,-0.16748919312209584,-0.15663491437664248,-0.17620195800371372,-0.17647923998547543,1.5708719940098876,-0.13862053715727457,-0.17376940059729076,-0.17712226301688766,-0.17747694987804538,-0.17673645795631998,-0.1496992201878266,-0.17735824922760918,-0.04228055679631237,-0.13869810383386794,-0.17102445338365063,-0.17733765877019206,-0.17543216610680862,-0.17682457250717243,-0.12585401851301597,-0.13816207217079848,-0.13844913458244815,-0.13843197891316422,-0.13902266665128404,-0.22286325949287755,-0.17705430051816493,-0.18118457894736145,-0.1741581614644698,-0.13822933686890787,3.866649597628169,0.4668507920633986,-0.17592221014506584,-0.16052358920265905,-0.17464150980670554,-0.17747915288931032,-0.17450665070179672,-0.1607347544414083,-0.11455854080684649,-0.12385086309655788,-0.18118800555275522,-0.17735229930827046,-0.0503225775002523,-0.09391427121249132,-0.17748804834608886,-0.13872586567453957,0.47466350435489124,-0.22225066131010557,-0.1562491285285607,-0.138465745435637,-0.2225354466591258,-0.17561206247277067,-0.17480460333267206,-0.15214016827517973,0.3661190750297861,-0.22257084317112366,-0.13862165887509492,-0.173447365138671,-0.13628888331526773,-0.17605188288574897,0.27971116704177695,-0.22173177059985885,-0.14708073578496847,-0.17629883670358765,-0.13668062956315685,-0.17727800212866865,-0.22253407189480612,-0.17748810681986668,-0.22268395840565386,-0.22095767313439366,0.3118036096402259,-0.13888164157284275,-0.10392984658656199,-0.1746556306185149,-0.13884029101716688,-0.17715158106407716,-0.15060227911423094,-0.15188243395525758,-0.13847239732680283,-0.10421607173402178,-0.20927296632440723,-0.22051253455348258,0.3117980198795004,-0.1774698467256356,0.3119286779284071,-0.15678948775563673,0.49255051873433475,-0.14987789115741657,-0.1774381491855471,-0.2154182842346853,-0.1384847808493216,-0.17557208746843958,-0.15650798328225088,-0.14670435750966856,-0.14836253068482544,-0.17976201185426546,-0.17700064682421907,-0.1052159768720869,-0.176822669014639,-0.14973602040949247,-0.15450093968419792,-0.03395730852888693,-0.1363309293180476,0.3479074457145866,-0.22174009677507986,-0.17714195709486405,-0.17690525281836217,-0.2221347112204844,-0.22271199909351694,0.31219291429777396,-0.14286418427545752,3.231074498957405,-0.10315620260036054,-0.21358503295886005,-0.13865831058047678,-0.10306249721325515,1.5685477148410558,-0.17723974673341342,-0.176691448046512,-0.17639252895686366,-0.17637946723735204,0.3123765572703817,0.07380410722095773,-0.17711763707759515,-0.17217650028303402,-0.13833090310703436,-0.14584003604431225,-0.17557029763105847,-0.21825763991780617,-0.17202192882136555,-0.1502475639556805,-0.17212212915671207,-0.11408559536166119,1.1496010380777733,0.31178076602221505,-0.07514107844434972,-0.21799857797010727,-0.1388507198086136,-0.09365526193767432,1.0993015090527412,-0.22268600881281458,-0.17217408375425108,-0.16521399992627103,-0.1764909972247344,-0.22261144572600916,-0.13863772283134265,-0.20244119963078827,8.04917299527804,-0.15780996964258084,0.31565428037241156,0.01548276180323309,-0.14534375102816127,-0.16674678446603264,-0.177064492985562,0.12991079036265724,-0.21675378915644253,-0.10328822450985337,0.3197032997070333,-0.17730144456355346,-0.13499698983653052,-0.137322370309301,-0.14838595114409858,-0.22178084633164272,0.3119632052603022,-0.17982154613967571,-0.15663474974536598,-0.13977561718264386,-0.15068665069920179,0.3158914801812956,0.5885262047940765,2.120149764838679,-0.1272401855362864,0.3255643359935227,2.219305083296841,-0.17755731427111476,-0.15433874622501936,-0.22266817436647907,-0.17732600831329617,-0.13872774431662815,-0.1242543702615168,-0.12772406451060583,3.110384721242669,-0.0985005112237749,-0.22263954048162582,-0.17698505477145354,-0.03310668727153983,-0.15008445501123538,-0.13865834812485653,0.3917099964326889,-0.1326007201178543,-0.13299283534675393,-0.1460789062250661,-0.17621854588044047,-0.13639115455643658,-0.13816377725574505,-0.1803990324976254,-0.1379347292180686,-0.10047031225983614,-0.13680289831742523,0.5185820567701291,-0.09736617227234294,-0.08345892620723382,-0.1608852561245658,-0.1384485053864367,0.5381434282289407,-0.19021346822864674,-0.17740287013695202,-0.17535903963533184,-0.12458532558096252,-0.1283398968782999,-0.15191558057731386,2.48121781588765,0.333531084048028,-0.13845184879931682]},{\"customdata\":[[\"VeChainThor Authority\"],[\"Proof-of-BibleHash\"],[\"SHA-256 + Hive\"],[\"ECC 256K1\"],[\"Leased POS\"]],\"hovertemplate\":\"<b>%{hovertext}</b><br><br>class=%{marker.color}<br>principal component 3=%{x}<br>principal component 2=%{y}<br>principal component 1=%{z}<br>Algorithm=%{customdata[0]}<extra></extra>\",\"hovertext\":[\"Vechain\",\"BiblePay\",\"LitecoinCash\",\"Acute Angle Cloud\",\"Waves\"],\"legendgroup\":\"3\",\"marker\":{\"color\":[3,3,3,3,3],\"coloraxis\":\"coloraxis\",\"symbol\":\"square\"},\"mode\":\"markers\",\"name\":\"3\",\"scene\":\"scene\",\"showlegend\":true,\"type\":\"scatter3d\",\"x\":[7.484116040201988,12.749500636272778,23.02618754634997,10.725745640244803,10.898144742986457],\"y\":[2.276629386769541,3.222590432115104,3.4736177308688636,3.9027784627901556,3.2433233744947536],\"z\":[4.401867401029935,-0.1773419423639604,-0.3797180430316123,-0.33493637113887353,-0.40620274680631696]},{\"customdata\":[[\"TRC10\"]],\"hovertemplate\":\"<b>%{hovertext}</b><br><br>class=%{marker.color}<br>principal component 3=%{x}<br>principal component 2=%{y}<br>principal component 1=%{z}<br>Algorithm=%{customdata[0]}<extra></extra>\",\"hovertext\":[\"BitTorrent\"],\"legendgroup\":\"2\",\"marker\":{\"color\":[2],\"coloraxis\":\"coloraxis\",\"symbol\":\"x\"},\"mode\":\"markers\",\"name\":\"2\",\"scene\":\"scene\",\"showlegend\":true,\"type\":\"scatter3d\",\"x\":[-1.0798948860167197],\"y\":[1.9204381513335929],\"z\":[34.05039659090871]}],                        {\"coloraxis\":{\"colorbar\":{\"title\":{\"text\":\"class\"}},\"colorscale\":[[0.0,\"#0d0887\"],[0.1111111111111111,\"#46039f\"],[0.2222222222222222,\"#7201a8\"],[0.3333333333333333,\"#9c179e\"],[0.4444444444444444,\"#bd3786\"],[0.5555555555555556,\"#d8576b\"],[0.6666666666666666,\"#ed7953\"],[0.7777777777777778,\"#fb9f3a\"],[0.8888888888888888,\"#fdca26\"],[1.0,\"#f0f921\"]]},\"legend\":{\"title\":{\"text\":\"class\"},\"tracegroupgap\":0,\"x\":0,\"y\":1},\"margin\":{\"t\":60},\"scene\":{\"domain\":{\"x\":[0.0,1.0],\"y\":[0.0,1.0]},\"xaxis\":{\"title\":{\"text\":\"principal component 3\"}},\"yaxis\":{\"title\":{\"text\":\"principal component 2\"}},\"zaxis\":{\"title\":{\"text\":\"principal component 1\"}}},\"template\":{\"data\":{\"bar\":[{\"error_x\":{\"color\":\"#2a3f5f\"},\"error_y\":{\"color\":\"#2a3f5f\"},\"marker\":{\"line\":{\"color\":\"#E5ECF6\",\"width\":0.5},\"pattern\":{\"fillmode\":\"overlay\",\"size\":10,\"solidity\":0.2}},\"type\":\"bar\"}],\"barpolar\":[{\"marker\":{\"line\":{\"color\":\"#E5ECF6\",\"width\":0.5},\"pattern\":{\"fillmode\":\"overlay\",\"size\":10,\"solidity\":0.2}},\"type\":\"barpolar\"}],\"carpet\":[{\"aaxis\":{\"endlinecolor\":\"#2a3f5f\",\"gridcolor\":\"white\",\"linecolor\":\"white\",\"minorgridcolor\":\"white\",\"startlinecolor\":\"#2a3f5f\"},\"baxis\":{\"endlinecolor\":\"#2a3f5f\",\"gridcolor\":\"white\",\"linecolor\":\"white\",\"minorgridcolor\":\"white\",\"startlinecolor\":\"#2a3f5f\"},\"type\":\"carpet\"}],\"choropleth\":[{\"colorbar\":{\"outlinewidth\":0,\"ticks\":\"\"},\"type\":\"choropleth\"}],\"contour\":[{\"colorbar\":{\"outlinewidth\":0,\"ticks\":\"\"},\"colorscale\":[[0.0,\"#0d0887\"],[0.1111111111111111,\"#46039f\"],[0.2222222222222222,\"#7201a8\"],[0.3333333333333333,\"#9c179e\"],[0.4444444444444444,\"#bd3786\"],[0.5555555555555556,\"#d8576b\"],[0.6666666666666666,\"#ed7953\"],[0.7777777777777778,\"#fb9f3a\"],[0.8888888888888888,\"#fdca26\"],[1.0,\"#f0f921\"]],\"type\":\"contour\"}],\"contourcarpet\":[{\"colorbar\":{\"outlinewidth\":0,\"ticks\":\"\"},\"type\":\"contourcarpet\"}],\"heatmap\":[{\"colorbar\":{\"outlinewidth\":0,\"ticks\":\"\"},\"colorscale\":[[0.0,\"#0d0887\"],[0.1111111111111111,\"#46039f\"],[0.2222222222222222,\"#7201a8\"],[0.3333333333333333,\"#9c179e\"],[0.4444444444444444,\"#bd3786\"],[0.5555555555555556,\"#d8576b\"],[0.6666666666666666,\"#ed7953\"],[0.7777777777777778,\"#fb9f3a\"],[0.8888888888888888,\"#fdca26\"],[1.0,\"#f0f921\"]],\"type\":\"heatmap\"}],\"heatmapgl\":[{\"colorbar\":{\"outlinewidth\":0,\"ticks\":\"\"},\"colorscale\":[[0.0,\"#0d0887\"],[0.1111111111111111,\"#46039f\"],[0.2222222222222222,\"#7201a8\"],[0.3333333333333333,\"#9c179e\"],[0.4444444444444444,\"#bd3786\"],[0.5555555555555556,\"#d8576b\"],[0.6666666666666666,\"#ed7953\"],[0.7777777777777778,\"#fb9f3a\"],[0.8888888888888888,\"#fdca26\"],[1.0,\"#f0f921\"]],\"type\":\"heatmapgl\"}],\"histogram\":[{\"marker\":{\"pattern\":{\"fillmode\":\"overlay\",\"size\":10,\"solidity\":0.2}},\"type\":\"histogram\"}],\"histogram2d\":[{\"colorbar\":{\"outlinewidth\":0,\"ticks\":\"\"},\"colorscale\":[[0.0,\"#0d0887\"],[0.1111111111111111,\"#46039f\"],[0.2222222222222222,\"#7201a8\"],[0.3333333333333333,\"#9c179e\"],[0.4444444444444444,\"#bd3786\"],[0.5555555555555556,\"#d8576b\"],[0.6666666666666666,\"#ed7953\"],[0.7777777777777778,\"#fb9f3a\"],[0.8888888888888888,\"#fdca26\"],[1.0,\"#f0f921\"]],\"type\":\"histogram2d\"}],\"histogram2dcontour\":[{\"colorbar\":{\"outlinewidth\":0,\"ticks\":\"\"},\"colorscale\":[[0.0,\"#0d0887\"],[0.1111111111111111,\"#46039f\"],[0.2222222222222222,\"#7201a8\"],[0.3333333333333333,\"#9c179e\"],[0.4444444444444444,\"#bd3786\"],[0.5555555555555556,\"#d8576b\"],[0.6666666666666666,\"#ed7953\"],[0.7777777777777778,\"#fb9f3a\"],[0.8888888888888888,\"#fdca26\"],[1.0,\"#f0f921\"]],\"type\":\"histogram2dcontour\"}],\"mesh3d\":[{\"colorbar\":{\"outlinewidth\":0,\"ticks\":\"\"},\"type\":\"mesh3d\"}],\"parcoords\":[{\"line\":{\"colorbar\":{\"outlinewidth\":0,\"ticks\":\"\"}},\"type\":\"parcoords\"}],\"pie\":[{\"automargin\":true,\"type\":\"pie\"}],\"scatter\":[{\"marker\":{\"colorbar\":{\"outlinewidth\":0,\"ticks\":\"\"}},\"type\":\"scatter\"}],\"scatter3d\":[{\"line\":{\"colorbar\":{\"outlinewidth\":0,\"ticks\":\"\"}},\"marker\":{\"colorbar\":{\"outlinewidth\":0,\"ticks\":\"\"}},\"type\":\"scatter3d\"}],\"scattercarpet\":[{\"marker\":{\"colorbar\":{\"outlinewidth\":0,\"ticks\":\"\"}},\"type\":\"scattercarpet\"}],\"scattergeo\":[{\"marker\":{\"colorbar\":{\"outlinewidth\":0,\"ticks\":\"\"}},\"type\":\"scattergeo\"}],\"scattergl\":[{\"marker\":{\"colorbar\":{\"outlinewidth\":0,\"ticks\":\"\"}},\"type\":\"scattergl\"}],\"scattermapbox\":[{\"marker\":{\"colorbar\":{\"outlinewidth\":0,\"ticks\":\"\"}},\"type\":\"scattermapbox\"}],\"scatterpolar\":[{\"marker\":{\"colorbar\":{\"outlinewidth\":0,\"ticks\":\"\"}},\"type\":\"scatterpolar\"}],\"scatterpolargl\":[{\"marker\":{\"colorbar\":{\"outlinewidth\":0,\"ticks\":\"\"}},\"type\":\"scatterpolargl\"}],\"scatterternary\":[{\"marker\":{\"colorbar\":{\"outlinewidth\":0,\"ticks\":\"\"}},\"type\":\"scatterternary\"}],\"surface\":[{\"colorbar\":{\"outlinewidth\":0,\"ticks\":\"\"},\"colorscale\":[[0.0,\"#0d0887\"],[0.1111111111111111,\"#46039f\"],[0.2222222222222222,\"#7201a8\"],[0.3333333333333333,\"#9c179e\"],[0.4444444444444444,\"#bd3786\"],[0.5555555555555556,\"#d8576b\"],[0.6666666666666666,\"#ed7953\"],[0.7777777777777778,\"#fb9f3a\"],[0.8888888888888888,\"#fdca26\"],[1.0,\"#f0f921\"]],\"type\":\"surface\"}],\"table\":[{\"cells\":{\"fill\":{\"color\":\"#EBF0F8\"},\"line\":{\"color\":\"white\"}},\"header\":{\"fill\":{\"color\":\"#C8D4E3\"},\"line\":{\"color\":\"white\"}},\"type\":\"table\"}]},\"layout\":{\"annotationdefaults\":{\"arrowcolor\":\"#2a3f5f\",\"arrowhead\":0,\"arrowwidth\":1},\"autotypenumbers\":\"strict\",\"coloraxis\":{\"colorbar\":{\"outlinewidth\":0,\"ticks\":\"\"}},\"colorscale\":{\"diverging\":[[0,\"#8e0152\"],[0.1,\"#c51b7d\"],[0.2,\"#de77ae\"],[0.3,\"#f1b6da\"],[0.4,\"#fde0ef\"],[0.5,\"#f7f7f7\"],[0.6,\"#e6f5d0\"],[0.7,\"#b8e186\"],[0.8,\"#7fbc41\"],[0.9,\"#4d9221\"],[1,\"#276419\"]],\"sequential\":[[0.0,\"#0d0887\"],[0.1111111111111111,\"#46039f\"],[0.2222222222222222,\"#7201a8\"],[0.3333333333333333,\"#9c179e\"],[0.4444444444444444,\"#bd3786\"],[0.5555555555555556,\"#d8576b\"],[0.6666666666666666,\"#ed7953\"],[0.7777777777777778,\"#fb9f3a\"],[0.8888888888888888,\"#fdca26\"],[1.0,\"#f0f921\"]],\"sequentialminus\":[[0.0,\"#0d0887\"],[0.1111111111111111,\"#46039f\"],[0.2222222222222222,\"#7201a8\"],[0.3333333333333333,\"#9c179e\"],[0.4444444444444444,\"#bd3786\"],[0.5555555555555556,\"#d8576b\"],[0.6666666666666666,\"#ed7953\"],[0.7777777777777778,\"#fb9f3a\"],[0.8888888888888888,\"#fdca26\"],[1.0,\"#f0f921\"]]},\"colorway\":[\"#636efa\",\"#EF553B\",\"#00cc96\",\"#ab63fa\",\"#FFA15A\",\"#19d3f3\",\"#FF6692\",\"#B6E880\",\"#FF97FF\",\"#FECB52\"],\"font\":{\"color\":\"#2a3f5f\"},\"geo\":{\"bgcolor\":\"white\",\"lakecolor\":\"white\",\"landcolor\":\"#E5ECF6\",\"showlakes\":true,\"showland\":true,\"subunitcolor\":\"white\"},\"hoverlabel\":{\"align\":\"left\"},\"hovermode\":\"closest\",\"mapbox\":{\"style\":\"light\"},\"paper_bgcolor\":\"white\",\"plot_bgcolor\":\"#E5ECF6\",\"polar\":{\"angularaxis\":{\"gridcolor\":\"white\",\"linecolor\":\"white\",\"ticks\":\"\"},\"bgcolor\":\"#E5ECF6\",\"radialaxis\":{\"gridcolor\":\"white\",\"linecolor\":\"white\",\"ticks\":\"\"}},\"scene\":{\"xaxis\":{\"backgroundcolor\":\"#E5ECF6\",\"gridcolor\":\"white\",\"gridwidth\":2,\"linecolor\":\"white\",\"showbackground\":true,\"ticks\":\"\",\"zerolinecolor\":\"white\"},\"yaxis\":{\"backgroundcolor\":\"#E5ECF6\",\"gridcolor\":\"white\",\"gridwidth\":2,\"linecolor\":\"white\",\"showbackground\":true,\"ticks\":\"\",\"zerolinecolor\":\"white\"},\"zaxis\":{\"backgroundcolor\":\"#E5ECF6\",\"gridcolor\":\"white\",\"gridwidth\":2,\"linecolor\":\"white\",\"showbackground\":true,\"ticks\":\"\",\"zerolinecolor\":\"white\"}},\"shapedefaults\":{\"line\":{\"color\":\"#2a3f5f\"}},\"ternary\":{\"aaxis\":{\"gridcolor\":\"white\",\"linecolor\":\"white\",\"ticks\":\"\"},\"baxis\":{\"gridcolor\":\"white\",\"linecolor\":\"white\",\"ticks\":\"\"},\"bgcolor\":\"#E5ECF6\",\"caxis\":{\"gridcolor\":\"white\",\"linecolor\":\"white\",\"ticks\":\"\"}},\"title\":{\"x\":0.05},\"xaxis\":{\"automargin\":true,\"gridcolor\":\"white\",\"linecolor\":\"white\",\"ticks\":\"\",\"title\":{\"standoff\":15},\"zerolinecolor\":\"white\",\"zerolinewidth\":2},\"yaxis\":{\"automargin\":true,\"gridcolor\":\"white\",\"linecolor\":\"white\",\"ticks\":\"\",\"title\":{\"standoff\":15},\"zerolinecolor\":\"white\",\"zerolinewidth\":2}}},\"width\":800},                        {\"responsive\": true}                    ).then(function(){\n",
       "                            \n",
       "var gd = document.getElementById('fc8ec6c7-f2b2-40ff-a59f-d41b9e8df3dc');\n",
       "var x = new MutationObserver(function (mutations, observer) {{\n",
       "        var display = window.getComputedStyle(gd).display;\n",
       "        if (!display || display === 'none') {{\n",
       "            console.log([gd, 'removed!']);\n",
       "            Plotly.purge(gd);\n",
       "            observer.disconnect();\n",
       "        }}\n",
       "}});\n",
       "\n",
       "// Listen for the removal of the full notebook cells\n",
       "var notebookContainer = gd.closest('#notebook-container');\n",
       "if (notebookContainer) {{\n",
       "    x.observe(notebookContainer, {childList: true});\n",
       "}}\n",
       "\n",
       "// Listen for the clearing of the current output cell\n",
       "var outputEl = gd.closest('.output');\n",
       "if (outputEl) {{\n",
       "    x.observe(outputEl, {childList: true});\n",
       "}}\n",
       "\n",
       "                        })                };                });            </script>        </div>"
      ]
     },
     "metadata": {},
     "output_type": "display_data"
    }
   ],
   "source": [
    "# Create a 3D-Scatter with the PCA data and the clusters\n",
    "fig = px.scatter_3d(\n",
    "    joined_Df,\n",
    "    x=\"principal component 3\",\n",
    "    y=\"principal component 2\",\n",
    "    z=\"principal component 1\",\n",
    "    color=\"class\",\n",
    "    symbol=\"class\",\n",
    "    width=800,\n",
    "    hover_name=\"CoinName\",\n",
    "    hover_data=[\"Algorithm\"]\n",
    ")\n",
    "fig.update_layout(legend=dict(x=0, y=1))\n",
    "fig.show()"
   ]
  },
  {
   "cell_type": "markdown",
   "metadata": {},
   "source": [
    "### Recommendation"
   ]
  },
  {
   "cell_type": "markdown",
   "metadata": {},
   "source": [
    "#### Out of 532 tradable Cryptocurrencies we have, from unsupervised machine learning analysis we can cluster them together. From above analysis we can see that cryptocurrencies can be categorized into 4 clusters. \n",
    "\n",
    "#### We see an outlier in our dataset in the 3d scatter plot. K-means can be quite sensitive to outliers in a data set. The reason is simply that k-means tries to optimize the sum of squares.And thus a large deviation (such as of an outlier) gets a lot of weight. We can identify the outliers like the unique cryptocurrency in the class #2."
   ]
  },
  {
   "cell_type": "markdown",
   "metadata": {},
   "source": [
    "#### BitTorrent is the only Cryptocurrency in class#2"
   ]
  },
  {
   "cell_type": "code",
   "execution_count": 62,
   "metadata": {},
   "outputs": [
    {
     "data": {
      "text/html": [
       "<div>\n",
       "<style scoped>\n",
       "    .dataframe tbody tr th:only-of-type {\n",
       "        vertical-align: middle;\n",
       "    }\n",
       "\n",
       "    .dataframe tbody tr th {\n",
       "        vertical-align: top;\n",
       "    }\n",
       "\n",
       "    .dataframe thead th {\n",
       "        text-align: right;\n",
       "    }\n",
       "</style>\n",
       "<table border=\"1\" class=\"dataframe\">\n",
       "  <thead>\n",
       "    <tr style=\"text-align: right;\">\n",
       "      <th></th>\n",
       "      <th>CoinName</th>\n",
       "      <th>Algorithm</th>\n",
       "      <th>IsTrading</th>\n",
       "      <th>ProofType</th>\n",
       "      <th>TotalCoinsMined</th>\n",
       "      <th>TotalCoinSupply</th>\n",
       "    </tr>\n",
       "  </thead>\n",
       "  <tbody>\n",
       "    <tr>\n",
       "      <th>BTT</th>\n",
       "      <td>BitTorrent</td>\n",
       "      <td>TRC10</td>\n",
       "      <td>True</td>\n",
       "      <td>DPoS</td>\n",
       "      <td>9.899887e+11</td>\n",
       "      <td>990000000000</td>\n",
       "    </tr>\n",
       "  </tbody>\n",
       "</table>\n",
       "</div>"
      ],
      "text/plain": [
       "       CoinName Algorithm  IsTrading ProofType  TotalCoinsMined  \\\n",
       "BTT  BitTorrent     TRC10       True      DPoS     9.899887e+11   \n",
       "\n",
       "    TotalCoinSupply  \n",
       "BTT    990000000000  "
      ]
     },
     "execution_count": 62,
     "metadata": {},
     "output_type": "execute_result"
    }
   ],
   "source": [
    "crypto_data.loc[crypto_data[\"CoinName\"] == \"BitTorrent\"]"
   ]
  }
 ],
 "metadata": {
  "kernelspec": {
   "display_name": "Python 3",
   "language": "python",
   "name": "python3"
  },
  "language_info": {
   "codemirror_mode": {
    "name": "ipython",
    "version": 3
   },
   "file_extension": ".py",
   "mimetype": "text/x-python",
   "name": "python",
   "nbconvert_exporter": "python",
   "pygments_lexer": "ipython3",
   "version": "3.8.5"
  }
 },
 "nbformat": 4,
 "nbformat_minor": 4
}
